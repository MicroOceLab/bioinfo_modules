{
 "cells": [
  {
   "cell_type": "markdown",
   "metadata": {},
   "source": [
    "# Module: PICRUSt2\n",
    "\n",
    "Metabarcoding analyses target a single marker gene, typically as a proxy for studying community composition. However, this approach is inherently limited in assessing the functional potential of a community since it focuses on just one gene. PICRUSt2 addresses this limitation by leveraging reference genomes associated with 16S rRNA sequences in metabarcoding data. These reference genomes are used to predict functional profiles, providing insights into the potential metabolic capabilities of the community.\n",
    "\n",
    "This notebook outlines the steps involved in running the PICRUSt2 functional prediction pipeline. This notebook includes (1) phylogenetic placement of query reads, (2) prediction of function, (3) prediction of number of 16S genes per representative sequence, (4) inferring metagenome, and (5) inferring pathway abundances.\n",
    "\n",
    "Before using PICRUSt2, take note of its limitations as described <a href=\"https://github.com/picrust/picrust2/wiki/Key-Limitations\">here</a>.\n",
    "\n",
    "Created by: _Microbial Oceanography Laboratory (MOLab)_"
   ]
  },
  {
   "cell_type": "markdown",
   "metadata": {},
   "source": [
    "---\n",
    "## How to Use This Notebook\n",
    "\n",
    "1. Make sure tools are installed already (see below if not yet).\n",
    "2. Activate environment. Replace environment name accordingly.\n",
    "```bash\n",
    "conda activate picrust2-env\n",
    "```\n",
    "2. Open jupyter notebook with the command below and select the notebook.\n",
    "```bash\n",
    "jupyter notebook\n",
    "```\n",
    "3. To run the cells in this notebook, press Shift+Enter."
   ]
  },
  {
   "cell_type": "markdown",
   "metadata": {},
   "source": [
    "---\n",
    "## Tools Used\n",
    "1. **PICRUSt2**\n",
    "\n",
    "To install, run the command below. This creates an environment and installs the PICRUSt2 package at the same time.\n",
    "```bash\n",
    "conda create --name picrust2-env -c bioconda -c conda-forge picrust2\n",
    "```"
   ]
  },
  {
   "cell_type": "markdown",
   "metadata": {},
   "source": [
    "<div class=\"alert alert-block alert-info\">\n",
    "<b>Note:</b> \n",
    "    \n",
    "Some steps are resource-intensive. If it is not feasible for you to run these steps locally, you can access the <a href='https://usegalaxy.eu/'>Galaxy EU webserver</a>.\n",
    "</div>"
   ]
  },
  {
   "cell_type": "markdown",
   "metadata": {},
   "source": [
    "<div class=\"alert alert-block alert-info\">\n",
    "<b>Note:</b> \n",
    "    \n",
    "QIIME2 also offers a plugin to PICRUSt2. Installation procedure for QIIME2 plugin is discussed here: <a href='https://github.com/picrust/picrust2/wiki/q2-picrust2-Tutorial/'>q2 PICRUSt2</a>.\n",
    "</div>"
   ]
  },
  {
   "cell_type": "markdown",
   "metadata": {},
   "source": [
    "---\n",
    "## Starting Files\n",
    "1. Representative sequences, `rep-seqs.fa` (see **QIIME2 Metabarcoding OTU Clustering Module** or **QIIME2 Metabarcoding Denoising Module**)\n",
    "2. Feature table, `feature-table.tsv` (see **QIIME2 Metabarcoding OTU Clustering Module** or **QIIME2 Metabarcoding Denoising Module**)"
   ]
  },
  {
   "cell_type": "markdown",
   "metadata": {},
   "source": [
    "---\n",
    "## Expected Outputs\n",
    "\n",
    "1. Feature tables of function (EC, KO) and/or pathway (KEGG pathways or MetaCyc) counts across samples."
   ]
  },
  {
   "cell_type": "markdown",
   "metadata": {},
   "source": [
    "---\n",
    "## Table of Contents\n",
    " * [**Step 1: Phylogenetic placement**](#Step-1:-Phylogenetic-placement)  \n",
    " * [**Step 2: Hidden-state prediction**](#Step-2:-Hidden-state-prediction)  \n",
    " * [**Step 3: Predicting Number of 16S rRNA genes per representative sequence**](#Step-3:-Predicting-Number-of-16S-rRNA-genes-per-representative-sequence)\n",
    " * [**Step 4: Predict metagenome of the samples**](#Step-4:-Predict-metagenome-of-the-samples)\n",
    " * [**Step 5: Infer pathways**](#Step-5:-Infer-pathways)  \n",
    " * [**Step 6: Add descriptions**](#Step-6:-Add-descriptions)  "
   ]
  },
  {
   "cell_type": "markdown",
   "metadata": {},
   "source": [
    "---\n",
    "# <font color = 'gray'>Phylogenetic Placement</font>"
   ]
  },
  {
   "cell_type": "markdown",
   "metadata": {},
   "source": [
    "This step aligns our representative sequences (OTUs or ASVs) to the sequences in the reference database using HMMER. Afterwards, it runs the phylogenetic placement algorithm (default: EPA-NG) to place the query sequences on the reference phylogenetic tree.\n",
    "\n",
    "If you want to use custom reference files, please refer to this [page](https://github.com/picrust/picrust2/wiki/Sequence-placement)."
   ]
  },
  {
   "cell_type": "markdown",
   "metadata": {},
   "source": [
    "<div class=\"alert alert-block alert-warning\">\n",
    "<b>Warning:</b> \n",
    "\n",
    "This step is resource-intensive."
   ]
  },
  {
   "cell_type": "markdown",
   "metadata": {},
   "source": [
    "| option/input | description |\n",
    "| :-: | :- |\n",
    "| `-s` | Query sequences. |\n",
    "| `-o` | Output tree file. |\n",
    "| `-p` | Number of processes to run in parallel. |"
   ]
  },
  {
   "cell_type": "code",
   "execution_count": null,
   "metadata": {},
   "outputs": [],
   "source": [
    "!place_seqs.py \\\n",
    "    -s rep-seqs.fa \\\n",
    "    -o 1-out_tree.tre \\\n",
    "    -p 1"
   ]
  },
  {
   "cell_type": "markdown",
   "metadata": {},
   "source": [
    "---\n",
    "# <font color = 'gray'>Predicting 16S rRNA Gene Copy</font>"
   ]
  },
  {
   "cell_type": "markdown",
   "metadata": {},
   "source": [
    "This step calculates nearest-sequenced taxon index (NSTI) and the number of 16S genes per predicted genome. \n",
    "\n",
    "The NSTI quantifies how close your query sequences are to its nearest 16S sequence in the reference database. Small NSTI values yields more accurate predictions while larger NSTI values result to less accurate predictions. By default, NSTI values greater than 2 are omitted from the predictions.\n",
    "\n",
    "Additionally, the 16S copy number per predicted genome is used to normalize the abundance of the genes to be predicted in the next steps."
   ]
  },
  {
   "cell_type": "markdown",
   "metadata": {},
   "source": [
    "| option/input | description |\n",
    "| :-: | :- |\n",
    "| `-i` | Trait table {options: 16S, COG, EC, KO, PFAM, TIGRFAM, PHENO}. |\n",
    "| `-t` | Tree file. |\n",
    "| `-o` | Output table. |\n",
    "| `--calculate_NSTI` | Enable calculation of NSTI. |"
   ]
  },
  {
   "cell_type": "code",
   "execution_count": null,
   "metadata": {},
   "outputs": [],
   "source": [
    "!hsp.py \\\n",
    "    -i 16S \\\n",
    "    -t 1-out_tree.tre \\\n",
    "    -o 2-out_16S_NSTI_calc.tsv \\\n",
    "    --calculate_NSTI"
   ]
  },
  {
   "cell_type": "markdown",
   "metadata": {},
   "source": [
    "Let's take a peek at a subset of the output (`2-out_16S_NSTI_calc.tsv`). The table shows the predicted number of 16S genes for every genome that is associated with the representative sequence. Additionally, it also displays the NSTI values."
   ]
  },
  {
   "cell_type": "code",
   "execution_count": null,
   "metadata": {},
   "outputs": [],
   "source": [
    "!cut -d '\t' -f1-5 2-out_16S_NSTI_calc.tsv | head -n 10 | column -t"
   ]
  },
  {
   "cell_type": "markdown",
   "metadata": {},
   "source": [
    "---\n",
    "# <font color = 'gray'>Predicting Gene Family Copy Number</font>"
   ]
  },
  {
   "cell_type": "markdown",
   "metadata": {},
   "source": [
    "This step predicts the abundances of gene families, using Enzyme Commission (EC) system, for each representative sequence with a predicted genome. Alternatively, we could use different pre-calculated count table from the following options: 'EC', '16S', 'COG', 'KO', 'PFAM', 'TIGRFAM', 'PHENO'."
   ]
  },
  {
   "cell_type": "markdown",
   "metadata": {},
   "source": [
    "| option/input | description |\n",
    "| :-: | :- |\n",
    "| `-i` | Trait table {options: 16S, COG, EC, KO, PFAM, TIGRFAM, PHENO}. |\n",
    "| `-t` | Tree file. |\n",
    "| `-o` | Output table. |"
   ]
  },
  {
   "cell_type": "code",
   "execution_count": null,
   "metadata": {},
   "outputs": [],
   "source": [
    "!hsp.py \\\n",
    "    -i EC \\\n",
    "    -t 1-out_tree.tre \\\n",
    "    -o 3-out_EC_prediction.tsv"
   ]
  },
  {
   "cell_type": "markdown",
   "metadata": {},
   "source": [
    "Let's take a peek at a subset of the output (`3-out_EC_prediction.tsv`). From this table, we can see the predicted abundances of each EC group for each representative sequence."
   ]
  },
  {
   "cell_type": "markdown",
   "metadata": {},
   "source": [
    "<div class=\"alert alert-block alert-warning\">\n",
    "<b>Warning:</b> \n",
    "\n",
    "The output below have many columns and may be messy. It may be easier to view it in other softwares (e.g. MS Excel)."
   ]
  },
  {
   "cell_type": "code",
   "execution_count": null,
   "metadata": {},
   "outputs": [],
   "source": [
    "!cut -d '\t' -f1-5 1-output-files/2-out_EC_prediction.tsv | head -n 10 | column -t"
   ]
  },
  {
   "cell_type": "markdown",
   "metadata": {},
   "source": [
    "---\n",
    "# <font color = 'gray'>Predict Metagenome of the Samples</font>"
   ]
  },
  {
   "cell_type": "markdown",
   "metadata": {},
   "source": [
    "From the associated genome for each ASV/OTU, we can now generate the metagenome of our samples with this step. By using the previously calculated 16S copies per genome, we infer the number of genomes, and subsequently, calculate the abundance of gene families for the metagenome. Taking into account the gene copy number of the marker gives a better estimate of the functional landscape of the community."
   ]
  },
  {
   "cell_type": "markdown",
   "metadata": {},
   "source": [
    "<h4>Detailed explanation to normalization:</h4>\n",
    "\n",
    "Consider the table below "
   ]
  },
  {
   "cell_type": "markdown",
   "metadata": {},
   "source": [
    "| Representative Sequences in Sample 1 | Number of 16S Genes in Metabarcoding Data | Number of 16S Genes per Genome | Number of EC 1.1.1.1 per Genome |  Number of EC 1.1.1.2 per Genome |\n",
    "| --- | --- | --- | --- | --- |\n",
    "| OTU1 | 20 | 2 | 5 | 3 |\n",
    "| OTU2 | 35 | 5 | 3 | 6 |\n",
    "| OTU3 | 16 | 4 | 4 | 10 |"
   ]
  },
  {
   "cell_type": "markdown",
   "metadata": {},
   "source": [
    "From the predicted number of 16S genes (generated by Step 3) and the expected number of 16S genes per predicted genome, we can calculate the expected number of genomes for each of our representative sequence."
   ]
  },
  {
   "cell_type": "markdown",
   "metadata": {},
   "source": [
    "| Representative Sequences in Sample 1 | Predicted Number of 16S Genes | Number of 16S Genes per Genome | Expected Number of Genome | Number of EC 1.1.1.1 per Genome |  Number of EC 1.1.1.2 per Genome |\n",
    "| --- | --- | --- | --- | --- | --- |\n",
    "| OTU1 | 20 | 2 | 20/2 = 10 | 5 | 3 |\n",
    "| OTU2 | 35 | 5 | 35/5 = 7 | 3 | 6 |\n",
    "| OTU3 | 16 | 4 | 16/4 = 4 | 4 | 10 |"
   ]
  },
  {
   "cell_type": "markdown",
   "metadata": {},
   "source": [
    "Finally, we can calculate the number of gene family and generate the functional profile of our metagenome."
   ]
  },
  {
   "cell_type": "markdown",
   "metadata": {},
   "source": [
    "| Representative Sequences in Sample 1 | Predicted Number of 16S Genes | Number of 16S Genes per Genome | Expected Number of Genome | Number of EC 1.1.1.1 per Genome |  Number of EC 1.1.1.2 per Genome | Total Number of EC 1.1.1.1 | Total Number of EC 1.1.1.2 |\n",
    "| --- | --- | --- | --- | --- | --- | --- | --- |\n",
    "| OTU1 | 20 | 2 | 20/2 = 10 | 5 | 3 | 5x10 = 50 | 3x10 = 30 | \n",
    "| OTU2 | 35 | 5 | 35/5 = 7 | 3 | 6 | 3x5 = 15 | 6x5 = 30 |\n",
    "| OTU3 | 16 | 4 | 16/4 = 4 | 4 | 10 | 4x4 = 16 | 10x4 = 40 |"
   ]
  },
  {
   "cell_type": "markdown",
   "metadata": {},
   "source": [
    "And so, Sample 1 is predicted to have 81 (50+15+16) copies of EC 1.1.1.1 and 110 (30+30+40) copies of EC 1.1.1.2"
   ]
  },
  {
   "cell_type": "markdown",
   "metadata": {},
   "source": [
    "| option/input | description |\n",
    "| :-: | :- |\n",
    "| `-i` | ASV/OTU feature table. |\n",
    "| `-m` | Table of predicted marker gene copy numbers. |\n",
    "| `-f` | Table of predicted gene family copy numbers. |\n",
    "| `-o` | Output directory. |\n",
    "| `--strat_out` | Output table stratified by sequences as well. |"
   ]
  },
  {
   "cell_type": "code",
   "execution_count": null,
   "metadata": {},
   "outputs": [],
   "source": [
    "!metagenome_pipeline.py \\\n",
    "    -i feature-table.tsv \\\n",
    "    -m 2-out_16S_NSTI_calc.tsv \\\n",
    "    -f 3-out_EC_prediction.tsv \\\n",
    "    -o 4-out_EC_metagenome \\\n",
    "    --strat_out"
   ]
  },
  {
   "cell_type": "markdown",
   "metadata": {},
   "source": [
    "<b>Output Files:</b>\n",
    "1. `seqtab_norm.tsv.gz` - Representative sequences' feature table that is normalized by the predicted number of 16S genes\n",
    "2. `weighted_nsti.tsv.gz` - Table containing weighted NSTI values for each sample\n",
    "3. `pred_metagenome_unstrat.tsv.gz` - Abundance of each gene family per sample\n",
    "4. `pred_metagenome_contrib.tsv.gz` - Shows calculations somewhat similar to the tables above"
   ]
  },
  {
   "cell_type": "code",
   "execution_count": null,
   "metadata": {},
   "outputs": [],
   "source": [
    "#Unzip the output file of Step 4\n",
    "!gunzip 4-out_EC_metagenome/*"
   ]
  },
  {
   "cell_type": "markdown",
   "metadata": {},
   "source": [
    "Let's take a peek at one of the outputs (`pred_metagenome_contrib.tsv`). This table shows the predicted abundance of each EC group contributed by each representative sequence in each sample."
   ]
  },
  {
   "cell_type": "code",
   "execution_count": null,
   "metadata": {},
   "outputs": [],
   "source": [
    "!cut -d '\t' -f1-8 4-out_EC_metagenome/pred_metagenome_contrib.tsv | head -n 10 | column -t"
   ]
  },
  {
   "cell_type": "markdown",
   "metadata": {},
   "source": [
    "Meanwhile, the table below summarizes the predicted total abundance of each EC gene family per sample. You could use this table to compare which function(s) are elevated/depressed between samples."
   ]
  },
  {
   "cell_type": "code",
   "execution_count": null,
   "metadata": {},
   "outputs": [],
   "source": [
    "!cut -d '\t' -f1-11 1-output-files/4-out_EC_metagenome/pred_metagenome_unstrat.tsv | head -n 10 | column -t"
   ]
  },
  {
   "cell_type": "markdown",
   "metadata": {},
   "source": [
    "---\n",
    "# <font color = 'gray'>Infer Pathways</font>"
   ]
  },
  {
   "cell_type": "markdown",
   "metadata": {},
   "source": [
    "The output above gives a gene-level (or at least a proxy to genes) abundance across samples. This may sometimes be difficult to analyze due to its high dimension. As an alternative, PICRUSt2 can aggregate these gene-level functions to pathways. Depending on your goal, this can make it easier because gene functions are now summarized at a higher level."
   ]
  },
  {
   "cell_type": "markdown",
   "metadata": {},
   "source": [
    "| option/input | description |\n",
    "| :-: | :- |\n",
    "| `-i` | Input TSV table of gene family abundances (either the unstratified or stratified output of metagenome_pipeline.py). |\n",
    "| `-o` | Output folder for pathway abundance output. |"
   ]
  },
  {
   "cell_type": "markdown",
   "metadata": {},
   "source": [
    "If you are using a different gene family, make sure to specify the filepath for the gene-family-to-pathway mapping file using the `-m` argument. By default, the mapping file used is `metacyc_path2rxn_struc_filt_pro.txt`. Run `pathway_pipeline.py -h` to find the location of other mapping files."
   ]
  },
  {
   "cell_type": "markdown",
   "metadata": {},
   "source": [
    "<div class=\"alert alert-block alert-warning\">\n",
    "<b>Warning:</b> \n",
    "\n",
    "KEGG is no longer open-source. The mapping files originally provided by PICRUSt2 for KO to KEGG pathway may now be outdated."
   ]
  },
  {
   "cell_type": "code",
   "execution_count": null,
   "metadata": {},
   "outputs": [],
   "source": [
    "!pathway_pipeline.py \\\n",
    "    -i 4-out_EC_metagenome/pred_metagenome_contrib.tsv \\\n",
    "    -o 5-out_pathways"
   ]
  },
  {
   "cell_type": "markdown",
   "metadata": {},
   "source": [
    "Then extract the zipped output."
   ]
  },
  {
   "cell_type": "code",
   "execution_count": null,
   "metadata": {},
   "outputs": [],
   "source": [
    "#Unzip the output file of Step 5\n",
    "!gunzip 5-out_pathways/*"
   ]
  },
  {
   "cell_type": "markdown",
   "metadata": {},
   "source": [
    "The outputs of this step is similar to the previous step (i.e. Predicting the metagenome). However, instead of the abundances of gene families, the predicted pathway abundances are now the ones displayed."
   ]
  },
  {
   "cell_type": "code",
   "execution_count": null,
   "metadata": {},
   "outputs": [],
   "source": [
    "#Check path_abun_contrib.tsv\n",
    "!cut -d '\t' -f1-8 5-out_pathways/path_abun_contrib.tsv | head -n 10 | column -t"
   ]
  },
  {
   "cell_type": "code",
   "execution_count": null,
   "metadata": {},
   "outputs": [],
   "source": [
    "#Check path_abun_unstrat.tsv\n",
    "!cut -d '\t' -f1-11 5-out_pathways/path_abun_unstrat.tsv | head -n 10 | column -t"
   ]
  },
  {
   "cell_type": "markdown",
   "metadata": {},
   "source": [
    "---\n",
    "# <font color = 'gray'>Add descriptions</font>"
   ]
  },
  {
   "cell_type": "markdown",
   "metadata": {},
   "source": [
    "| option/input | description |\n",
    "| :-: | :- |\n",
    "| `-i` | Abundance table. |\n",
    "| `-m` | Gene family or pathway used in the abundance table {options: METACYC,COG,EC,KO,PFAM,TIGRFAM}.\n",
    "| `-o` | Output abundance table with descriptions. |"
   ]
  },
  {
   "cell_type": "markdown",
   "metadata": {},
   "source": [
    "PICRUSt2, by default, only outputs a table with functional IDs presented. To produce a table that is more informative, we could add descriptions (pathway name, EC gene name, etc.) of these functional IDs."
   ]
  },
  {
   "cell_type": "code",
   "execution_count": null,
   "metadata": {},
   "outputs": [],
   "source": [
    "!add_descriptions.py \\\n",
    "    -i 4-out_EC_metagenome/pred_metagenome_unstrat.tsv \\\n",
    "    -m EC \\\n",
    "    -o 4-out_EC_metagenome/pred_metagenome_unstrat_desc.tsv"
   ]
  },
  {
   "cell_type": "code",
   "execution_count": null,
   "metadata": {},
   "outputs": [],
   "source": [
    "!add_descriptions.py \\\n",
    "    -i 5-out_pathways/path_abun_unstrat.tsv \\\n",
    "    -m METACYC \\\n",
    "    -o 5-out_pathways/path_abun_unstrat_desc.tsv"
   ]
  },
  {
   "cell_type": "markdown",
   "metadata": {},
   "source": [
    "<div class=\"alert alert-block alert-info\">\n",
    "<b>Note:</b> \n",
    "    \n",
    "PICRUSt2 does not provide a KEGG pathway-to-description mapping file. If you want to add descriptions for KEGG pathways, run the following commands to generate a custom mapping file. Then use the <code>--custom_map_table</code> argument instead of <code>-m</code>.\n",
    "\n",
    "<br>\n",
    "1. Get the KEGG pathway ID to description mapping from API.\n",
    "    \n",
    "<code>kegg_pathways=$(curl -# https://rest.kegg.jp/list/pathway)</code>\n",
    "\n",
    "<br>\n",
    "2. Replace \"map\" by \"ko\" and redirect to a file.\n",
    "\n",
    "<code>echo -e \"${kegg_pathways}\" | awk -F'\\t' -v OFS='\\t' '{gsub(/map/, \"ko\", $1); print $1,$2}' > kegg_desc_mapping.txt</code>\n",
    "\n",
    "<br>\n",
    "\n",
    "You can also find the KEGG mapping file in the same folder as this notebook. Note, however, that since PICRUSt2 no longer uses the updated version of KEGG, some pathway IDs may have empty descriptions.\n",
    "</div>"
   ]
  },
  {
   "cell_type": "code",
   "execution_count": null,
   "metadata": {},
   "outputs": [],
   "source": []
  }
 ],
 "metadata": {
  "kernelspec": {
   "display_name": "Python 3",
   "language": "python",
   "name": "python3"
  },
  "language_info": {
   "codemirror_mode": {
    "name": "ipython",
    "version": 3
   },
   "file_extension": ".py",
   "mimetype": "text/x-python",
   "name": "python",
   "nbconvert_exporter": "python",
   "pygments_lexer": "ipython3",
   "version": "3.8.10"
  }
 },
 "nbformat": 4,
 "nbformat_minor": 5
}
