{
 "cells": [
  {
   "cell_type": "markdown",
   "id": "8bd600d9",
   "metadata": {},
   "source": [
    "# Module: DADA2 Denoising in QIIME2\n",
    "\n",
    "This notebook is a guide on working with QIIME2 with **raw paired-end demultiplexed reads** as the starting dataset. This notebook includes quality checking of raw reads, primer trimming, and denoising.\n",
    "\n",
    "This module was built with the following as the main references: [LangilleLab SOP](https://github.com/LangilleLab/microbiome_helper/wiki/Amplicon-SOP-v2-(qiime2-2020.8)), [\"Moving pictures\" Tutorial](https://docs.qiime2.org/2024.10/tutorials/moving-pictures/), and [\"Atacama soil microbiome\" tutorial](https://docs.qiime2.org/2024.10/tutorials/atacama-soils/).\n",
    "\n",
    "Created by: _Microbial Oceanography Laboratory (MOLab)_"
   ]
  },
  {
   "cell_type": "markdown",
   "id": "bbfd54af",
   "metadata": {},
   "source": [
    "---\n",
    "## How to Use This Notebook\n",
    "\n",
    "1. Activate conda environment in terminal window. Make sure to change the environment name to what is applicable in your case.\n",
    "```bash\n",
    "conda activate qiime2-2023.2\n",
    "```\n",
    "2. Open jupyter notebook with the command below and select the notebook.\n",
    "```bash\n",
    "jupyter notebook\n",
    "```\n",
    "3. To run the cells in this notebook, press Shift+Enter."
   ]
  },
  {
   "cell_type": "markdown",
   "id": "394aaa3b",
   "metadata": {},
   "source": [
    "---\n",
    "## Tools Used\n",
    "1. **QIIME 2 Amplicon Distribution**\n",
    "    - Installation procedure can be found here: [QIIME2 native installation](https://docs.qiime2.org/2024.10/install/native/)"
   ]
  },
  {
   "cell_type": "markdown",
   "id": "736a4b93",
   "metadata": {},
   "source": [
    "---\n",
    "## Starting Files \n",
    "\n",
    "1. Paired-end demultiplexed FASTQ dataset imported as QIIME2 artifact (filename: `seqs.qza`, location: `0-raw-sequences`)\n",
    "2. Directories to organize the files. Run the command below:"
   ]
  },
  {
   "cell_type": "code",
   "execution_count": null,
   "id": "147b3297",
   "metadata": {},
   "outputs": [],
   "source": [
    "!mkdir \\\n",
    "0-raw-sequences \\\n",
    "1-cleanup"
   ]
  },
  {
   "cell_type": "markdown",
   "id": "32810822",
   "metadata": {},
   "source": [
    "---\n",
    "## Expected Outputs\n",
    "\n",
    "1. `.qza` of type `FeatureTable[Frequency]`\n",
    "2. `.qza` of type `FeatureData[Sequence]`"
   ]
  },
  {
   "cell_type": "markdown",
   "id": "b517d76e",
   "metadata": {},
   "source": [
    "---\n",
    "## Table of Contents\n",
    " * [**Data Processing**](#Data-Processing)  \n",
    "     * [Inspecting raw data](#Inspecting-raw-data)\n",
    "     * [Trimming primers](#Trim-primers)\n",
    "     * [Denoising](#Denoising-with-DADA2)\n",
    "---"
   ]
  },
  {
   "cell_type": "markdown",
   "id": "559d85be",
   "metadata": {},
   "source": [
    "# <font color = 'gray'>Data Processing</font>"
   ]
  },
  {
   "cell_type": "markdown",
   "id": "03c94500",
   "metadata": {},
   "source": [
    "This stage involves the following steps only:\n",
    "1. Trim primers\n",
    "2. Denoising with DADA2\n",
    "\n",
    "The DADA2 workflow wraps read merging, QC, dereplication, and chimera filtering, which is why unlike the OTU clustering workflow, there is no need to specify commands for those steps."
   ]
  },
  {
   "cell_type": "markdown",
   "id": "826de746",
   "metadata": {},
   "source": [
    "### Inspecting raw data\n",
    "\n",
    "Our sequences are already *demultiplexed*, meaning they are already separated into different samples. We can use the `demux` plugin instead to visualize our sequences. **QIIME visualizations** have the extension '.qzv'. The .qzv files can be viewed in  http://view.qiime2.org or we can import the `qiime2` module to view the visualizations inline."
   ]
  },
  {
   "cell_type": "code",
   "execution_count": null,
   "id": "07403694",
   "metadata": {},
   "outputs": [],
   "source": [
    "# Make summary of the QIIME2 artifact (.qza file)\n",
    "!qiime demux summarize \\\n",
    "    --i-data 0-raw-sequences/seqs.qza \\\n",
    "    --p-n 100000 \\\n",
    "    --o-visualization 0-raw-sequences/seqs.qzv"
   ]
  },
  {
   "cell_type": "code",
   "execution_count": null,
   "id": "e541e4b3",
   "metadata": {},
   "outputs": [],
   "source": [
    "import qiime2 as q2\n",
    "# Visualize\n",
    "q2.Visualization.load('0-raw-sequences/seqs.qzv')"
   ]
  },
  {
   "cell_type": "markdown",
   "id": "c0fb5dfb",
   "metadata": {},
   "source": [
    "### Trim primers\n",
    "To remove the primers in our sequences, we use the `cutadapt` plugin. The primers used were E572F/E1009R, which have <b>18bp</b> and <b>20bp</b> lengths, respectively. Removing the primers is important especially if there are ambiguous bases, which might get confused as chimeric or low quality positions. You can explore more about the primer sequences, length, and predicted amplicon size in this excellent app <a href=\"https://app.pr2-primers.org/\">PR-2 Primers</a>."
   ]
  },
  {
   "cell_type": "markdown",
   "id": "47f2631d",
   "metadata": {},
   "source": [
    "<div class=\"alert alert-block alert-info\">\n",
    "<b>Note:</b> \n",
    "    \n",
    "If you are not using the E572F/E1009R primer pairs, you must replace the sequences indicated in the <code>--p-front-f</code> and <code>--p-front-r</code> options.\n",
    "</div>"
   ]
  },
  {
   "cell_type": "markdown",
   "id": "7b8c0147",
   "metadata": {},
   "source": [
    "<div class=\"alert alert-block alert-info\">\n",
    "<b>Tip:</b> \n",
    "    \n",
    "Inspect the standard output of the <code>cutadapt trim-paired</code> plugin. Look for any unusual occurrences and adjust the options accordingly. For instance, if a large fraction of reads are discarded, you can either increase <code>--p-error-rate</code> or disable <code>--p-discard-untrimmed</code> (albeit you may end up with lower quality sequences).\n",
    "</div>"
   ]
  },
  {
   "cell_type": "code",
   "execution_count": null,
   "id": "57314acd",
   "metadata": {},
   "outputs": [],
   "source": [
    "!qiime cutadapt trim-paired \\\n",
    "    --i-demultiplexed-sequences 0-raw-sequences/seqs.qza \\\n",
    "    --p-front-f CYGCGGTAATTCCAGCTC  \\\n",
    "    --p-front-r AYGGTATCTRATCRTCTTYG  \\\n",
    "    --p-error-rate 0 \\\n",
    "    --p-discard-untrimmed \\\n",
    "    --o-trimmed-sequences 1-cleanup/1-primer-trimmed-seqs.qza \\\n",
    "    --verbose"
   ]
  },
  {
   "cell_type": "code",
   "execution_count": null,
   "id": "dfa27135",
   "metadata": {},
   "outputs": [],
   "source": [
    "#Check after trimming primers\n",
    "!qiime demux summarize \\\n",
    "    --i-data 1-cleanup/1-primer-trimmed-seqs.qza \\\n",
    "    --p-n 100000 \\\n",
    "    --o-visualization 1-cleanup/1-primer-trimmed-seqs.qzv"
   ]
  },
  {
   "cell_type": "code",
   "execution_count": null,
   "id": "8bb33d15",
   "metadata": {},
   "outputs": [],
   "source": [
    "#Visualize\n",
    "import qiime2 as q2\n",
    "q2.Visualization.load('1-cleanup/1-primer-trimmed-seqs.qzv')"
   ]
  },
  {
   "cell_type": "markdown",
   "id": "a7834c15",
   "metadata": {},
   "source": [
    "### Denoising with DADA2\n",
    "\n",
    "There are two denoising methods available in QIIME2 namely, Deblur and DADA2. For this workflow, the DADA2 denoiser will be used. This tool encompasses several steps, but the QIIME2 plugin wraps these steps into a single command making it easier to execute. If you are interested in running the DADA2 pipeline in R, you can check this tutorial: [DADA2 Pipeline Tutorial](https://benjjneb.github.io/dada2/tutorial_1_8.html)"
   ]
  },
  {
   "cell_type": "markdown",
   "id": "53705ba7",
   "metadata": {},
   "source": [
    "<div class=\"alert alert-block alert-info\">\n",
    "<b>Note:</b> \n",
    "    \n",
    "Change the truncation length indicated in the <code>--p-trunc-len-f</code> (truncation of forward reads starting at the 3' end) and <code>--p-trunc-len-r</code> (truncation of reverse reads starting at the 3' end) options. You may base this on the quality report of the primer-trimmed sequences.\n",
    "</div>"
   ]
  },
  {
   "cell_type": "code",
   "execution_count": null,
   "id": "b2e36bef",
   "metadata": {},
   "outputs": [],
   "source": [
    "#Denoising with dada2\n",
    "!qiime dada2 denoise-paired \\\n",
    "    --i-demultiplexed-seqs 1-cleanup/1-primer-trimmed-seqs.qza \\\n",
    "    --p-trunc-len-f 258 \\\n",
    "    --p-trunc-len-r 237 \\\n",
    "    --o-table 1-cleanup/2-table-dada2.qza \\\n",
    "    --o-representative-sequences 1-cleanup/2-rep-seqs-dada2.qza \\\n",
    "    --o-denoising-stats 1-cleanup/2-stats-dada2.qza \\\n",
    "    --p-n-threads 0 \\\n",
    "    --verbose"
   ]
  },
  {
   "cell_type": "markdown",
   "id": "d821b68a",
   "metadata": {},
   "source": [
    "Create a table the summarizes the sequence count after each step of the `dada2 denoise-paired` plugin."
   ]
  },
  {
   "cell_type": "markdown",
   "id": "081991e7",
   "metadata": {},
   "source": [
    "<div class=\"alert alert-block alert-info\">\n",
    "<b>Note:</b> \n",
    "    \n",
    "Inspect the number of reads retained after running the code above. Adjust the command parameters if too many reads are discarded.\n",
    "</div>"
   ]
  },
  {
   "cell_type": "code",
   "execution_count": null,
   "id": "59503688",
   "metadata": {},
   "outputs": [],
   "source": [
    "#Creating a visualization file of the denoising stats output\n",
    "!qiime metadata tabulate \\\n",
    "    --m-input-file 1-cleanup/2-stats-dada2.qza \\\n",
    "    --o-visualization 1-cleanup/2-stats-dada2.qzv"
   ]
  },
  {
   "cell_type": "code",
   "execution_count": null,
   "id": "5570079c",
   "metadata": {},
   "outputs": [],
   "source": [
    "#Visualize\n",
    "import qiime2 as q2\n",
    "q2.Visualization.load('1-cleanup/2-stats-dada2.qzv')"
   ]
  },
  {
   "cell_type": "markdown",
   "id": "7d4057fa",
   "metadata": {},
   "source": [
    "Check the output feature table."
   ]
  },
  {
   "cell_type": "code",
   "execution_count": null,
   "id": "da6301a7",
   "metadata": {},
   "outputs": [],
   "source": [
    "#Creating a visualization file of the feature table\n",
    "!qiime feature-table summarize \\\n",
    "    --i-table 1-cleanup/2-table-dada2.qza \\\n",
    "    --o-visualization 1-cleanup/2-table-dada2.qzv \\\n",
    "    --m-sample-metadata-file metadata.txt"
   ]
  },
  {
   "cell_type": "code",
   "execution_count": null,
   "id": "1b03d96b",
   "metadata": {},
   "outputs": [],
   "source": [
    "#Visualize\n",
    "import qiime2 as q2\n",
    "q2.Visualization.load('1-cleanup/2-table-dada2.qzv')"
   ]
  },
  {
   "cell_type": "markdown",
   "id": "4a15610e",
   "metadata": {},
   "source": [
    "Check the output denoised sequences."
   ]
  },
  {
   "cell_type": "markdown",
   "id": "52dfc029",
   "metadata": {},
   "source": [
    "<div class=\"alert alert-block alert-info\">\n",
    "<b>Note:</b> \n",
    "    \n",
    "Inspect the lengths of the denoise and joined sequences. Are these within the expected size range of your target amplicon?\n",
    "</div>"
   ]
  },
  {
   "cell_type": "code",
   "execution_count": null,
   "id": "448b2b7d",
   "metadata": {},
   "outputs": [],
   "source": [
    "#Creating a visualization file of the ASV sequences\n",
    "!qiime feature-table tabulate-seqs \\\n",
    "    --i-data 1-cleanup/2-rep-seqs-dada2.qza \\\n",
    "    --o-visualization 1-cleanup/2-rep-seqs-dada2.qzv"
   ]
  },
  {
   "cell_type": "code",
   "execution_count": null,
   "id": "9ddc3439",
   "metadata": {},
   "outputs": [],
   "source": [
    "#Visualize\n",
    "import qiime2 as q2\n",
    "q2.Visualization.load('1-cleanup/2-rep-seqs-dada2.qzv')"
   ]
  }
 ],
 "metadata": {
  "kernelspec": {
   "display_name": "Python 3 (ipykernel)",
   "language": "python",
   "name": "python3"
  },
  "language_info": {
   "codemirror_mode": {
    "name": "ipython",
    "version": 3
   },
   "file_extension": ".py",
   "mimetype": "text/x-python",
   "name": "python",
   "nbconvert_exporter": "python",
   "pygments_lexer": "ipython3",
   "version": "3.8.15"
  }
 },
 "nbformat": 4,
 "nbformat_minor": 5
}
