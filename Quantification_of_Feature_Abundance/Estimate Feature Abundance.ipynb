{
 "cells": [
  {
   "cell_type": "markdown",
   "metadata": {},
   "source": [
    "# Module: Estimate Feature Abundance\n",
    "\n",
    "Estimating the abundance of assembled reads provides insight into the relative representation of specific sequences within a sample. This is crucial in many downstream analyses looking to assess, for example, the abundances of genes and taxonomic groups. Additionally, contig coverage information is used by several binning tools to improve binning performance.\n",
    "\n",
    "In this module, we will explore various tools that you can use to estimate the abundances of assembled sequences.\n",
    "\n",
    "Created by: _Microbial Oceanography Laboratory (MOLab)_"
   ]
  },
  {
   "cell_type": "markdown",
   "metadata": {},
   "source": [
    "---\n",
    "## How to Use This Notebook\n",
    "\n",
    "1. Make sure tools are installed already (see below if not yet).\n",
    "2. Activate environment. Replace environment name accordingly.\n",
    "```bash\n",
    "conda activate est-contig-abund-env\n",
    "```\n",
    "2. Open jupyter notebook with the command below and select the notebook.\n",
    "```bash\n",
    "jupyter notebook\n",
    "```\n",
    "3. To run the cells in this notebook, press Shift+Enter."
   ]
  },
  {
   "cell_type": "markdown",
   "metadata": {},
   "source": [
    "---\n",
    "## Tools Used\n",
    "1. **MetaBAT2**\n",
    "2. **RSEM**\n",
    "3. **Trinity**\n",
    "\n",
    "To install tools (1) - (2), find the `est-contig-abund.yaml` file located in the same folder as this notebook (in repository). Then run the command below in the terminal:\n",
    "```bash\n",
    "conda env create -f est-contig-abund.yaml\n",
    "```\n",
    "\n",
    "To install tool (3), a Docker image of Trinity can be pulled. Instructions are outlined here: [Trinity Docker Installation](https://github.com/trinityrnaseq/trinityrnaseq/wiki/Trinity-in-Docker)."
   ]
  },
  {
   "cell_type": "markdown",
   "metadata": {},
   "source": [
    "---\n",
    "## Starting Files \n",
    "\n",
    "1. Assembly FASTA file (see **Assembly Module**).\n",
    "2. Alignment of reads to assembly (BAM; see **Mapping Module**)."
   ]
  },
  {
   "cell_type": "markdown",
   "metadata": {},
   "source": [
    "---\n",
    "## Expected Outputs\n",
    "\n",
    "Format of output depends on tool used, but in general, the output will be a tabular form containing per-contig abundance estimates."
   ]
  },
  {
   "cell_type": "markdown",
   "metadata": {},
   "source": [
    "---\n",
    "## Table of Contents\n",
    " * [**Built-in MetaBAT2 Estimator**](#Built-in-MetaBAT2-Estimator)\n",
    " * [**Wrapper Scripts in Trinity**](#Wrapper-Scripts-in-Trinity)\n",
    " * [**featureCounts**](#featureCounts)"
   ]
  },
  {
   "cell_type": "markdown",
   "metadata": {},
   "source": [
    "----\n",
    "# <font color = 'gray'>Built-in MetaBAT2 Estimator</font>"
   ]
  },
  {
   "cell_type": "markdown",
   "metadata": {},
   "source": [
    "If you're working with shotgun metagenomics data and intend to cluster contigs into bins (see **Binning Module**), you can simply use a script packaged with the MetaBAT2 library. The input required is a list of BAM file(s). A sample code is shown below."
   ]
  },
  {
   "cell_type": "code",
   "execution_count": null,
   "metadata": {},
   "outputs": [],
   "source": [
    "!jgi_summarize_bam_contig_depths \\\n",
    "    --outputDepth bbmap_out/summ_depth.txt \\\n",
    "    *.bam"
   ]
  },
  {
   "cell_type": "markdown",
   "metadata": {},
   "source": [
    "----\n",
    "# <font color = 'gray'>Wrapper Scripts in Trinity</font>"
   ]
  },
  {
   "cell_type": "markdown",
   "metadata": {},
   "source": [
    "For RNA-seq data assembled using Trinity (see **Assembly Module**), a wrapper script (`abundance_estimates_to_matrix.pl`) to estimate assembled transcript abundance is also provided. \n",
    "\n",
    "In the code below, we assume that the reads have been aligned using the `align_and_estimate_abundance.pl` (see **Mapping Module**) wrapper script and RSEM as the estimation method. Before you can run abundance estimation, you must collate the path to the per-sample mapping outputs and store it in a file named `rsem_quant_outputs.txt`. A sample file with five samples is shown below - note that the paths are line-separated."
   ]
  },
  {
   "cell_type": "markdown",
   "metadata": {},
   "source": [
    "Example content of `rsem_quant_outputs.txt`:\n",
    "\n",
    "```\n",
    "/home/user/modules/Quantification_of_Contig_Abundance/4-mapping/T1xNT1_a/rsem/RSEM.isoforms.results\n",
    "/home/user/modules/Quantification_of_Contig_Abundance/4-mapping/T1xNT1_b/rsem/RSEM.isoforms.results\n",
    "/home/user/modules/Quantification_of_Contig_Abundance/4-mapping/T1xNT1_c/rsem/RSEM.isoforms.results\n",
    "/home/user/modules/Quantification_of_Contig_Abundance/4-mapping/T2xNT2_D/rsem/RSEM.isoforms.results\n",
    "/home/user/modules/Quantification_of_Contig_Abundance/4-mapping/T2xNT2_V/rsem/RSEM.isoforms.results\n",
    "\n",
    "```"
   ]
  },
  {
   "cell_type": "markdown",
   "metadata": {},
   "source": [
    "<div class=\"alert alert-block alert-warning\">\n",
    "<b>Warning</b> \n",
    "\n",
    "For this step, to avoid any potential errors, it is recommended that the file paths contain no spaces.\n",
    "\n",
    "</div>"
   ]
  },
  {
   "cell_type": "markdown",
   "metadata": {},
   "source": [
    "We also specify `basedir_index -3` to set the third from the last directory path (e.g. `T1xNT1_a`, `T1xNT1_b`, ...) as the sample prefix name. Adjust this accordingly depending on your folder structure."
   ]
  },
  {
   "cell_type": "code",
   "execution_count": null,
   "metadata": {},
   "outputs": [],
   "source": [
    "%%bash\n",
    "\n",
    "mkdir -p \"build_matrix\"\n",
    "\n",
    "docker run --rm -v \"$(pwd)\":\"$(pwd)\" trinityrnaseq/trinityrnaseq \\\n",
    "/usr/local/bin/util/abundance_estimates_to_matrix.pl \\\n",
    "    --name_sample_by_basedir \\\n",
    "    --basedir_index -3 \\\n",
    "    --est_method RSEM \\\n",
    "    --gene_trans_map none \\\n",
    "    --quant_files \"$(pwd)/rsem_quant_outputs.txt\" \\\n",
    "    --out_prefix \"$(pwd)/build_matrix/exp_matrix\""
   ]
  },
  {
   "cell_type": "markdown",
   "metadata": {},
   "source": [
    "The outputs are inside the `build_matrix/` folder. It includes a non-normalized counts matrix (`exp_matrix.isoform.counts.matrix`), TMM-normalized counts matrix (`exp_matrix.isoform.TMM.EXPR.matrix`), and TPM-normalized counts matrix (`exp_matrix.isoform.TPM`)."
   ]
  },
  {
   "cell_type": "markdown",
   "metadata": {},
   "source": [
    "----\n",
    "# <font color = 'gray'>featureCounts</font>"
   ]
  },
  {
   "cell_type": "markdown",
   "metadata": {},
   "source": [
    "For estimation of the abundance of predicted genes (see **Contig Level Functional Annotation Module**), a straightforward approach is by using `featureCounts`. A sample usage and description of parameters is shown below."
   ]
  },
  {
   "cell_type": "markdown",
   "metadata": {},
   "source": [
    "<div class=\"alert alert-block alert-warning\">\n",
    "<b>Warning</b> \n",
    "\n",
    "In RNA-seq data where gene isoforms are present, <code>featureCounts</code> is not an ideal for estimation of transcript abundance since it does not handle multi-mapping reads (i.e. reads that map to multiple locations).\n",
    "\n",
    "</div>"
   ]
  },
  {
   "cell_type": "markdown",
   "metadata": {},
   "source": [
    "| argument | description |\n",
    "| :-: | :- |\n",
    "| `-T` | Number of threads. |\n",
    "| `-a` | Feature file (GTF/GFF). |\n",
    "| `-o` | Output count table. |\n",
    "| `-t` | Feature type. The selection of feature type can be found in the third column of your feature file. |\n",
    "| `-g` | Attribute type. You can select the attribute type from the attributes available in the last column of the feature file. Features will be grouped into meta-features specified in this argument. |\n",
    "| `-p` | Alignment files. |"
   ]
  },
  {
   "cell_type": "code",
   "execution_count": null,
   "metadata": {},
   "outputs": [],
   "source": [
    "!featureCounts \\\n",
    "    -T 4 \\\n",
    "    -a feature.gff \\\n",
    "    -o featureCounts_out.tsv \\\n",
    "    -t \"CDS\" \\\n",
    "    -g \"gene_id\" \\\n",
    "    -p *.bam"
   ]
  }
 ],
 "metadata": {
  "kernelspec": {
   "display_name": "Python 3",
   "language": "python",
   "name": "python3"
  },
  "language_info": {
   "codemirror_mode": {
    "name": "ipython",
    "version": 3
   },
   "file_extension": ".py",
   "mimetype": "text/x-python",
   "name": "python",
   "nbconvert_exporter": "python",
   "pygments_lexer": "ipython3",
   "version": "3.8.10"
  }
 },
 "nbformat": 4,
 "nbformat_minor": 4
}
