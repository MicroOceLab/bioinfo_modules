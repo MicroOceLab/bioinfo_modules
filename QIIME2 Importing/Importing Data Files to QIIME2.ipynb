{
 "cells": [
  {
   "cell_type": "markdown",
   "metadata": {},
   "source": [
    "# Module: Importing Data Files to QIIME2\n",
    "\n",
    "In QIIME2, native file formats (i.e. artifacts (`.qza`) and visualizations (`.qzv`)) are utilized instead of the more common file formats that we are familiar with (e.g. FASTA, FASTQ, etc). In these QIIME2-native files, other than the data itself, several metadata are attached as well such as type, format, and provenance. This has several advantages since it somewhat standardizes the formats and we are also able to trace back how the file was generated.\n",
    "\n",
    "This module will demonstrate how to import common bioinformatics data files into QIIME2 formats.\n",
    "\n",
    "The following references were used for this module: [QIIME2 core concepts](https://docs.qiime2.org/2024.10/concepts/#), [QIIME2 importing](https://docs.qiime2.org/2024.10/tutorials/importing/).\n",
    "\n",
    "Created by: _Microbial Oceanography Laboratory (MOLab)_"
   ]
  },
  {
   "cell_type": "markdown",
   "metadata": {},
   "source": [
    "---\n",
    "## How to Use This Notebook\n",
    "\n",
    "1. Activate conda environment in terminal window. Make sure to change the environment name to what is applicable in your case.\n",
    "```bash\n",
    "conda activate qiime2-2023.2\n",
    "```\n",
    "2. Open jupyter notebook with the command below and select the notebook.\n",
    "```bash\n",
    "jupyter notebook\n",
    "```\n",
    "3. To run the cells in this notebook, press Shift+Enter."
   ]
  },
  {
   "cell_type": "markdown",
   "metadata": {},
   "source": [
    "---\n",
    "## Tools Used\n",
    "1. **QIIME 2 Amplicon Distribution**\n",
    "    - Installation procedure can be found here: [QIIME2 native installation](https://docs.qiime2.org/2024.10/install/native/)"
   ]
  },
  {
   "cell_type": "markdown",
   "metadata": {},
   "source": [
    "---\n",
    "## Starting Files \n",
    "\n",
    "1. Paired-end demultiplexed FASTQ files.\n",
    "2. Single-end demultiplexed FASTQ files.\n",
    "3. Other QIIME2-importable formats."
   ]
  },
  {
   "cell_type": "markdown",
   "metadata": {},
   "source": [
    "---\n",
    "## Expected Outputs\n",
    "\n",
    "1. `.qza` of type `SampleData[PairedEndSequencesWithQuality]`\n",
    "2. `.qza` of type `SampleData[SequencesWithQuality]`\n",
    "3. Other `.qza` types resulting from `qiime tools import`"
   ]
  },
  {
   "cell_type": "markdown",
   "metadata": {},
   "source": [
    "---\n",
    "## Table of Contents\n",
    " * [**Importing Paired-End Demultiplexed FASTQ Files**](#Importing-Paired-End-Demultiplexed-FASTQ-Files)\n",
    "     * [Creating paired-end manifest file](#Creating-paired-end-manifest-file)\n",
    "     * [Importing paired-end demultiplexed data](#Importing-paired-end-demultiplexed-data)\n",
    " * [**Importing Single-End Demultiplexed FASTQ Files**](#Importing-Single-End-Demultiplexed-FASTQ-Files)\n",
    "     * [Creating single-end manifest file](#Creating-single-end-manifest-file)\n",
    "     * [Importing single-end demultiplexed data](#Importing-single-end-demultiplexed-data)\n",
    " * [**Importing Other Formats**](#Importing-Other-Formats)"
   ]
  },
  {
   "cell_type": "markdown",
   "metadata": {},
   "source": [
    "---\n",
    "# <font color = 'gray'>Importing Paired-End Demultiplexed FASTQ Files</font>\n",
    "\n",
    "Reference: [Importing through FASTQ manifest formats](https://docs.qiime2.org/2024.10/tutorials/importing/#fastq-manifest-formats)."
   ]
  },
  {
   "cell_type": "markdown",
   "metadata": {},
   "source": [
    "### Creating paired-end manifest file"
   ]
  },
  {
   "cell_type": "markdown",
   "metadata": {},
   "source": [
    "For MOLab, most raw metabarcoding data will be of this form. As such, the first step is to create a manifest file summarizing the sample names, and absolute file path of the forward and reverse reads. The Python code below generates a file named `manifest.txt` which should contain these information."
   ]
  },
  {
   "cell_type": "markdown",
   "metadata": {},
   "source": [
    "<div class=\"alert alert-block alert-info\">\n",
    "<b>Note:</b> \n",
    "    \n",
    "The code below assumes that:\n",
    "    <li> The FASTQ files are placed inside a folder named <code>0-raw-sequences</code> which is located in the same path as this Jupyter notebook.\n",
    "    <li> Forward and reverse read FASTQ filenames are separated by underscores where the first block contains the sample ID.\n",
    "    <li> The filenames should end with <code>\\_1.fastq.gz</code> and <code>\\_2.fastq.gz</code>, respectively. If not, you must reformat the filenames first (or edit the code below).\n",
    "    \n",
    "An example of a pair of valid filenames is: <code>SRR123_F_1.fastq.gz</code> (forward reads) and <code>SRR123_R_2.fastq.gz</code> (reverse reads).\n",
    "</div>"
   ]
  },
  {
   "cell_type": "code",
   "execution_count": null,
   "metadata": {},
   "outputs": [],
   "source": [
    "import pandas as pd\n",
    "import glob\n",
    "import os\n",
    "\n",
    "sampleIDs, forwardpaths, reversepaths = [], [], []\n",
    "fpath= os.getcwd()+\"/0-raw-sequences/\"\n",
    "\n",
    "for filepath in (glob.glob(fpath+\"*.gz\")):\n",
    "    sample = filepath.split(\"/\")[-1].rsplit(\"_\", 2)[0]\n",
    "\n",
    "    if sample not in sampleIDs:\n",
    "        sampleIDs.append(sample)\n",
    "    if \"_1.fastq.gz\" in filepath:\n",
    "        forwardpaths.append(filepath)\n",
    "    elif \"_2.fastq.gz\" in filepath:\n",
    "        reversepaths.append(filepath)\n",
    "\n",
    "manifest =  pd.DataFrame({'sampleID': sorted(sampleIDs), 'forward-absolute-filepath': sorted(forwardpaths), 'reverse-absolute-filepath':sorted(reversepaths)} ) \n",
    "\n",
    "with open('manifest.txt', 'w') as m:\n",
    "    print(manifest.to_csv(sep='\\t', index=False, header=True), file=m)"
   ]
  },
  {
   "cell_type": "markdown",
   "metadata": {},
   "source": [
    "### Importing paired-end demultiplexed data"
   ]
  },
  {
   "cell_type": "markdown",
   "metadata": {},
   "source": [
    "Check `manifest.txt`. It should containg three columns: `sampleID`, `forward-absolute-filepath`, and `reverse-absolute-filepath`. Verify if the correct filepaths have been listed. \n",
    "\n",
    "If there is no issue, you can now use the `qiime tools import` command to compile the FASTQ files into a QIIME2 artifact. Since a manifest file for paired-end demultiplexed data was utilized, `--type 'SampleData[PairedEndSequencesWithQuality]'` was set.\n",
    "\n",
    "The imported file is indicated in the `--output-path` argument."
   ]
  },
  {
   "cell_type": "code",
   "execution_count": null,
   "metadata": {},
   "outputs": [],
   "source": [
    "!qiime tools import \\\n",
    "    --type 'SampleData[PairedEndSequencesWithQuality]' \\\n",
    "    --input-path manifest.txt \\\n",
    "    --output-path 0-raw-sequences/seqs.qza \\\n",
    "    --input-format PairedEndFastqManifestPhred33V2"
   ]
  },
  {
   "cell_type": "markdown",
   "metadata": {},
   "source": [
    "---\n",
    "# <font color = 'gray'>Importing Single-End Demultiplexed FASTQ Files</font>\n",
    "\n",
    "Reference: [Importing through FASTQ manifest formats](https://docs.qiime2.org/2024.10/tutorials/importing/#fastq-manifest-formats)."
   ]
  },
  {
   "cell_type": "markdown",
   "metadata": {},
   "source": [
    "### Creating single-end manifest file"
   ]
  },
  {
   "cell_type": "markdown",
   "metadata": {},
   "source": [
    "For this type of dataset, the approach is almost the same except that the manifest file should only contain two columns: `sampleID` and `absolute-filepath`. Run code below to generate a manifest file for a single-end dataset."
   ]
  },
  {
   "cell_type": "markdown",
   "metadata": {},
   "source": [
    "<div class=\"alert alert-block alert-info\">\n",
    "<b>Note:</b> \n",
    "    \n",
    "The code below assumes that:\n",
    "    <li> The FASTQ files are placed inside a folder named <code>0-raw-sequences</code> which is located in the same path as this Jupyter notebook.\n",
    "    <li> The FASTQ filenames are separated by underscores where the first block contains the sample ID.\n",
    "    <li> The FASTQ filenames should end in <code>.fastq.gz</code>.\n",
    "    \n",
    "A few examples of a valid filenames are: <code>SRR456_01.fastq.gz</code>, <code>SRR567_001.fastq.gz</code>, and <code>SRR678_02.fastq.gz</code>.\n",
    "</div>"
   ]
  },
  {
   "cell_type": "code",
   "execution_count": null,
   "metadata": {},
   "outputs": [],
   "source": [
    "import pandas as pd\n",
    "import glob\n",
    "import os\n",
    "\n",
    "sampleIDs, filepaths = [], []\n",
    "fpath= os.getcwd()+\"/0-raw-sequences/\"\n",
    "\n",
    "for filepath in (glob.glob(fpath+\"*fastq.gz\")):\n",
    "    sample = filepath.split(\"/\")[-1].rsplit(\"_\", 2)[0]\n",
    "\n",
    "    if sample not in sampleIDs:\n",
    "        sampleIDs.append(sample)\n",
    "        filepaths.append(filepath)\n",
    "\n",
    "manifest =  pd.DataFrame({'sampleID': sorted(sampleIDs), 'absolute-filepath': sorted(filepaths)})\n",
    "\n",
    "with open('manifest.txt', 'w') as m:\n",
    "    print(manifest.to_csv(sep='\\t', index=False, header=True), file=m)"
   ]
  },
  {
   "cell_type": "markdown",
   "metadata": {},
   "source": [
    "### Importing single-end demultiplexed data"
   ]
  },
  {
   "cell_type": "markdown",
   "metadata": {},
   "source": [
    "Double check if the information listed in the manifest file is accurate. Afterwards, you can then run the `qiime tools import` command. This time we set `--type 'SampleData[SequencesWithQuality]'` because the data is a FASTQ single-end and demultiplexed.\n",
    "\n",
    "The imported file is indicated in the `--output-path` argument."
   ]
  },
  {
   "cell_type": "code",
   "execution_count": null,
   "metadata": {},
   "outputs": [],
   "source": [
    "!qiime tools import \\\n",
    "  --type 'SampleData[SequencesWithQuality]' \\\n",
    "  --input-path manifest.txt \\\n",
    "  --output-path 0-raw-sequences/seqs.qza \\\n",
    "  --input-format SingleEndFastqManifestPhred33V2"
   ]
  },
  {
   "cell_type": "markdown",
   "metadata": {},
   "source": [
    "---\n",
    "# <font color = 'gray'>Importing Other Formats</font>"
   ]
  },
  {
   "cell_type": "markdown",
   "metadata": {},
   "source": [
    "If your data is neither of the formats mentioned above, check this more detailed tutorial provided by QIIME2: [QIIME2 importing](https://docs.qiime2.org/2024.10/tutorials/importing/#)."
   ]
  }
 ],
 "metadata": {
  "kernelspec": {
   "display_name": "Python 3",
   "language": "python",
   "name": "python3"
  },
  "language_info": {
   "codemirror_mode": {
    "name": "ipython",
    "version": 3
   },
   "file_extension": ".py",
   "mimetype": "text/x-python",
   "name": "python",
   "nbconvert_exporter": "python",
   "pygments_lexer": "ipython3",
   "version": "3.8.10"
  }
 },
 "nbformat": 4,
 "nbformat_minor": 4
}
