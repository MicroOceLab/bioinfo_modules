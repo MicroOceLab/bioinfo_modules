{
 "cells": [
  {
   "cell_type": "markdown",
   "metadata": {},
   "source": [
    "# Module: Taxonomic Annotation of Metagenomic Reads\n",
    "\n",
    "Taxonomic annotation of metagenomic data is crucial in characterizing the species present in a community. This can be done either at the read or contig (assembled data) level. Read-level taxonomic annotation provides a quick way to profile the taxonomic composition of the community, albeit, at the expense of better resolution due to shorter sequences. This could be helpful if you want to initially explore the who is in your samples and roughly estimate their relative proportions.\n",
    "\n",
    "Below, we will see how to taxonomically annotate clean reads from shotgun metagenomic data using Kraken2 + Bracken, and generate an interactive visual using Krona.\n",
    "\n",
    "Created by: _Microbial Oceanography Laboratory (MOLab)_"
   ]
  },
  {
   "cell_type": "markdown",
   "metadata": {},
   "source": [
    "---\n",
    "## How to Use This Notebook\n",
    "\n",
    "1. Make sure tools are installed already (see below if not yet).\n",
    "2. Activate environment. Replace environment name accordingly.\n",
    "```bash\n",
    "conda activate read-tax-annot-env\n",
    "```\n",
    "2. Open jupyter notebook with the command below and select the notebook.\n",
    "```bash\n",
    "jupyter notebook\n",
    "```\n",
    "3. To run the cells in this notebook, press Shift+Enter."
   ]
  },
  {
   "cell_type": "markdown",
   "metadata": {},
   "source": [
    "---\n",
    "## Tools Used\n",
    "1. **Kraken2**\n",
    "2. **Bracken**\n",
    "3. **Krona**\n",
    "\n",
    "To install these tools, find the `read-tax-annot.yaml` file located in the same folder as this notebook (in repository). Then run the command below in the terminal:\n",
    "\n",
    "```bash\n",
    "conda env create -f read-tax-annot.yaml\n",
    "```"
   ]
  },
  {
   "cell_type": "markdown",
   "metadata": {},
   "source": [
    "---\n",
    "## Starting Files \n",
    "\n",
    "1. Clean paired-end reads (FASTQ format; See **Quality Control Module**)."
   ]
  },
  {
   "cell_type": "markdown",
   "metadata": {},
   "source": [
    "---\n",
    "## Expected Outputs\n",
    "\n",
    "1. Kraken2 + Bracken output taxonomy files.\n",
    "2. Krona interactive visual."
   ]
  },
  {
   "cell_type": "markdown",
   "metadata": {},
   "source": [
    "---\n",
    "## Table of Contents\n",
    " * [**Taxonomic Annotation**](#Taxonomic-Annotation)\n",
    "     * [Kraken2](#Kraken2)\n",
    "     * [Bracken](#Bracken)\n",
    " * [**Visualize**](#Visualize)"
   ]
  },
  {
   "cell_type": "markdown",
   "metadata": {},
   "source": [
    "----\n",
    "# <font color = 'gray'>Taxonomic Annotation</font>"
   ]
  },
  {
   "cell_type": "markdown",
   "metadata": {},
   "source": [
    "## Kraken2"
   ]
  },
  {
   "cell_type": "markdown",
   "metadata": {},
   "source": [
    "Kraken is a taxonomic sequence classifier that assigns taxonomic labels to DNA sequences. Kraken examines the k-mers within a query sequence and uses the information within those k-mers to query a database. That database maps k-mers to the lowest common ancestor (LCA) of all genomes known to contain a given k-mer.\n",
    "\n",
    "Source: _[Kraken2 GitHub Wiki](https://github.com/DerrickWood/kraken2/wiki/Manual)_"
   ]
  },
  {
   "cell_type": "markdown",
   "metadata": {},
   "source": [
    "`kraken2` already has several pre-built indexed databases. Many of these are extremely large and cannot be practically used in personal desktops. Below, we will demonstrate its usage in the command line interface using a much smaller reference database (MiniKraken v2). But note that it is highly recommended that you use the larger databases to improve sensitivity of taxonomic assignments (you can find the reference databases [here](https://benlangmead.github.io/aws-indexes/k2)). In that case, you can access an HPC or use the [Galaxy Webserver](https://usegalaxy.eu/)."
   ]
  },
  {
   "cell_type": "markdown",
   "metadata": {},
   "source": [
    "The arguments used below are:\n",
    "\n",
    "| option/input | description |\n",
    "| :-: | :- |\n",
    "| `--db` | Directory/folder containing indexed database. |\n",
    "| `--paired` | Paired end mode. Specify the forward read FASTQ file (`PE_1.fastq`) first followed by the reverse read (`PE_2.fastq`). |\n",
    "| `--report` | Output report file. |\n",
    "| `--classified-out` | Per-read taxonomic classification. |"
   ]
  },
  {
   "cell_type": "code",
   "execution_count": null,
   "metadata": {},
   "outputs": [],
   "source": [
    "!kraken2 \\\n",
    "    --db minikraken2_v2_8GB_201904_UPDATE \\\n",
    "    --paired 'PE_1.fastq' 'PE_2.fastq' \\\n",
    "    --report kraken2.kreport \\\n",
    "    --classified-out kraken2.classification"
   ]
  },
  {
   "cell_type": "markdown",
   "metadata": {},
   "source": [
    "The `kraken2.kreport` output file will contain a summary of the number of reads assigned per taxonomic lineage. Meanwhile, the `kraken2.classification` is a multi-column tab-separated file of the taxonomic classification of each read. The descriptions of the columns can be found here: [Kraken2 classification output](https://github.com/DerrickWood/kraken2/wiki/Manual#standard-kraken-output-format)."
   ]
  },
  {
   "cell_type": "markdown",
   "metadata": {},
   "source": [
    "## Bracken"
   ]
  },
  {
   "cell_type": "markdown",
   "metadata": {},
   "source": [
    "Kraken2 classifies reads to the best matching location in the taxonomic tree, but does not estimate abundances of species. We use the Kraken database itself to derive probabilities that describe how much sequence from each genome is identical to other genomes in the database, and combine this information with the assignments for a particular sample to estimate abundance at the species level, the genus level, or above. Combined with the Kraken classifier, Bracken produces accurate species- and genus-level abundance estimates even when a sample contains two or more near-identical species.\n",
    "\n",
    "Source: _[CCB JHU](https://ccb.jhu.edu/software/bracken/)_"
   ]
  },
  {
   "cell_type": "markdown",
   "metadata": {},
   "source": [
    "Below, we demonstrate how to use `brakcen` to get a more accurate estimate of the abundances of taxonomic groups. `bracken` is also available in the [Galaxy Webserver](https://usegalaxy.eu/) so if you ran `kraken2` there, you can easily continue with the workflow."
   ]
  },
  {
   "cell_type": "markdown",
   "metadata": {},
   "source": [
    "| option/input | description |\n",
    "| :-: | :- |\n",
    "| `-d` | Directory/folder containing indexed database. |\n",
    "| `-i` | Kraken2 report file. |\n",
    "| `-o` | Bracken report file. |\n",
    "| `-l` | Level to estimate abundance at {options: D,P,C,O,F,G,S,S1,etc} (default: S = Species) |"
   ]
  },
  {
   "cell_type": "code",
   "execution_count": null,
   "metadata": {},
   "outputs": [],
   "source": [
    "!bracken \\\n",
    "    -d minikraken2_v2_8GB_201904_UPDATE \\\n",
    "    -i kraken2.kreport \\\n",
    "    -o bracken.report \\\n",
    "    -l S"
   ]
  },
  {
   "cell_type": "markdown",
   "metadata": {},
   "source": [
    "This will generate a new tab-separated file (`bracken.report`) displaying the number of assigned reads of Kraken2 for each taxonomic group and the new estimated reads inferred by Bracken. Additionally, a file similar to `kraken2.kreport` is also produced, but with the re-estimated read counts."
   ]
  },
  {
   "cell_type": "markdown",
   "metadata": {},
   "source": [
    "----\n",
    "# <font color = 'gray'>Visualize</font>"
   ]
  },
  {
   "cell_type": "markdown",
   "metadata": {},
   "source": [
    "Before we generate the visualization, if Krona is newly installed, you must first setup the NCBI taxonomy mapping files."
   ]
  },
  {
   "cell_type": "code",
   "execution_count": null,
   "metadata": {},
   "outputs": [],
   "source": [
    "!ktUpdateTaxonomy.sh "
   ]
  },
  {
   "cell_type": "markdown",
   "metadata": {},
   "source": [
    "Then, to visualize the taxonomic profile inferred from `kraken2` + `bracken`, we use the `ktImportTaxonomy` utility from the Krona package. This will generate an interactive Krona chart which allows easy visualization of the proportions of taxonomic groups at different hierarchies or levels."
   ]
  },
  {
   "cell_type": "markdown",
   "metadata": {},
   "source": [
    "| option/input | description |\n",
    "| :-: | :- |\n",
    "| `-t` | Column number of the NCBI taxonomy ID. |\n",
    "| `-m` | Number of reads. |\n",
    "| `-o` | Output visualization. |"
   ]
  },
  {
   "cell_type": "code",
   "execution_count": null,
   "metadata": {},
   "outputs": [],
   "source": [
    "!ktImportTaxonomy \\\n",
    "    -t 5 \\\n",
    "    -m 3 \\\n",
    "    -o krona.html \\\n",
    "    kraken2_bracken_species.tabular"
   ]
  }
 ],
 "metadata": {
  "kernelspec": {
   "display_name": "Python 3",
   "language": "python",
   "name": "python3"
  },
  "language_info": {
   "codemirror_mode": {
    "name": "ipython",
    "version": 3
   },
   "file_extension": ".py",
   "mimetype": "text/x-python",
   "name": "python",
   "nbconvert_exporter": "python",
   "pygments_lexer": "ipython3",
   "version": "3.8.10"
  }
 },
 "nbformat": 4,
 "nbformat_minor": 4
}
