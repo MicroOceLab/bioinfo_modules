{
 "cells": [
  {
   "cell_type": "markdown",
   "metadata": {
    "id": "hired-handbook"
   },
   "source": [
    "# Module: OTU Clustering in QIIME2\n",
    "\n",
    "This notebook is a guide on working with QIIME2 with **raw paired-end demultiplexed reads** as the starting dataset. This notebook includes quality checking of raw reads, primer trimming, read merging, dereplication, OTU picking, and optional filtering steps.\n",
    "\n",
    "This module was built with the following as the main references: <a href = 'https://github.com/LangilleLab/microbiome_helper/wiki/Amplicon-SOP-v2-(qiime2-2020.8)'>LangilleLab SOP</a>, <a href = 'https://docs.qiime2.org/2021.2/tutorials/moving-pictures/'>\"Moving pictures\" Tutorial</a>, and <a href = 'https://docs.qiime2.org/2021.2/tutorials/atacama-soils/'>\"Atacama soil microbiome\" tutorial</a>.\n",
    "\n",
    "Created by: _Microbial Oceanography Laboratory (MOLab)_"
   ]
  },
  {
   "cell_type": "markdown",
   "metadata": {
    "id": "fresh-little"
   },
   "source": [
    "---\n",
    "## How to Use This Notebook\n",
    "\n",
    "1. Activate conda environment in terminal window. Make sure to change the environment name to what is applicable in your case.\n",
    ">`conda activate qiime2-2023.2`\n",
    "2. Open jupyter notebook with the command below and select the notebook.\n",
    ">`jupyter notebook`\n",
    "3. To run the cells in this notebook, press Shift+Enter."
   ]
  },
  {
   "cell_type": "markdown",
   "metadata": {},
   "source": [
    "---\n",
    "## Tools Used\n",
    "1. **QIIME 2 Amplicon Distribution**\n",
    "    - Installation procedure can be found here: [QIIME2 native installation](https://docs.qiime2.org/2024.10/install/native/)"
   ]
  },
  {
   "cell_type": "markdown",
   "metadata": {
    "id": "exact-omaha"
   },
   "source": [
    "---\n",
    "## Starting Files \n",
    "\n",
    "1. Paired-end demultiplexed FASTQ dataset imported as QIIME2 artifact (filename: `seqs.qza`, location: `0-raw-sequences`)\n",
    "2. Directories to organize the files. Run the command below:"
   ]
  },
  {
   "cell_type": "code",
   "execution_count": null,
   "metadata": {
    "id": "pleasant-acceptance",
    "scrolled": true
   },
   "outputs": [],
   "source": [
    "!mkdir \\\n",
    "0-raw-sequences \\\n",
    "1-cleanup"
   ]
  },
  {
   "cell_type": "markdown",
   "metadata": {},
   "source": [
    "---\n",
    "## Expected Outputs\n",
    "\n",
    "1. `.qza` of type `FeatureTable[Frequency]`\n",
    "2. `.qza` of type `FeatureData[Sequence]`"
   ]
  },
  {
   "cell_type": "markdown",
   "metadata": {
    "id": "lucky-chemical"
   },
   "source": [
    "---\n",
    "## Table of Contents\n",
    " * [**Data Processing**](#Data-Processing)\n",
    "     * [Inspecting raw data](#Inspecting-raw-data)\n",
    "     * [Trimming primers](#Trim-primers)\n",
    "     * [Merging reads](#Merging-reads)\n",
    "     * [Quality filtering](#Quality-filtering)\n",
    "     * [OTU clustering](#OTU-clustering)"
   ]
  },
  {
   "cell_type": "markdown",
   "metadata": {
    "id": "processed-review"
   },
   "source": [
    "----\n",
    "# <font color = 'gray'>Data Processing</font>"
   ]
  },
  {
   "cell_type": "markdown",
   "metadata": {
    "id": "vocational-garlic"
   },
   "source": [
    "To prepare our sequences, we have to perform several steps:\n",
    "\n",
    "1. Inspecting raw data\n",
    "1. Trim primers\n",
    "2. Merge paired-end reads\n",
    "3. Filter sequences by quality\n",
    "4. Dereplicate\n",
    "5. Pick OTUs"
   ]
  },
  {
   "cell_type": "markdown",
   "metadata": {
    "id": "soviet-exclusion"
   },
   "source": [
    "### Inspecting raw data\n",
    "\n",
    "Our sequences are already *demultiplexed*, meaning they are already separated into different samples. We can use the `demux` plugin instead to visualize our sequences. **QIIME visualizations** have the extension `.qzv`. The `.qzv` files can be viewed in http://view.qiime2.org or we can import the `qiime2` module to view the visualizations inline."
   ]
  },
  {
   "cell_type": "code",
   "execution_count": null,
   "metadata": {
    "id": "accessory-metallic"
   },
   "outputs": [],
   "source": [
    "# Make summary of the QIIME2 artifact (.qza file)\n",
    "!qiime demux summarize \\\n",
    "    --i-data  0-raw-sequences/seqs.qza \\\n",
    "    --p-n 100000 \\\n",
    "    --o-visualization 0-raw-sequences/seqs.qzv"
   ]
  },
  {
   "cell_type": "code",
   "execution_count": null,
   "metadata": {},
   "outputs": [],
   "source": [
    "#Visualize\n",
    "import qiime2 as q2\n",
    "q2.Visualization.load('0-raw-sequences/seqs.qzv')"
   ]
  },
  {
   "cell_type": "markdown",
   "metadata": {
    "id": "processed-review"
   },
   "source": [
    "Open the visualization summary and go to the **Interactive Quality Plot**. Here, we can see the average quality score of the reads at each position. In general, we want to maintain a score above 30. "
   ]
  },
  {
   "cell_type": "markdown",
   "metadata": {
    "id": "descending-association"
   },
   "source": [
    "### Trim primers\n",
    "To remove the primers in our sequences, we use the `cutadapt` plugin. The primers used were E572F/E1009R, which have <b>18bp</b> and <b>20bp</b> lengths, respectively. Removing the primers is important especially if there are ambiguous bases, which might get confused as chimeric or low quality positions. You can explore more about the primer sequences, length, and predicted amplicon size in this excellent app <a href=\"https://app.pr2-primers.org/\">PR-2 Primers</a>."
   ]
  },
  {
   "cell_type": "markdown",
   "metadata": {},
   "source": [
    "<div class=\"alert alert-block alert-info\">\n",
    "<b>Note:</b> \n",
    "    \n",
    "If you are not using the E572F/E1009R primer pairs, you must replace the sequences indicated in the <code>--p-front-f</code> and <code>--p-front-r</code> options.\n",
    "</div>"
   ]
  },
  {
   "cell_type": "markdown",
   "metadata": {},
   "source": [
    "<div class=\"alert alert-block alert-info\">\n",
    "<b>Tip:</b> \n",
    "    \n",
    "Inspect the standard output of the <code>cutadapt trim-paired</code> plugin. Look for any unusual occurrences and adjust the options accordingly. For instance, if a large fraction of reads are discarded, you can either increase <code>--p-error-rate</code> or disable <code>--p-discard-untrimmed</code> (albeit you may end up with lower quality sequences).\n",
    "</div>"
   ]
  },
  {
   "cell_type": "code",
   "execution_count": null,
   "metadata": {
    "id": "charged-attention"
   },
   "outputs": [],
   "source": [
    "!qiime cutadapt trim-paired \\\n",
    "    --i-demultiplexed-sequences 0-raw-sequences/seqs.qza \\\n",
    "    --p-front-f CYGCGGTAATTCCAGCTC  \\\n",
    "    --p-front-r AYGGTATCTRATCRTCTTYG  \\\n",
    "    --p-error-rate 0 \\\n",
    "    --p-discard-untrimmed \\\n",
    "    --o-trimmed-sequences 1-cleanup/1-primer-trimmed-seqs.qza \\\n",
    "    --verbose"
   ]
  },
  {
   "cell_type": "code",
   "execution_count": null,
   "metadata": {},
   "outputs": [],
   "source": [
    "#Check after trimming primers\n",
    "!qiime demux summarize \\\n",
    "    --i-data  1-cleanup/1-primer-trimmed-seqs.qza \\\n",
    "    --p-n 100000 \\\n",
    "    --o-visualization 1-cleanup/1-primer-trimmed-seqs.qzv"
   ]
  },
  {
   "cell_type": "code",
   "execution_count": null,
   "metadata": {},
   "outputs": [],
   "source": [
    "#Visualize\n",
    "import qiime2 as q2\n",
    "q2.Visualization.load('1-cleanup/1-primer-trimmed-seqs.qzv')"
   ]
  },
  {
   "cell_type": "markdown",
   "metadata": {
    "id": "planned-bolivia"
   },
   "source": [
    "### Merging reads\n",
    "Now, we merge our forward and reverse reads using `vsearch`. Make sure to adjust the minimum overlap length to a value you should expect based on the region being amplified and size of the reads."
   ]
  },
  {
   "cell_type": "markdown",
   "metadata": {},
   "source": [
    "<div class=\"alert alert-block alert-info\">\n",
    "<b>Note:</b> \n",
    "    \n",
    "Although <code>vsearch merge-pairs</code> is a quite robust utility, the value provided to the <code>--p-minovlen</code> option should be adjusted to whatever is applicable to your dataset to avoid potential erroneous merging.\n",
    "</div>"
   ]
  },
  {
   "cell_type": "markdown",
   "metadata": {},
   "source": [
    "<div class=\"alert alert-block alert-info\">\n",
    "<b>Tip:</b> \n",
    "    \n",
    "Inspect the standard output and of the <code>vsearch merge-pairs</code> plugin and the visualization file, <code>2-merged-seqs.qzv</code>. Check the percent of reads merged and mean length of merged reads. If fraction of merged reads is poor, the standard output will also provide reasons as to why reads failed to merge.\n",
    "</div>"
   ]
  },
  {
   "cell_type": "code",
   "execution_count": null,
   "metadata": {
    "id": "listed-episode"
   },
   "outputs": [],
   "source": [
    "!qiime vsearch merge-pairs \\\n",
    "    --i-demultiplexed-seqs 1-cleanup/1-primer-trimmed-seqs.qza \\\n",
    "    --o-joined-sequences 1-cleanup/2-merged-seqs.qza \\\n",
    "    --p-minovlen 140 \\\n",
    "    --verbose"
   ]
  },
  {
   "cell_type": "code",
   "execution_count": null,
   "metadata": {},
   "outputs": [],
   "source": [
    "#Check output after joining reads\n",
    "!qiime demux summarize \\\n",
    "    --i-data  1-cleanup/2-merged-seqs.qza \\\n",
    "    --p-n 100000 \\\n",
    "    --o-visualization 1-cleanup/2-merged-seqs.qzv"
   ]
  },
  {
   "cell_type": "code",
   "execution_count": null,
   "metadata": {},
   "outputs": [],
   "source": [
    "#Visualize\n",
    "import qiime2 as q2\n",
    "q2.Visualization.load('1-cleanup/2-merged-seqs.qzv')"
   ]
  },
  {
   "cell_type": "markdown",
   "metadata": {
    "id": "seven-machinery"
   },
   "source": [
    "### Quality filtering\n",
    "In the next step, sequences with PHRED score below **30** will be filtered out."
   ]
  },
  {
   "cell_type": "markdown",
   "metadata": {},
   "source": [
    "<div class=\"alert alert-block alert-info\">\n",
    "<b>Tip:</b> \n",
    "    \n",
    "Inspect the output and adjust the PHRED score threshold if too many reads are purged.\n",
    "</div>"
   ]
  },
  {
   "cell_type": "code",
   "execution_count": null,
   "metadata": {
    "id": "differential-graduation",
    "scrolled": true
   },
   "outputs": [],
   "source": [
    "!qiime quality-filter q-score \\\n",
    "    --i-demux 1-cleanup/2-merged-seqs.qza \\\n",
    "    --o-filtered-sequences 1-cleanup/3-merged-qc-seqs.qza \\\n",
    "    --p-min-quality 30 \\\n",
    "    --o-filter-stats 1-cleanup/3-merged-qc-stats.qza \\\n",
    "    --verbose"
   ]
  },
  {
   "cell_type": "code",
   "execution_count": null,
   "metadata": {},
   "outputs": [],
   "source": [
    "#Check post QC data\n",
    "!qiime demux summarize \\\n",
    "    --i-data 1-cleanup/3-merged-qc-seqs.qza \\\n",
    "    --p-n 100000 \\\n",
    "    --o-visualization 1-cleanup/3-merged-qc-seqs.qzv"
   ]
  },
  {
   "cell_type": "code",
   "execution_count": null,
   "metadata": {},
   "outputs": [],
   "source": [
    "#Visualize\n",
    "import qiime2 as q2\n",
    "q2.Visualization.load('1-cleanup/3-merged-qc-seqs.qzv')"
   ]
  },
  {
   "cell_type": "markdown",
   "metadata": {
    "id": "indoor-citation"
   },
   "source": [
    "### Dereplicating\n",
    "\n",
    "Dereplication aggregates identical sequences but still takes note of their frequency. This reduces the sequence space making it easier to cluster sequences by some threshold (e.g. OTU clustering). This can be done using `vsearch dereplicate-sequences` plugin. This outputs a feature table containing counts of unique sequences across all samples and a sequence file both as QIIME2 artifacts."
   ]
  },
  {
   "cell_type": "code",
   "execution_count": null,
   "metadata": {
    "id": "addressed-cancellation",
    "scrolled": true
   },
   "outputs": [],
   "source": [
    "!qiime vsearch dereplicate-sequences \\\n",
    "    --i-sequences 1-cleanup/3-merged-qc-seqs.qza \\\n",
    "    --o-dereplicated-table 1-cleanup/4-drp-table.qza \\\n",
    "    --o-dereplicated-sequences 1-cleanup/4-drp-seqs.qza"
   ]
  },
  {
   "cell_type": "markdown",
   "metadata": {
    "id": "touched-newcastle"
   },
   "source": [
    "Let's take a peek at the resulting table:"
   ]
  },
  {
   "cell_type": "code",
   "execution_count": null,
   "metadata": {
    "id": "wireless-mouth",
    "scrolled": true
   },
   "outputs": [],
   "source": [
    "# Summarize table\n",
    "!qiime feature-table summarize \\\n",
    "    --i-table 1-cleanup/4-drp-table.qza \\\n",
    "    --o-visualization 1-cleanup/4-drp-table.qzv"
   ]
  },
  {
   "cell_type": "code",
   "execution_count": null,
   "metadata": {},
   "outputs": [],
   "source": [
    "# Visualize\n",
    "import qiime2 as q2\n",
    "q2.Visualization.load('1-cleanup/4-drp-table.qzv')"
   ]
  },
  {
   "cell_type": "markdown",
   "metadata": {
    "id": "reflected-criticism"
   },
   "source": [
    "### OTU clustering\n",
    "\n",
    "Next we group together sequences according to a percent similarity threshold. This process is called OTU clustering. There are three general approaches to OTU clustering namely:\n",
    "\n",
    "1. De novo\n",
    "2. Close reference\n",
    "3. Open reference\n",
    "\n",
    "More details about these three methods are discussed here: [OTU picking strategies](http://qiime.org/tutorials/otu_picking.html).\n",
    "\n",
    "In this tutorial, we will be using open reference clustering. Additionally, we will use a classifier curated by MOLab, which uses a combination of the SILVA and Nordicana databases. The custom 18S V4 reference database could be found here: [MOLab SILVA + Nordicana Reference DB](https://drive.google.com/drive/u/0/folders/1ZLRp73X96ukmFFW7AUJuV3WAHuq6xQ8q). Other QIIME2-formatted reference databases are also available in the [QIIME2 data resources page](https://docs.qiime2.org/2024.10/data-resources/)."
   ]
  },
  {
   "cell_type": "code",
   "execution_count": null,
   "metadata": {
    "id": "knowing-stream"
   },
   "outputs": [],
   "source": [
    "!qiime vsearch cluster-features-open-reference \\\n",
    "    --i-table 1-cleanup/4-drp-table.qza \\\n",
    "    --i-sequences 1-cleanup/4-drp-seqs.qza \\\n",
    "    --p-perc-identity 0.98 \\\n",
    "    --i-reference-sequences ../classifier/silva-138-nord-drp-seq.qza \\\n",
    "    --o-clustered-table 1-cleanup/5-clust-OTU-table.qza \\\n",
    "    --o-clustered-sequences 1-cleanup/5-clust-OTU-seqs.qza \\\n",
    "    --o-new-reference-sequences 1-cleanup/5-clust-OTU-ref-seqs.qza"
   ]
  },
  {
   "cell_type": "code",
   "execution_count": null,
   "metadata": {
    "id": "isolated-initial",
    "scrolled": true
   },
   "outputs": [],
   "source": [
    "# Summarize OTU table\n",
    "!qiime feature-table summarize \\\n",
    "    --i-table 1-cleanup/5-clust-OTU-table.qza  \\\n",
    "    --o-visualization 1-cleanup/5-clust-OTU-table.qzv "
   ]
  },
  {
   "cell_type": "code",
   "execution_count": null,
   "metadata": {},
   "outputs": [],
   "source": [
    "#Visualize\n",
    "import qiime2 as q2\n",
    "q2.Visualization.load('1-cleanup/5-clust-OTU-table.qzv')"
   ]
  },
  {
   "cell_type": "code",
   "execution_count": null,
   "metadata": {},
   "outputs": [],
   "source": [
    "#Check clustered OTU seqs\n",
    "!qiime feature-table tabulate-seqs \\\n",
    "    --i-data 1-cleanup/5-clust-OTU-seqs.qza \\\n",
    "    --o-visualization 1-cleanup/5-clust-OTU-seqs.qzv"
   ]
  },
  {
   "cell_type": "code",
   "execution_count": null,
   "metadata": {},
   "outputs": [],
   "source": [
    "# Visualize\n",
    "import qiime2 as q2\n",
    "q2.Visualization.load('1-cleanup/5-clust-OTU-seqs.qzv')"
   ]
  }
 ],
 "metadata": {
  "colab": {
   "name": "Bioinformatics Workshop - Day 1.ipynb",
   "provenance": []
  },
  "kernelspec": {
   "display_name": "Python 3",
   "language": "python",
   "name": "python3"
  },
  "language_info": {
   "codemirror_mode": {
    "name": "ipython",
    "version": 3
   },
   "file_extension": ".py",
   "mimetype": "text/x-python",
   "name": "python",
   "nbconvert_exporter": "python",
   "pygments_lexer": "ipython3",
   "version": "3.8.10"
  }
 },
 "nbformat": 4,
 "nbformat_minor": 5
}
