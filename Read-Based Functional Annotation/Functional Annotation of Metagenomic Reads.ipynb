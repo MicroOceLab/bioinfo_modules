{
 "cells": [
  {
   "cell_type": "markdown",
   "metadata": {},
   "source": [
    "# Module: Functional Annotation of Metagenomic Reads\n",
    "\n",
    "Functional annotation of metagenomic data is crucial in characterizing the functional potential of a community. Typically, this is inferred from assembled reads (i.e. contigs/scaffolds) where (nearly) full-length genes are more easily located. However, there are also tools that infer functional profiles of samples directly from the reads. This provides a relatively quick and easy way of describing the metabolic capabilities of the community of interest.\n",
    "\n",
    "Below, we will see how to functionally annotate clean reads from shotgun metagenomic data using SUPER-FOCUS.\n",
    "\n",
    "Created by: _Microbial Oceanography Laboratory (MOLab)_"
   ]
  },
  {
   "cell_type": "markdown",
   "metadata": {},
   "source": [
    "---\n",
    "## How to Use This Notebook\n",
    "\n",
    "1. Make sure tools are installed already (see below if not yet).\n",
    "2. Activate environment. Replace environment name accordingly.\n",
    "```bash\n",
    "conda activate read-func-annot-env\n",
    "```\n",
    "2. Open jupyter notebook with the command below and select the notebook.\n",
    "```bash\n",
    "jupyter notebook\n",
    "```\n",
    "3. To run the cells in this notebook, press Shift+Enter."
   ]
  },
  {
   "cell_type": "markdown",
   "metadata": {},
   "source": [
    "---\n",
    "## Tools Used\n",
    "1. **SUPER-FOCUS**\n",
    "2. **PEAR**\n",
    "3. **Diamond**\n",
    "\n",
    "To install these tools, follow the list of commands below:\n",
    "\n",
    "Create an environment and install tools (2) and (3). You can find the `read-func-annot.yaml` file in the same directory as this notebook.\n",
    "```bash\n",
    "conda env create -f read-func-annot.yaml\n",
    "```\n",
    "\n",
    "Activate the environment.\n",
    "```bash\n",
    "conda activate read-func-annot-env\n",
    "```\n",
    "\n",
    "Install tool (1) using `pip`.\n",
    "```bash\n",
    "pip install superfocus\n",
    "```"
   ]
  },
  {
   "cell_type": "markdown",
   "metadata": {},
   "source": [
    "---\n",
    "## Starting Files \n",
    "\n",
    "1. Clean paired-end reads (FASTQ format; See **Quality Control Module**)."
   ]
  },
  {
   "cell_type": "markdown",
   "metadata": {},
   "source": [
    "---\n",
    "## Expected Outputs\n",
    "\n",
    "1. Count table of functions (rows) versus samples (columns)."
   ]
  },
  {
   "cell_type": "markdown",
   "metadata": {},
   "source": [
    "---\n",
    "## Table of Contents\n",
    " * [**Prepare Paired-End Data**](#Prepare-Paired-End-Data)\n",
    "     * [Merge Reads](#Merge-Reads)\n",
    "     * [Concatenate Reads](#Concatenate-Reads)\n",
    " * [**Functional Annotation**](#Functional-Annotation)\n",
    "     * [Setup Database](#Setup-Database)\n",
    "     * [Annotate](#Annotate)"
   ]
  },
  {
   "cell_type": "markdown",
   "metadata": {},
   "source": [
    "----\n",
    "# <font color = 'gray'>Prepare Paired-End Data</font>"
   ]
  },
  {
   "cell_type": "markdown",
   "metadata": {},
   "source": [
    "<div class=\"alert alert-block alert-info\">\n",
    "<b>Note:</b> \n",
    "    \n",
    "This step is only applicable if you are working with paired-end data.\n",
    "</div>"
   ]
  },
  {
   "cell_type": "markdown",
   "metadata": {},
   "source": [
    "## Merge Reads"
   ]
  },
  {
   "cell_type": "markdown",
   "metadata": {},
   "source": [
    "The functional annotation tool (`superfocus`) that we will be using cannot handle paired-end (PE) data directly. Hence, prior to running `superfocus`, we will first merge the PE reads. Merging PE reads will also give us slightly better resolution resulting from the longer sequences."
   ]
  },
  {
   "cell_type": "markdown",
   "metadata": {},
   "source": [
    "| option/input | description |\n",
    "| :-: | :- |\n",
    "| `-f` | Forward reads. |\n",
    "| `-r` | Reverse reads. |\n",
    "| `-o` | Prefix of output files. |"
   ]
  },
  {
   "cell_type": "code",
   "execution_count": null,
   "metadata": {},
   "outputs": [],
   "source": [
    "!pear \\\n",
    "    -f PE_1.fastq \\\n",
    "    -r PE_2.fastq \\\n",
    "    -o pear_out"
   ]
  },
  {
   "cell_type": "markdown",
   "metadata": {},
   "source": [
    "This will produce four outputs:\n",
    "1. `pear_out.assembled.fastq` - PE reads successfully merged.\n",
    "2. `pear_out.discarded.fastq` - discarded reads.\n",
    "3. `pear_out.unassembled.forward.fastq` - forward reads unsucessfully merged.\n",
    "4. `pear_out.unassembled.reverse.fastq` - reverse reads unsucessfully merged."
   ]
  },
  {
   "cell_type": "markdown",
   "metadata": {},
   "source": [
    "## Concatenate Reads"
   ]
  },
  {
   "cell_type": "markdown",
   "metadata": {},
   "source": [
    "Now, we concatenate the merged and unmerged reads into one file (`concate_reads.fastq`), which will then be used as input to `superfocus`."
   ]
  },
  {
   "cell_type": "code",
   "execution_count": null,
   "metadata": {},
   "outputs": [],
   "source": [
    "!cat \\\n",
    "    pear_out.assembled.fastq \\\n",
    "    pear_out.unassembled.forward.fastq \\\n",
    "    pear_out.unassembled.reverse.fastq > concate_reads.fastq"
   ]
  },
  {
   "cell_type": "markdown",
   "metadata": {},
   "source": [
    "----\n",
    "# <font color = 'gray'>Functional Annotation</font>"
   ]
  },
  {
   "cell_type": "markdown",
   "metadata": {},
   "source": [
    "## Setup Database"
   ]
  },
  {
   "cell_type": "markdown",
   "metadata": {},
   "source": [
    "If this is your first time running `superfocus`, you need to initially setup the reference database for functional annotation. You can find the list of available databases [here](https://github.com/metageni/SUPER-FOCUS?tab=readme-ov-file#recomendations). Different databases must be downloaded for different aligners. Below, we will be using `diamond`. Make sure to select the database that corresponds to the installed version of `diamond` in your environment (run `diamond help` to check). Additionally, for demonstration, we will be using the 90% cluster database, but the 100% cluster database should (in theory) provide the best sensitivity."
   ]
  },
  {
   "cell_type": "markdown",
   "metadata": {},
   "source": [
    "You can either manually download the database from the link provided, or run the `wget` command below (assuming you have `diamond` version 2)."
   ]
  },
  {
   "cell_type": "code",
   "execution_count": null,
   "metadata": {},
   "outputs": [],
   "source": [
    "!wget \"https://open.flinders.edu.au/ndownloader/files/44075207\" -O 90_clusters.db.dmnd.zip"
   ]
  },
  {
   "cell_type": "markdown",
   "metadata": {},
   "source": [
    "Afterwards, move and unzip the database to the directory where `superfocus` will look for it."
   ]
  },
  {
   "cell_type": "code",
   "execution_count": null,
   "metadata": {},
   "outputs": [],
   "source": [
    "%%bash\n",
    "mkdir -p  $(which superfocus | sed -e 's#bin/superfocus$#lib/python3.8/site-packages/superfocus_app/db/static/diamond#') &&\n",
    "unzip -d  $(which superfocus | sed -e 's#bin/superfocus$#lib/python3.8/site-packages/superfocus_app/db/static/diamond#') 90_clusters.db.dmnd.zip"
   ]
  },
  {
   "cell_type": "markdown",
   "metadata": {},
   "source": [
    "## Annotate\n",
    "\n",
    "`superfocus` aligns reads using a specified aligner, and identifies hits and classifies hits using the SEED subsystems functional hierarchy. This consists of four levels wherein the \"Subsystem Level 1\" is the broadest category (e.g. Amino Acids and Derivatives, Carbohydrates, etc.) and \"Function\" is the most specific level (e.g. Glutamate_racemase_(EC_5.1.1.3), Agmatinase_(EC_3.5.3.11)).\n",
    "\n",
    "An example of a `superfocus` command is shown below. If you are working with a multi-sample data, you can specify the `-q` argument multiple times, one for each of your sample. Just make sure you re-run the steps above ([Merge Reads](#Merge-Reads) and [Concatenate Reads](#Concatenate-Reads)) to pool the PE reads from each of your sample."
   ]
  },
  {
   "cell_type": "markdown",
   "metadata": {},
   "source": [
    "| option/input | description |\n",
    "| :-: | :- |\n",
    "| `-q` | Query reads. FASTA or FASTQ format. Can be specified multiple times to accommodate reads from multiple samples |\n",
    "| `-dir` | Name of output directory. |\n",
    "| `-a` | Aligner {options: rapsearch, diamond, blast; default=rapsearch}. |\n",
    "| `-db` | Database {options: DB_90, DB_95, DB_98, DB_100; default=DB_90}. |"
   ]
  },
  {
   "cell_type": "code",
   "execution_count": null,
   "metadata": {},
   "outputs": [],
   "source": [
    "!superfocus \\\n",
    "    -q concat_reads.fastq \\\n",
    "    -dir superfocus_out \\\n",
    "    -a diamond \\\n",
    "    -db DB_90"
   ]
  },
  {
   "cell_type": "markdown",
   "metadata": {},
   "source": [
    "The command will produce several outputs inside the `superfocus_out` directory, namely:\n",
    "    \n",
    "1. `concat_reads.fastq_alignments.m8` - alignment of reads and reference.\n",
    "2. `output_all_levels_and_function.xls` - count table showing full SEED subsystems hierarchy.\n",
    "3. `output_subsystem_level_1.xls` - count table showing Subsystem Level 1 only.\n",
    "4. `output_subsystem_level_2.xls` - count table showing Subsystem Level 2 only.\n",
    "5. `output_subsystem_level_3.xls` - count table showing Subsystem Level 3 only.\n",
    "6. `output_binning.xls` - Summary of per-sample and per-read SEED assignment, and alignment."
   ]
  },
  {
   "cell_type": "markdown",
   "metadata": {},
   "source": [
    "If you intend to perform statistical analysis afterwards, output (2) can be used as input to STAMP software. For more details about this tool, check the following link: [STAMP software](https://beikolab.cs.dal.ca/software/STAMP)."
   ]
  },
  {
   "cell_type": "code",
   "execution_count": null,
   "metadata": {},
   "outputs": [],
   "source": []
  }
 ],
 "metadata": {
  "kernelspec": {
   "display_name": "Python 3",
   "language": "python",
   "name": "python3"
  },
  "language_info": {
   "codemirror_mode": {
    "name": "ipython",
    "version": 3
   },
   "file_extension": ".py",
   "mimetype": "text/x-python",
   "name": "python",
   "nbconvert_exporter": "python",
   "pygments_lexer": "ipython3",
   "version": "3.8.10"
  }
 },
 "nbformat": 4,
 "nbformat_minor": 4
}
