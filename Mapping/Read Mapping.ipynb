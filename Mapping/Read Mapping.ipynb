{
 "cells": [
  {
   "cell_type": "markdown",
   "metadata": {},
   "source": [
    "# Module: Read Mapping\n",
    "\n",
    "Mapping of reads to reference sequences or assemblies is a crucial step in bioinformatics that involves aligning sequencing reads to a known reference genome, transcriptome, or de novo assembly. This process enables researchers to identify sequence variants, quantify gene expression, and analyze the abundance of specific genomic regions.\n",
    "\n",
    "Here, we will look at a couple of read mapping utilities that are commonly used for different applications.\n",
    "\n",
    "Created by: _Microbial Oceanography Laboratory (MOLab)_"
   ]
  },
  {
   "cell_type": "markdown",
   "metadata": {},
   "source": [
    "---\n",
    "## How to Use This Notebook\n",
    "\n",
    "1. Make sure tools are installed already (see below if not yet).\n",
    "2. Activate environment. Replace environment name accordingly.\n",
    "```bash\n",
    "conda activate mapping-env\n",
    "```\n",
    "2. Open jupyter notebook with the command below and select the notebook.\n",
    "```bash\n",
    "jupyter notebook\n",
    "```\n",
    "3. To run the cells in this notebook, press Shift+Enter."
   ]
  },
  {
   "cell_type": "markdown",
   "metadata": {},
   "source": [
    "---\n",
    "## Tools Used\n",
    "1. **BBMap** for prokaryotic gene prediction.\n",
    "2. **Trinity** for eukaryotic gene prediction.\n",
    "\n",
    "To install tool (1), find the `mapping.yaml` file located in the same folder as this notebook (in repository). Then run the command below in the terminal:\n",
    "```bash\n",
    "conda env create -f mapping.yaml\n",
    "```\n",
    "\n",
    "To install tool (2), a Docker image of Trinity can be pulled. Instructions are outlined here: [Trinity Docker Installation](https://github.com/trinityrnaseq/trinityrnaseq/wiki/Trinity-in-Docker)."
   ]
  },
  {
   "cell_type": "markdown",
   "metadata": {},
   "source": [
    "---\n",
    "## Starting Files\n",
    "\n",
    "1. A contig FASTA file generated from assembly (see **Assembly Module**) or binning (see **Binning Module**) or other reference assembly retrieved from databases (`assembly.fasta`).\n",
    "2. Clean reads (see **Quality Control Module**)."
   ]
  },
  {
   "cell_type": "markdown",
   "metadata": {},
   "source": [
    "---\n",
    "## Expected Outputs\n",
    "\n",
    "Output(s) may depend on the tool used, but generally, the following outputs will be present:\n",
    "\n",
    "1. SAM/BAM alignment files."
   ]
  },
  {
   "cell_type": "markdown",
   "metadata": {},
   "source": [
    "---\n",
    "## Table of Contents\n",
    " * [**BBMap**](#BBMap)  \n",
    " * [**Trinity Wrapper Script**](#Trinity-Wrapper-Script)"
   ]
  },
  {
   "cell_type": "markdown",
   "metadata": {},
   "source": [
    "----\n",
    "# <font color = 'gray'>BBMap</font>"
   ]
  },
  {
   "cell_type": "markdown",
   "metadata": {},
   "source": [
    "BBMap is a splice-aware global aligner for DNA and RNA sequencing reads. It can align reads from all major platforms – Illumina, 454, Sanger, Ion Torrent, PacBio, and Nanopore. BBMap is fast and extremely accurate, particularly with highly mutated genomes or reads with long indels, even whole-gene deletions over 100kbp long.\n",
    "\n",
    "Source: [BBMap Guide](https://jgi.doe.gov/data-and-tools/software-tools/bbtools/bb-tools-user-guide/bbmap-guide/)"
   ]
  },
  {
   "cell_type": "markdown",
   "metadata": {},
   "source": [
    "The code below will align your paired end reads (`S1_forward.fastq.gz` and `S1_reverse.fastq.gz`) and output an alignment file (`S1_mapping.sam`)."
   ]
  },
  {
   "cell_type": "markdown",
   "metadata": {},
   "source": [
    "<div class=\"alert alert-block alert-info\">\n",
    "<b>Note:</b> \n",
    "\n",
    "The command only maps a single library to a reference assembly. If you have a multi-sample dataset, you need to modify the sample names every run or write a loop to automate mapping of samples.\n",
    "</div>"
   ]
  },
  {
   "cell_type": "code",
   "execution_count": null,
   "metadata": {},
   "outputs": [],
   "source": [
    "!bbmap.sh \\\n",
    "    in=S1_forward.fastq.gz \\\n",
    "    in2=S1_reverse.fastq.gz \\\n",
    "    ref=assembly.fasta \\\n",
    "    out=S1_mapping.sam \\\n",
    "    bamscript=S1_bamscript"
   ]
  },
  {
   "cell_type": "markdown",
   "metadata": {},
   "source": [
    "If you need a sorted and indexed BAM file, you can use the output script file (`S1_bamscript`)."
   ]
  },
  {
   "cell_type": "code",
   "execution_count": null,
   "metadata": {},
   "outputs": [],
   "source": [
    "!s1_bamscript"
   ]
  },
  {
   "cell_type": "markdown",
   "metadata": {},
   "source": [
    "----\n",
    "# <font color = 'gray'>Trinity Wrapper Script</font>"
   ]
  },
  {
   "cell_type": "markdown",
   "metadata": {},
   "source": [
    "If you intend to map reads to an RNA-seq assembly made using Trinity, a wrapper script which performs the alignment and estimates the abundance of the transcripts is provided by Trinity."
   ]
  },
  {
   "cell_type": "markdown",
   "metadata": {},
   "source": [
    "### Prepare Reference Assembly\n",
    "\n",
    "First, we have to index the reference assembly so that we don't have to repeat it every time for each library/sample."
   ]
  },
  {
   "cell_type": "markdown",
   "metadata": {},
   "source": [
    "| option/input | description |\n",
    "| :-: | :- |\n",
    "| `--transcripts` | Reference assembly. |\n",
    "| `--est_method` | Abundance estimation method. |\n",
    "| `--aln_method` | Alignment method. |\n",
    "| `--prep_reference` | Prepare reference assembly file. |"
   ]
  },
  {
   "cell_type": "code",
   "execution_count": null,
   "metadata": {},
   "outputs": [],
   "source": [
    "!docker run --rm -v \"$(pwd)\":\"$(pwd)\" trinityrnaseq/trinityrnaseq \\\n",
    "    /usr/local/bin/util/align_and_estimate_abundance.pl \\\n",
    "    --transcripts \"$(pwd)/assembly.fasta\" \\\n",
    "    --est_method RSEM \\\n",
    "    --aln_method bowtie2 \\\n",
    "    --prep_reference"
   ]
  },
  {
   "cell_type": "markdown",
   "metadata": {},
   "source": [
    "### Map and Estimate\n",
    "\n",
    "Now, using Bowtie2 and RSEM, we can map the clean reads to the assembly (`assembly.fasta`) and estimate the abundances of the transcripts."
   ]
  },
  {
   "cell_type": "markdown",
   "metadata": {},
   "source": [
    "| option/input | description |\n",
    "| :-: | :- |\n",
    "| `--transcripts` | Reference assembly. |\n",
    "| `--seqType` | Type of sequence. FASTA (`fa`) or FASTQ (`fq`) |\n",
    "| `--left` | Left strand read. |\n",
    "| `--right` | Right strand read. |\n",
    "| `--est_method` | Tool to use to estimate transcript abundance. |\n",
    "| `--aln_method` | Tool to use to map reads to assembly. |\n",
    "| `--output_dir` | Output directory. |"
   ]
  },
  {
   "cell_type": "markdown",
   "metadata": {},
   "source": [
    "<div class=\"alert alert-block alert-info\">\n",
    "<b>Note:</b> \n",
    "\n",
    "For a multi-sample dataset, consider using the <code>--samples_file</code>. This will automatically organize the outputs to different folders per sample. Alternatively, you can also modify the code below and make use of a loop.\n",
    "</div>"
   ]
  },
  {
   "cell_type": "code",
   "execution_count": null,
   "metadata": {},
   "outputs": [],
   "source": [
    "!docker run --rm -v `pwd`:`pwd` trinityrnaseq/trinityrnaseq \\\n",
    "/usr/local/bin/util/align_and_estimate_abundance.pl \\\n",
    "    --transcripts `pwd`/4-assembly_trinity/a_minutum_ref_assembly.fasta \\\n",
    "    --seqType fq \\\n",
    "    --left \"$(pwd)/S1_forward.fastq.gz\" \\\n",
    "    --right \"$(pwd)/S2_forward.fastq.gz\" \\\n",
    "    --est_method RSEM \\\n",
    "    --aln_method bowtie2 \\\n",
    "    --output_dir \"$(pwd)/rsem_out\" 2>&1 | tee -a \"$(pwd)/out.log\""
   ]
  }
 ],
 "metadata": {
  "kernelspec": {
   "display_name": "Python 3",
   "language": "python",
   "name": "python3"
  },
  "language_info": {
   "codemirror_mode": {
    "name": "ipython",
    "version": 3
   },
   "file_extension": ".py",
   "mimetype": "text/x-python",
   "name": "python",
   "nbconvert_exporter": "python",
   "pygments_lexer": "ipython3",
   "version": "3.8.10"
  }
 },
 "nbformat": 4,
 "nbformat_minor": 4
}
