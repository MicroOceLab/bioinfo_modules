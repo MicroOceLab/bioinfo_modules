{
 "cells": [
  {
   "cell_type": "markdown",
   "metadata": {},
   "source": [
    "# Module: Assembly of Sequencing Data Into Contigs\n",
    "\n",
    "Short sequencing reads produced by next-generation sequencing technologies can be reconstructed into longer contiguous sequences oftentimes referred to as contigs. This provides better resolution for downstream analyses such as functional annotation and comparative genomics. As such, a clearer picture of the genomic or transcriptomic architecture is revealed, providing a better and more accurate understanding of biological systems.\n",
    "\n",
    "This module introduces tools widely used for _de novo_ sequence assembly: (1) SPAdes for genome assembly, (2) MEGAHIT for metagenomics, and (3) Trinity for RNA-seq. It also covers the evaluation of assembly quality using (meta)QUAST.\n",
    "\n",
    "Created by: _Microbial Oceanography Laboratory (MOLab)_"
   ]
  },
  {
   "cell_type": "markdown",
   "metadata": {},
   "source": [
    "---\n",
    "## How to Use This Notebook\n",
    "\n",
    "1. Make sure tools are installed already (see below if not yet).\n",
    "2. Activate environment. Replace environment name accordingly.\n",
    "```bash\n",
    "conda activate assembly-env\n",
    "```\n",
    "2. Open jupyter notebook with the command below and select the notebook.\n",
    "```bash\n",
    "jupyter notebook\n",
    "```\n",
    "3. To run the cells in this notebook, press Shift+Enter."
   ]
  },
  {
   "cell_type": "markdown",
   "metadata": {},
   "source": [
    "---\n",
    "## Tools Used\n",
    "1. **SPAdes**\n",
    "2. **MEGAHIT**\n",
    "3. **QUAST**\n",
    "4. **Trinity**\n",
    "\n",
    "To install tools (1) - (3), find the `assembly.yaml` file located in the same folder as this notebook (in repository). Then run the command below in the terminal:\n",
    "```bash\n",
    "conda env create -f assembly.yaml\n",
    "```\n",
    "\n",
    "To install tool (4), a Docker image of Trinity can be pulled. Instructions are outlined here: [Trinity Docker Installation](https://github.com/trinityrnaseq/trinityrnaseq/wiki/Trinity-in-Docker)."
   ]
  },
  {
   "cell_type": "markdown",
   "metadata": {},
   "source": [
    "<div class=\"alert alert-block alert-info\">\n",
    "<b>Note:</b> \n",
    "    \n",
    "Assembly is quite a resource-intensive process and may not be feasible for many to run locally. Access to HPCs is ideal, but as another alternative, you can run these tools using the <a href='https://usegalaxy.eu/'>Galaxy EU webserver</a>.\n",
    "</div>"
   ]
  },
  {
   "cell_type": "markdown",
   "metadata": {},
   "source": [
    "---\n",
    "## Starting Files \n",
    "\n",
    "1. Illumina paired-end FASTQ sequences that underwent quality control process (i.e. trimmed low quality regions and adapters) (see **Quality Control Module**).\n",
    "2. (Optional) FASTA file of reference genome assembly."
   ]
  },
  {
   "cell_type": "markdown",
   "metadata": {},
   "source": [
    "---\n",
    "## Expected Outputs\n",
    "\n",
    "1. FASTA file of assembly.\n",
    "2. Quality reports."
   ]
  },
  {
   "cell_type": "markdown",
   "metadata": {},
   "source": [
    "---\n",
    "## Table of Contents\n",
    " * [**Genome Assembly**](#Genome-Assembly)\n",
    "     * [Default Mode](#Default)\n",
    "     * [Careful Mode](#--careful)\n",
    "     * [Isolate Mode](#--isolate)\n",
    " * [**Metagenome Assembly**](#Metagenome-Assembly)\n",
    " * [**RNA-Seq Assembly**](#RNA-Seq-Assembly)\n",
    " * [**Assembly Evaluation**](#Assembly-Evaluation)\n",
    "     * [QUAST](#QUAST)"
   ]
  },
  {
   "cell_type": "markdown",
   "metadata": {},
   "source": [
    "----\n",
    "# <font color = 'gray'>Genome Assembly</font>"
   ]
  },
  {
   "cell_type": "markdown",
   "metadata": {},
   "source": [
    "For genome assembly, we will be using `spades`. The genome assembly component of `spades` have been developed for bacterial isolates. If your target organism has a much larger genome, consider other tools that have been optimized for such scenarios.\n",
    "\n",
    "Not one assembler or assembly parameters will yield the \"best\" assembly for all. Hence, for the codes below, we will generate different assemblies using different modes in SPAdes. Specifically, we will use `spades` with default, `--isolate`, and `--careful` settings. We assume that your forward and reverse reads are named `WGS1_ofp.fastq` and `WGS1_orp.fastq`, respectively.\n",
    "\n",
    "If you want to explore more options in `spades`, you can refer to their documentation: [SPAdes Wiki](https://github.com/ablab/spades/wiki)."
   ]
  },
  {
   "cell_type": "markdown",
   "metadata": {},
   "source": [
    "### Default"
   ]
  },
  {
   "cell_type": "code",
   "execution_count": null,
   "metadata": {},
   "outputs": [],
   "source": [
    "!spades.py \\\n",
    "    -1 WGS1_ofp.fastq \\\n",
    "    -2 WGS1_orp.fastq \\\n",
    "    -o spades_result_default \\\n",
    "    --threads 2 \\\n",
    "    --memory 6"
   ]
  },
  {
   "cell_type": "markdown",
   "metadata": {},
   "source": [
    "### `--careful`\n",
    "\n",
    "The `--careful` option in SPAdes will attempt to reduce the number of mismatches and short indels."
   ]
  },
  {
   "cell_type": "code",
   "execution_count": null,
   "metadata": {},
   "outputs": [],
   "source": [
    "!spades.py \\\n",
    "    --careful \\\n",
    "    -1 WGS1_ofp.fastq \\\n",
    "    -2 WGS1_orp.fastq \\\n",
    "    -o spades_result_careful \\\n",
    "    --threads 2 \\\n",
    "    --memory 6"
   ]
  },
  {
   "cell_type": "markdown",
   "metadata": {},
   "source": [
    "### `--isolate`\n",
    "\n",
    "The `--isolate` option in SPAdes is recommended for high-coverage isolate and multi-cell data."
   ]
  },
  {
   "cell_type": "code",
   "execution_count": null,
   "metadata": {},
   "outputs": [],
   "source": [
    "!spades.py \\\n",
    "    --isolate \\\n",
    "    -1 WGS1_ofp.fastq \\\n",
    "    -2 WGS1_orp.fastq \\\n",
    "    -o spades_result_isolate \\\n",
    "    --threads 2 \\\n",
    "    --memory 6"
   ]
  },
  {
   "cell_type": "markdown",
   "metadata": {},
   "source": [
    "In the output folder of `spades`, two important FASTA files are produced: `scaffolds.fasta` and `contigs.fasta`. We make use of `scaffolds.fasta` which is just a slightly more clean version of the `contigs.fasta`."
   ]
  },
  {
   "cell_type": "markdown",
   "metadata": {},
   "source": [
    "----\n",
    "# <font color = 'gray'>Metagenome Assembly</font>"
   ]
  },
  {
   "cell_type": "markdown",
   "metadata": {},
   "source": [
    "Although `spades` has a `--meta` option which was optimized for shotgun metagenomics assembly, here we will be utilizing `megahit` instead.  `megahit` assembles faster and also is more resource efficient. \n",
    "\n",
    "Below, we run `megahit` on a single paired-end library (`M_ofp.fastq.gz` and `M_orp.fastq.gz`) using default options. But if you have the time and resource, you can check out other parameters like `--presets` which will set other assembly options optimized for different levels of complexity of metagenome, or improved sensitivity. Also, note that `megahit`, by default, will retain at least 200 bp contigs only.\n",
    "\n",
    "Check out other megahit assembly parameters here: [MEGAHIT metagenome assembly](https://www.metagenomics.wiki/tools/assembly/megahit)."
   ]
  },
  {
   "cell_type": "code",
   "execution_count": null,
   "metadata": {},
   "outputs": [],
   "source": [
    "!megahit \\\n",
    "    -1 M_ofp.fastq.gz \\\n",
    "    -2 M_orp.fastq.gz \\\n",
    "    -o megahit_output_dir"
   ]
  },
  {
   "cell_type": "markdown",
   "metadata": {},
   "source": [
    "<div class=\"alert alert-block alert-warning\">\n",
    "<b>Individual assembly versus Co-assembly</b> \n",
    "\n",
    "For a multi-sample data, oftentimes, part of the research objective is to compare different samples and/or sample groups. In the context of assembly, for you to be able to do this, a single reference assembly is ideal since it makes comparison between samples more direct. In that case, generally, there are two possible assembly routes that you may take. First is to <i>assemble the libraries individually</i>, then merge the assemblies into a single reference assembly. The second option is to <i>co-assemble</i> your sequencing libraries. This is simply a process of pooling together the reads from all of your libraries, and then generating a single assembly from the pooled reads.\n",
    "    \n",
    "So, what approach do you use? There isn't a direct answer to that since both methods have their pros and cons. Method 2 (co-assembly) may improve recovery of low-coverage regions since reads are pooled, but it may also assemble reads from closely related strains into the same contig. Method 1 avoids this problem, but do not benefit from the improved coverage that co-assembly presents. Ultimately, the best option, if possible is to try both approaches. But if limited on time and resources, you may select the method whose features better suit your objectives.\n",
    "    \n",
    "To perform co-assembly using <code>megahit</code>, you simply have to specify the paths to your FASTQ files delimited by comma.\n",
    "    \n",
    "The following readings may provide more insights into these two methods:\n",
    "    <li><a href='https://microbiomejournal.biomedcentral.com/articles/10.1186/s40168-022-01259-2'>Evaluating metagenomic assembly approaches for biome-specific gene catalogues</a></li>\n",
    "    <li><a href='https://angus.readthedocs.io/en/2019/recovering-rep-genomes-from-mgs.html#to-co-assemble-or-not-to-co-assemble'>Recovering “genomes” from metagenomes</a>\n",
    "</div>"
   ]
  },
  {
   "cell_type": "markdown",
   "metadata": {},
   "source": [
    "Again, after producing the metagenome assembly, you can calculate various assembly metrics using `quast`."
   ]
  },
  {
   "cell_type": "markdown",
   "metadata": {},
   "source": [
    "----\n",
    "# <font color = 'gray'>RNA-Seq Assembly</font>"
   ]
  },
  {
   "cell_type": "markdown",
   "metadata": {},
   "source": [
    "Trinity, developed at the Broad Institute and the Hebrew University of Jerusalem, represents a novel method for the efficient and robust de novo reconstruction of transcriptomes from RNA-seq data.\n",
    "\n",
    "_Source: [Trinity Wiki](https://github.com/trinityrnaseq/trinityrnaseq/wiki)_"
   ]
  },
  {
   "cell_type": "markdown",
   "metadata": {},
   "source": [
    "Below, we assume that `Trinity` has been setup using Docker. Make sure Docker Daemon is running before executing the code below. If not, type the following code in the terminal.\n",
    "\n",
    "```bash\n",
    "sudo service docker start\n",
    "```"
   ]
  },
  {
   "cell_type": "markdown",
   "metadata": {},
   "source": [
    "<div class=\"alert alert-block alert-info\">\n",
    "<b>Note:</b> \n",
    "    \n",
    "Trinity prefers to work with stranded RNA-seq data. Check what protocol you used in generating your RNA-seq data and supply the appropriate strandedness in the <code>--SS_lib_type</code> option. You can see more details here: <a href='https://github.com/trinityrnaseq/trinityrnaseq/wiki/Running-Trinity#strand_specific_assembly'>Strand-specific assembly</a>\n",
    "</div>"
   ]
  },
  {
   "cell_type": "code",
   "execution_count": null,
   "metadata": {},
   "outputs": [],
   "source": [
    "!docker run --rm -v `pwd`:`pwd` trinityrnaseq/trinityrnaseq Trinity \\\n",
    "    --seqType fq \\\n",
    "    --SS_lib_type 'RF'\n",
    "    --left `pwd`/reads_1.fq.gz \\\n",
    "    --right `pwd`/reads_2.fq.gz\n",
    "    --max_memory 1G \\\n",
    "    --CPU 4 \\\n",
    "    --output `pwd`/trinity_out_dir"
   ]
  },
  {
   "cell_type": "markdown",
   "metadata": {},
   "source": [
    "----\n",
    "# <font color = 'gray'>Assembly Evaluation</font>"
   ]
  },
  {
   "cell_type": "markdown",
   "metadata": {},
   "source": [
    "Once you’ve generated your assemblies, the next critical step is to evaluate the \"quality\" of the resulting contigs. Many commonly used assembly metrics focus on contiguity, which measures how long and contiguous the assembled sequences are. While contiguity provides useful insights, it does not always reflect the accuracy of an assembly.\n",
    "\n",
    "To assess accuracy, the ideal approach is to compare your assembly to a closely related reference genome. A reference serves as a benchmark to evaluate how biologically accurate your assembly is or how well it aligns with known sequences. However, references may not always be available. For instance, if you are working with a non-model organism, high-quality assemblies might not exist in public databases. Similarly, for shotgun metagenomics, defining a suitable reference can be challenging or even impossible due to the complex and diverse nature of microbial communities.\n",
    "\n",
    "In such cases, you may need to rely primarily on contiguity-based metrics as a proxy for assembly quality. While not perfect, these metrics can still provide a starting point for evaluating your assemblies when more comprehensive assessments are not feasible."
   ]
  },
  {
   "cell_type": "markdown",
   "metadata": {},
   "source": [
    "### QUAST\n",
    "\n",
    "`quast` is one of the widely used tools to assess assembly quality. Below we use the output of the [Genome Assembly](#Genome-Assembly) section as an example. The goal here is to compare the assemblies produced using three modes in SPAdes. The table below describes the options and inputs provided."
   ]
  },
  {
   "cell_type": "markdown",
   "metadata": {},
   "source": [
    "| option/input | description |\n",
    "| :-: | :- |\n",
    "| `-o` | Output folder |\n",
    "| `-l` | Header labels in the report. Should be in the same order as how the assembly files are supplied. |\n",
    "| `-r` | Reference genome file |\n",
    "| `spades_result_default/scaffolds.fasta`, `spades_result_careful/scaffolds.fasta`, `spades_result_isolate/scaffolds.fasta` | Input assembly files |"
   ]
  },
  {
   "cell_type": "code",
   "execution_count": null,
   "metadata": {},
   "outputs": [],
   "source": [
    "!quast.py \\\n",
    "    -o quast_out \\\n",
    "    -l \"default, careful, isolate\" \\\n",
    "    -r reference_genome.fasta \\\n",
    "    spades_result_default/scaffolds.fasta \\\n",
    "    spades_result_careful/scaffolds.fasta \\\n",
    "    spades_result_isolate/scaffolds.fasta"
   ]
  },
  {
   "cell_type": "markdown",
   "metadata": {},
   "source": [
    "You could also add the `-b` option. This will search for single-copy marker genes using BUSCO. The presence/absence of these marker genes can be used as proxy to measure the level of completeness and contamination of your assembly. This option is nice to use, for example, when assessing the quality of a metagenome-assembled genome (MAG). Evaluation methods discussed in the **Binning Module** is also applicable for this scenario."
   ]
  },
  {
   "cell_type": "markdown",
   "metadata": {},
   "source": [
    "For RNA-seq data, I refer you to the following page which discusses different ways to evaluate the assembly generated by Trinity: [Transcriptome Assembly Quality Assessment](https://github.com/trinityrnaseq/trinityrnaseq/wiki/Transcriptome-Assembly-Quality-Assessment)."
   ]
  },
  {
   "cell_type": "code",
   "execution_count": null,
   "metadata": {},
   "outputs": [],
   "source": []
  }
 ],
 "metadata": {
  "kernelspec": {
   "display_name": "Python 3",
   "language": "python",
   "name": "python3"
  },
  "language_info": {
   "codemirror_mode": {
    "name": "ipython",
    "version": 3
   },
   "file_extension": ".py",
   "mimetype": "text/x-python",
   "name": "python",
   "nbconvert_exporter": "python",
   "pygments_lexer": "ipython3",
   "version": "3.8.10"
  }
 },
 "nbformat": 4,
 "nbformat_minor": 4
}
