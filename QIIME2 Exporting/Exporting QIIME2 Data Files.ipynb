{
 "cells": [
  {
   "cell_type": "markdown",
   "metadata": {},
   "source": [
    "# Module: Exporting QIIME2 Data Files\n",
    "\n",
    "QIIME2 artifacts (`.qza`) and visualizations (`.qzv`) are not so useful outside QIIME2 since not many external tools support it. To be useable for other utilities, we need to export these into more common formats (e.g. TSV, FASTA, etc).\n",
    "\n",
    "This notebook demonstrates how you can convert QIIME2-native files into the more familiar bioinformatics file formats. In general, it is a fairly easy task that could be accomplished by the `qiime tools export` command. But discussed below are a few more steps that may be helpful when converting.\n",
    "\n",
    "The following was used as reference for this notebook: [QIIME2 Exporting](https://docs.qiime2.org/2024.10/tutorials/exporting/).\n",
    "\n",
    "Created by: _Microbial Oceanography Laboratory (MOLab)_"
   ]
  },
  {
   "cell_type": "markdown",
   "metadata": {},
   "source": [
    "<div class=\"alert alert-block alert-warning\">\n",
    "<b>Warning from QIIME2:</b> \n",
    "    \n",
    "When exporting data from a QIIME 2 artifact, there will no longer be provenance associated with the data. If you subsequently re-import the exported data, the provenance associated with the new artifact will begin with the import step and all existing provenance will be lost. It’s therefore best to only export data from artifacts when you are done with all processing steps that can be achieved with QIIME 2 to maximize the value of each artifact’s provenance.\n",
    "</div>"
   ]
  },
  {
   "cell_type": "markdown",
   "metadata": {},
   "source": [
    "---\n",
    "## How to Use This Notebook\n",
    "\n",
    "1. Activate conda environment in terminal window. Make sure to change the environment name to what is applicable in your case.\n",
    ">`conda activate qiime2-2023.2`\n",
    "2. Open jupyter notebook with the command below and select the notebook.\n",
    ">`jupyter notebook`\n",
    "3. To run the cells in this notebook, press Shift+Enter."
   ]
  },
  {
   "cell_type": "markdown",
   "metadata": {},
   "source": [
    "---\n",
    "## Tools Used\n",
    "1. **QIIME 2 Amplicon Distribution**\n",
    "    - Installation procedure can be found here: [QIIME2 native installation](https://docs.qiime2.org/2024.10/install/native/)"
   ]
  },
  {
   "cell_type": "markdown",
   "metadata": {},
   "source": [
    "---\n",
    "## Starting Files \n",
    "\n",
    "1. The following types of `.qza` files to export.\n",
    "    * `FeatureData[Taxonomy]`\n",
    "    * `FeatureTable[Frequency]`\n",
    "    * `FeatureData[Sequence]`\n",
    "    \n",
    "    \n",
    "2. Other `.qza` types that are exportable."
   ]
  },
  {
   "cell_type": "markdown",
   "metadata": {},
   "source": [
    "---\n",
    "## Expected Outputs\n",
    "\n",
    "1. Feature table BIOM and TSV file.\n",
    "2. Taxonomy assignments TSV file.\n",
    "3. FASTA file of feature sequences.\n",
    "4. Other file formats resulting from `qiime tools export`."
   ]
  },
  {
   "cell_type": "markdown",
   "metadata": {},
   "source": [
    "---\n",
    "## Table of Contents\n",
    " * [**Exporting Taxonomic Annotations**](#Exporting-Taxonomic-Annotations)\n",
    " * [**Exporting Feature Table**](#Exporting-Feature-Table)\n",
    " * [**Exporting Representative Sequences**](#Exporting-Representative-Sequences)\n",
    " * [**Exporting Other Formats**](#Exporting-Other-Formats)"
   ]
  },
  {
   "cell_type": "markdown",
   "metadata": {},
   "source": [
    "---\n",
    "# <font color = 'gray'>Exporting Taxonomic Annotations</font>"
   ]
  },
  {
   "cell_type": "markdown",
   "metadata": {},
   "source": [
    "The code below converts a `.qza` file of type `FeatureData[Taxonomy]` into a three-column TSV file named `taxonomy.tsv`. The columns are:\n",
    "\n",
    "* Feature ID - These are the OTU/ASV IDs.\n",
    "* Taxon - Inferred taxonomy for the feature.\n",
    "* Confidence - Confidence of the taxonomy assignment method."
   ]
  },
  {
   "cell_type": "code",
   "execution_count": null,
   "metadata": {},
   "outputs": [],
   "source": [
    "!qiime tools export \\\n",
    "    --input-path feature-taxa.qza \\\n",
    "    --output-path exported"
   ]
  },
  {
   "cell_type": "markdown",
   "metadata": {},
   "source": [
    "---\n",
    "# <font color = 'gray'>Exporting Feature Table</font>"
   ]
  },
  {
   "cell_type": "markdown",
   "metadata": {},
   "source": [
    "The code below converts a `.qza` of type `FeatureTable[Frequency]` to a [BIOM table](https://biom-format.org/documentation/table_objects.html). The exported file is located inside the path indicated in the `--output-path` argument, and the filename should be `feature-table.biom`."
   ]
  },
  {
   "cell_type": "code",
   "execution_count": null,
   "metadata": {},
   "outputs": [],
   "source": [
    "!qiime tools export \\\n",
    "    --input-path feature-table.qza \\\n",
    "    --output-path exported"
   ]
  },
  {
   "cell_type": "markdown",
   "metadata": {},
   "source": [
    "Excel-ready files are probably easier to use and manipulate than BIOM tables, so we further convert this into TSV."
   ]
  },
  {
   "cell_type": "code",
   "execution_count": null,
   "metadata": {},
   "outputs": [],
   "source": [
    "!biom convert \\\n",
    "    -i exported/feature-table.biom \\\n",
    "    -o exported/feature-table.tsv \\\n",
    "    --to-tsv"
   ]
  },
  {
   "cell_type": "markdown",
   "metadata": {},
   "source": [
    "Optionally, you could also append a new column containing the taxonomies assigned to the features. To do that, first you modify the header row of `taxonomy.tsv`."
   ]
  },
  {
   "cell_type": "code",
   "execution_count": null,
   "metadata": {},
   "outputs": [],
   "source": [
    "!sed '1c#OTUID\\ttaxonomy\\tconfidence' exported/taxonomy.tsv > exported/biom-taxonomy.tsv"
   ]
  },
  {
   "cell_type": "markdown",
   "metadata": {},
   "source": [
    "Then, you append the taxonomic identities to `feature-table.biom`."
   ]
  },
  {
   "cell_type": "code",
   "execution_count": null,
   "metadata": {},
   "outputs": [],
   "source": [
    "!biom add-metadata \\\n",
    "    -i exported/feature-table.biom \\\n",
    "    -o exported/feature-table-with-taxonomy.biom \\\n",
    "    --observation-metadata-fp exported/biom-taxonomy.tsv \\\n",
    "    --sc-separated taxonomy"
   ]
  },
  {
   "cell_type": "markdown",
   "metadata": {},
   "source": [
    "Finally, convert the feature table with taxonomic identities (`feature-table-with-taxonomy.biom`) to TSV."
   ]
  },
  {
   "cell_type": "code",
   "execution_count": null,
   "metadata": {},
   "outputs": [],
   "source": [
    "!biom convert \\\n",
    "    -i exported/feature-table-with-taxonomy.biom \\\n",
    "    -o exported/feature-table-with-taxonomy.tsv \\\n",
    "    --to-tsv \\\n",
    "    --header-key taxonomy"
   ]
  },
  {
   "cell_type": "markdown",
   "metadata": {},
   "source": [
    "---\n",
    "# <font color = 'gray'>Exporting Representative Sequences</font>"
   ]
  },
  {
   "cell_type": "markdown",
   "metadata": {},
   "source": [
    "The code below converts a `.qza` file of type `FeatureData[Sequence]` to a FASTA file."
   ]
  },
  {
   "cell_type": "code",
   "execution_count": null,
   "metadata": {},
   "outputs": [],
   "source": [
    "!qiime tools export \\\n",
    "    --input-path rep-seqs.qza \\\n",
    "    --output-path exported"
   ]
  },
  {
   "cell_type": "markdown",
   "metadata": {},
   "source": [
    "---\n",
    "# <font color = 'gray'>Exporting Other Formats</font>"
   ]
  },
  {
   "cell_type": "markdown",
   "metadata": {},
   "source": [
    "Check this reference for a few more `.qza` types that could be exported outside QIIME2: [QIIME2 exporting](https://docs.qiime2.org/2024.10/tutorials/exporting/)"
   ]
  }
 ],
 "metadata": {
  "kernelspec": {
   "display_name": "Python 3 (ipykernel)",
   "language": "python",
   "name": "python3"
  },
  "language_info": {
   "codemirror_mode": {
    "name": "ipython",
    "version": 3
   },
   "file_extension": ".py",
   "mimetype": "text/x-python",
   "name": "python",
   "nbconvert_exporter": "python",
   "pygments_lexer": "ipython3",
   "version": "3.8.15"
  }
 },
 "nbformat": 4,
 "nbformat_minor": 4
}
