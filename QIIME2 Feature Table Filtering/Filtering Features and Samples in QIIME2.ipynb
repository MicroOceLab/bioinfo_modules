{
 "cells": [
  {
   "cell_type": "markdown",
   "metadata": {},
   "source": [
    "<h1>Module: Filtering Features and Samples in QIIME2</h1>\n",
    "\n",
    "At times there are features (i.e. OTUs, ASVs) that may add noise to the data or are simply not relevant to the analysis, or samples that you may want to exclude. This module illustrates how to remove these features and/or samples from the feature table and representative sequences.\n",
    "\n",
    "This module was built with the following as the main references: [LangilleLab SOP](https://github.com/LangilleLab/microbiome_helper/wiki/Amplicon-SOP-v2-(qiime2-2020.8)), [\"Moving pictures\" Tutorial](https://docs.qiime2.org/2021.2/tutorials/moving-pictures/), and [QIIME2 filtering feature tables](https://docs.qiime2.org/jupyterbooks/cancer-microbiome-intervention-tutorial/030-tutorial-downstream/010-filtering.html).\n",
    "\n",
    "Created by: _Microbial Oceanography Laboratory (MOLab)_"
   ]
  },
  {
   "cell_type": "markdown",
   "metadata": {},
   "source": [
    "---\n",
    "## How to Use This Notebook\n",
    "\n",
    "1. Activate conda environment in terminal window. Make sure to change the environment name to what is applicable in your case.\n",
    "```bash\n",
    "conda activate qiime2-2023.2\n",
    "```\n",
    "2. Open jupyter notebook with the command below and select the notebook.\n",
    "```bash\n",
    "jupyter notebook\n",
    "```\n",
    "3. To run the cells in this notebook, press Shift+Enter."
   ]
  },
  {
   "cell_type": "markdown",
   "metadata": {},
   "source": [
    "---\n",
    "## Tools Used\n",
    "1. **QIIME 2 Amplicon Distribution**\n",
    "    - Installation procedure can be found here: [QIIME2 native installation](https://docs.qiime2.org/2024.10/install/native/)"
   ]
  },
  {
   "cell_type": "markdown",
   "metadata": {},
   "source": [
    "---\n",
    "## Starting Files \n",
    "\n",
    "1. This Jupyter notebook.\n",
    "2. QIIME2 artifact of type `FeatureTable[Frequency]` (named `feature-table.qza` below).\n",
    "3. QIIME2 artifact of type `FeatureData[Sequence]` (named `rep-seqs.qza` below)."
   ]
  },
  {
   "cell_type": "markdown",
   "metadata": {},
   "source": [
    "---\n",
    "## Expected Outputs\n",
    "\n",
    "1. Filtered feature table (`.qza` of type `FeatureTable[Frequency]`).\n",
    "2. Filtered feature sequences (`.qza` of type `FeatureData[Sequence]`)."
   ]
  },
  {
   "cell_type": "markdown",
   "metadata": {},
   "source": [
    "---\n",
    "## Table of Contents\n",
    " * [**Filtering Singletons**](#Filtering-Singletons)  \n",
    " * [**Filtering Chimeras**](#Filtering-Chimeras)\n",
    "     * [Identification of chimeras](#Identification-of-chimeras)\n",
    "     * [Removing chimeras](#Removing-chimeras)\n",
    " * [**Filtering Taxa**](#Filtering-Taxa)\n",
    " * [**Other Filtering Options**](#Other-Filtering-Options)"
   ]
  },
  {
   "cell_type": "markdown",
   "metadata": {},
   "source": [
    "---\n",
    "# <font color = 'gray'>Filtering Singletons</font>\n",
    "\n",
    "Singletons are features that have a frequency of 1. We can remove singletons from the feature table using `feature-table filter-features`. The `--p-min-frequency` parameter is set to 2 to remove those occuring only once."
   ]
  },
  {
   "cell_type": "markdown",
   "metadata": {},
   "source": [
    "<div class=\"alert alert-block alert-info\">\n",
    "<b>Note:</b> \n",
    "    \n",
    "Removing singletons is optional. But since some low-abundance reads may be artifacts, this gives you an opportunity to further clean your data. If you are interested in rare taxa you can perform a separate analysis looking into the low-abundance OTUs only.\n",
    "</div>"
   ]
  },
  {
   "cell_type": "markdown",
   "metadata": {},
   "source": [
    "<div class=\"alert alert-block alert-info\">\n",
    "<b>Note:</b> \n",
    "    \n",
    "If you are using DADA2, by default, singletons are automatically removed.\n",
    "</div>"
   ]
  },
  {
   "cell_type": "code",
   "execution_count": null,
   "metadata": {},
   "outputs": [],
   "source": [
    "!qiime feature-table filter-features \\\n",
    "    --i-table feature-table.qza  \\\n",
    "    --p-min-frequency 2 \\\n",
    "    --o-filtered-table feature-table-no-singletons.qza"
   ]
  },
  {
   "cell_type": "markdown",
   "metadata": {},
   "source": [
    "To remove the singletons in `rep-seqs.qza` as well, we subsequently run `feature-table filter-seqs`."
   ]
  },
  {
   "cell_type": "code",
   "execution_count": null,
   "metadata": {},
   "outputs": [],
   "source": [
    "!qiime feature-table filter-seqs \\\n",
    "    --i-data rep-seqs.qza \\\n",
    "    --i-table feature-table-no-singletons.qza \\\n",
    "    --o-filtered-data rep-seqs-no-singletons.qza"
   ]
  },
  {
   "cell_type": "markdown",
   "metadata": {},
   "source": [
    "Produce visualizations (`.qzv`) for the filtered feature table and representative sequences."
   ]
  },
  {
   "cell_type": "code",
   "execution_count": null,
   "metadata": {},
   "outputs": [],
   "source": [
    "!qiime feature-table summarize \\\n",
    "    --i-table feature-table-no-singletons.qza  \\\n",
    "    --o-visualization feature-table-no-singletons.qzv"
   ]
  },
  {
   "cell_type": "code",
   "execution_count": null,
   "metadata": {},
   "outputs": [],
   "source": [
    "!qiime feature-table tabulate-seqs \\\n",
    "    --i-data rep-seqs-no-singletons.qza \\\n",
    "    --o-visualization rep-seqs-no-singletons.qzv"
   ]
  },
  {
   "cell_type": "markdown",
   "metadata": {},
   "source": [
    "---\n",
    "# <font color = 'gray'>Filtering Chimeras</font>\n",
    "\n",
    "Chimeras are sequences that are artifacts generated during PCR. Since they are not biologically true sequences, we can remove them using the following steps."
   ]
  },
  {
   "cell_type": "markdown",
   "metadata": {},
   "source": [
    "### Identification of chimeras"
   ]
  },
  {
   "cell_type": "markdown",
   "metadata": {},
   "source": [
    "First, identify chimeric and non-chimeric sequences using `vsearch uchime`. "
   ]
  },
  {
   "cell_type": "code",
   "execution_count": null,
   "metadata": {},
   "outputs": [],
   "source": [
    "!qiime vsearch uchime-denovo \\\n",
    "    --i-sequences rep-seqs.qza \\\n",
    "    --i-table feature-table.qza \\\n",
    "    --output-dir chimeras/"
   ]
  },
  {
   "cell_type": "markdown",
   "metadata": {},
   "source": [
    "### Removing chimeras"
   ]
  },
  {
   "cell_type": "markdown",
   "metadata": {},
   "source": [
    "Afterwards, filter out from the feature table and sequences the OTUs identified as chimeric."
   ]
  },
  {
   "cell_type": "code",
   "execution_count": null,
   "metadata": {},
   "outputs": [],
   "source": [
    "!qiime feature-table filter-features \\\n",
    "    --i-table feature-table.qza \\\n",
    "    --m-metadata-file chimeras/nonchimeras.qza \\\n",
    "    --o-filtered-table feature-table-no-chimeras.qza"
   ]
  },
  {
   "cell_type": "code",
   "execution_count": null,
   "metadata": {},
   "outputs": [],
   "source": [
    "!qiime feature-table filter-seqs \\\n",
    "    --i-data rep-seqs.qza \\\n",
    "    --i-table feature-table-no-chimeras.qza \\\n",
    "    --o-filtered-data rep-seqs-no-chimeras.qza"
   ]
  },
  {
   "cell_type": "markdown",
   "metadata": {},
   "source": [
    "Produce visualizations (`.qzv`) for the table and representative sequences rid of chimeras."
   ]
  },
  {
   "cell_type": "code",
   "execution_count": null,
   "metadata": {},
   "outputs": [],
   "source": [
    "!qiime feature-table summarize \\\n",
    "    --i-table feature-table-no-chimeras.qza  \\\n",
    "    --o-visualization feature-table-no-chimeras.qzv"
   ]
  },
  {
   "cell_type": "code",
   "execution_count": null,
   "metadata": {},
   "outputs": [],
   "source": [
    "!qiime feature-table tabulate-seqs \\\n",
    "    --i-data rep-seqs-no-chimeras.qza \\\n",
    "    --o-visualization rep-seqs-no-chimeras.qzv"
   ]
  },
  {
   "cell_type": "markdown",
   "metadata": {},
   "source": [
    "---\n",
    "# <font color = 'gray'>Filtering Taxa</font>\n",
    "\n",
    "This section demonstrates how you can exclude some taxonomic groups from the OTU table and OTU representative sequences."
   ]
  },
  {
   "cell_type": "markdown",
   "metadata": {},
   "source": [
    "<div class=\"alert alert-block alert-info\">\n",
    "<b>Note:</b> \n",
    "    \n",
    "Taxa filtering is optional as well since this depends on the scope of your study.\n",
    "</div>"
   ]
  },
  {
   "cell_type": "markdown",
   "metadata": {},
   "source": [
    "<div class=\"alert alert-block alert-info\">\n",
    "<b>Note:</b> \n",
    "    \n",
    "This step assumes that you have assigned taxonomic identities to the representative sequences (<code>rep-seqs-taxa.qza</code>). Additionally, it assumes that the labels follow the same format as SILVA. Check <code>Metabarcoding Taxonomic Assignment.ipynb</code> notebook or module.\n",
    "</div>"
   ]
  },
  {
   "cell_type": "markdown",
   "metadata": {},
   "source": [
    "The code below removes the features in the feature table having the same taxonomic annotation as the ones listed in the `--p-exclude`. Moreover, in the `--p-include`, specifying `p__` here tells the command to include only features with at least a phylum level annotation."
   ]
  },
  {
   "cell_type": "code",
   "execution_count": null,
   "metadata": {},
   "outputs": [],
   "source": [
    "!qiime taxa filter-table \\\n",
    "    --i-table feature-table.qza \\\n",
    "    --i-taxonomy rep-seqs-taxa.qza \\\n",
    "    --p-exclude p__Metazoa,p__Fungi,p__Porifera,p__Cnidaria,p__Lophophorata,p__Platyhelminthes \\\n",
    "    --p-include p__ \\\n",
    "    --o-filtered-table feature-table-tax-filtered.qza"
   ]
  },
  {
   "cell_type": "markdown",
   "metadata": {},
   "source": [
    "Then you can apply the same filter to `rep-seqs.qza`."
   ]
  },
  {
   "cell_type": "code",
   "execution_count": null,
   "metadata": {},
   "outputs": [],
   "source": [
    "!qiime taxa filter-seqs \\\n",
    "    --i-sequences rep-seqs.qza \\\n",
    "    --i-taxonomy rep-seqs-taxa.qza \\\n",
    "    --p-exclude p__Metazoa,p__Fungi,p__Porifera,p__Cnidaria,p__Lophophorata,p__Platyhelminthes \\\n",
    "    --p-include p__ \\\n",
    "    --o-filtered-sequences rep-seqs-taxa-filtered.qza"
   ]
  },
  {
   "cell_type": "markdown",
   "metadata": {},
   "source": [
    "---\n",
    "# <font color = 'gray'>Other Filtering Options</font>"
   ]
  },
  {
   "cell_type": "markdown",
   "metadata": {},
   "source": [
    "Another powerful argument that you might find useful is the `--p-where` option. You could specify an SQLite clause with it to filter your feature table and/or feature sequences according to your metadata. "
   ]
  },
  {
   "cell_type": "markdown",
   "metadata": {},
   "source": [
    "Sample metadata:"
   ]
  },
  {
   "cell_type": "markdown",
   "metadata": {},
   "source": [
    "| sample-id | SITE | MONTH |\n",
    "|-----------|------|-------|\n",
    "| A         | S1   | JAN   |\n",
    "| B         | S1   | FEB   |\n",
    "| C         | S2   | MAR|\n",
    "| D         | S2  | APR  |\n",
    "| E  | S3  | MAY  |\n",
    "| F  | S3  | JUN  |"
   ]
  },
  {
   "cell_type": "markdown",
   "metadata": {},
   "source": [
    "Consider the metadata table displayed above. The code below uses the `filter-feature` method to select only the samples whose value under the `MONTH` column is `APR` or `MAR`."
   ]
  },
  {
   "cell_type": "code",
   "execution_count": null,
   "metadata": {},
   "outputs": [],
   "source": [
    "!qiime feature-table filter-features \\\n",
    "    --i-table feature-table.qza \\\n",
    "    --m-metadata-file metadata.txt \\\n",
    "    --p-where \"[MONTH]='APR' OR [MONTH]='MAR'\"\n",
    "    --o-filtered-table feature-table-no-chimeras.qza"
   ]
  }
 ],
 "metadata": {
  "kernelspec": {
   "display_name": "Python 3",
   "language": "python",
   "name": "python3"
  },
  "language_info": {
   "codemirror_mode": {
    "name": "ipython",
    "version": 3
   },
   "file_extension": ".py",
   "mimetype": "text/x-python",
   "name": "python",
   "nbconvert_exporter": "python",
   "pygments_lexer": "ipython3",
   "version": "3.8.10"
  }
 },
 "nbformat": 4,
 "nbformat_minor": 4
}
