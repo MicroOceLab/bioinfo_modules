{
 "cells": [
  {
   "cell_type": "markdown",
   "metadata": {},
   "source": [
    "# Module: Pangenomic Analysis in Anvi'o\n",
    "\n",
    "Pangenomics is the study of the collective set of genes within a group of related organisms, encompassing both the core genome shared by all members and the accessory genome, which includes genes unique to subsets or individuals. This approach provides a comprehensive view of genetic diversity, revealing how organisms adapt to specific environments, acquire unique traits, or respond to evolutionary pressures.\n",
    "\n",
    "In this notebook, we will explore how pangenome analysis is performed using the bioinformatic suite, Anvi'o.\n",
    "\n",
    "This module was built with the following as the main references: [Anvi'o Pangenomics Workflow](https://merenlab.org/2016/11/08/pangenomics-v2/).\n",
    "\n",
    "Created by: _Microbial Oceanography Laboratory (MOLab)_"
   ]
  },
  {
   "cell_type": "markdown",
   "metadata": {},
   "source": [
    "---\n",
    "## How to Use This Notebook\n",
    "\n",
    "1. Activate conda environment in terminal window. Make sure to change the environment name to what is applicable in your case.\n",
    "```bash\n",
    "conda activate pangenomics-env\n",
    "```\n",
    "2. Open jupyter notebook with the command below and select the notebook.\n",
    "```bash\n",
    "jupyter notebook\n",
    "```\n",
    "3. To run the cells in this notebook, press Shift+Enter."
   ]
  },
  {
   "cell_type": "markdown",
   "metadata": {},
   "source": [
    "---\n",
    "## Tools Used\n",
    "1. **Anvi'o v8**\n",
    "    - Installation procedure can be found here: [Anvi'o Linux Installation](https://anvio.org/install/linux/stable/)"
   ]
  },
  {
   "cell_type": "markdown",
   "metadata": {},
   "source": [
    "---\n",
    "## Starting Files \n",
    "\n",
    "1. FASTA file of query genome(s) (see **Assembly Module** and/or **Binning Module**).\n",
    "2. FASTA file of reference genome(s). A great place to look for reference genomes is the [NCBI Genome Data Viewer](https://www.ncbi.nlm.nih.gov/gdv).\n",
    "\n",
    "In the codes below, we assume that the FASTA files have a `.fa` extension, and that they are placed inside the `0-genomes` folder."
   ]
  },
  {
   "cell_type": "markdown",
   "metadata": {},
   "source": [
    "---\n",
    "## Expected Outputs\n",
    "\n",
    "1. Anvi'o pangenome display\n",
    "2. Exported FASTA sequences"
   ]
  },
  {
   "cell_type": "markdown",
   "metadata": {},
   "source": [
    "---\n",
    "## Table of Contents\n",
    " * [**Clean FASTA Files**](#Clean-FASTA-Files)\n",
    " * [**Generate Databases**](#Generate-Databases)\n",
    "     * [Contigs DB](#Contigs-DB)\n",
    "     * [Genomes DB](#Genomes-DB)\n",
    " * [**Pangenome**](#Pangenome)\n",
    "     * [Generate the pangenome](#Generate-the-pangenome)\n",
    "     * [Display pangenome](#Display-pangenome)\n",
    " * [**Extras**](#Extras)\n",
    "     * [Modifying Visual](#Modifying-Visual)\n",
    "     * [Selecting Gene Clusters](#Selecting-Gene-Clusters)\n",
    "     * [Exporting Bin Collection](#Exporting-Bin-Collection)"
   ]
  },
  {
   "cell_type": "markdown",
   "metadata": {},
   "source": [
    "----\n",
    "# <font color = 'gray'>Clean FASTA Files</font>"
   ]
  },
  {
   "cell_type": "markdown",
   "metadata": {},
   "source": [
    "Some steps are picky about the formatting of the FASTA file. Before we proceed, let's make sure that the query and reference genome FASTA files are properly formatted. The command below simplifies the FASTA header and removes the ambiguouos bases (Ns)."
   ]
  },
  {
   "cell_type": "markdown",
   "metadata": {},
   "source": [
    "<div class=\"alert alert-block alert-info\">\n",
    "<b>Note:</b> \n",
    "\n",
    "The code below already loops through all files inside the <code>0-genomes/</code> folder so there's no need to re-run for each genome FASTA file.\n",
    "</div>"
   ]
  },
  {
   "cell_type": "code",
   "execution_count": null,
   "metadata": {},
   "outputs": [],
   "source": [
    "%%bash\n",
    "\n",
    "mkdir -p \"1-clean_genomes\"\n",
    "\n",
    "for f in 0-genomes/*\n",
    "do\n",
    "    output=\"1-clean_genomes/${f#*/}\"\n",
    "    output=\"${output%.fa}-clean.fa\"\n",
    "    \n",
    "    anvi-script-reformat-fasta \\\n",
    "        \"${f}\" \\\n",
    "        -o \"${output}\" \\\n",
    "        --simplify-names \\\n",
    "        --report-file $(basename ${f})-report.txt \\\n",
    "        --seq-type NT\n",
    "done"
   ]
  },
  {
   "cell_type": "markdown",
   "metadata": {},
   "source": [
    "----\n",
    "# <font color = 'gray'>Generate Databases</font>"
   ]
  },
  {
   "cell_type": "markdown",
   "metadata": {},
   "source": [
    "### Contigs DB"
   ]
  },
  {
   "cell_type": "markdown",
   "metadata": {},
   "source": [
    "Anvi'o does not work directly with FASTA files. We have to convert the assemblies first into a `contigs-db` object as demonstrated below. Additionally, besides converting to an Anvi'o native object, the command `anvi-gen-contigs-database`, by default, also identifies open reading frames in the genome."
   ]
  },
  {
   "cell_type": "markdown",
   "metadata": {},
   "source": [
    "<div class=\"alert alert-block alert-warning\">\n",
    "<b>Warning</b> \n",
    "\n",
    "The gene caller used by Anvi'o in this step is specifically catered for prokaryotic organisms. If you are working with a eukaryotic genome, it is best if you use another tool to identify the ORFs in your genome (see <b>Contig Level Functional Annotation Module</b>). You then need to use the <code>--external-gene-calls</code> argument to supply the locations of the predicted ORFs (formatting of the external gene calls file is described <a href=\"https://anvio.org/help/main/artifacts/external-gene-calls/\">here</a>).\n",
    "    \n",
    "If you decided to use AUGUSTUS as the external gene caller, a custom script (<code>augustus_gff_to_anvio_ext_gene_calls.py</code>) has also been provided to convert the AUGUSTUS GFF file into an Anvi'o external gene calls file. Run <code>./augustus_gff_to_anvio_ext_gene_calls.py -h</code> to see usage information.\n",
    "</div>"
   ]
  },
  {
   "cell_type": "code",
   "execution_count": null,
   "metadata": {},
   "outputs": [],
   "source": [
    "%%bash\n",
    "\n",
    "mkdir -p \"2-contigs_db\"\n",
    "\n",
    "for f in 1-clean_genomes/*\n",
    "do\n",
    "    prefix=\"${f#*/}\"\n",
    "    prefix=\"${prefix%*.fa}\"\n",
    "    \n",
    "    anvi-gen-contigs-database \\\n",
    "        -f ${f} \\\n",
    "        -o 2-contigs_db/${prefix}_contigs_db.db \\\n",
    "        --project-name ${prefix}\n",
    "done"
   ]
  },
  {
   "cell_type": "markdown",
   "metadata": {},
   "source": [
    "### Genomes DB"
   ]
  },
  {
   "cell_type": "markdown",
   "metadata": {},
   "source": [
    "This step creates a `genomes-storage-db` object which is primarily used for pangenomic analysis."
   ]
  },
  {
   "cell_type": "markdown",
   "metadata": {},
   "source": [
    "#### Create a mapping file\n",
    "\n",
    "First, we need to make a mapping file that specifies a name for each of the `contigs-db` as well as their filepath. The code below does this for us; it creates a file named `genomes-storage.txt` that expl"
   ]
  },
  {
   "cell_type": "markdown",
   "metadata": {},
   "source": [
    "<div class=\"alert alert-block alert-warning\">\n",
    "<b>Warning</b> \n",
    "\n",
    "Double check the <code>genomes-storage.txt</code>. The names used inside the file are based on the filenames of your input files. However, Anvi'o requires that they do not start with a number, and do not contain other special characters. A prompt will appear in the next command if the names do not follow Anvi'o's required formatting. Edit the names in <code>genomes-storage.txt</code> if necessary.\n",
    "</div>"
   ]
  },
  {
   "cell_type": "code",
   "execution_count": null,
   "metadata": {},
   "outputs": [],
   "source": [
    "%%bash\n",
    "\n",
    "mkdir -p \"3-genomes_db\"\n",
    "\n",
    "echo -e \"name\\tcontigs_db_path\" >> 3-genomes_db/genomes-storage.txt\n",
    "\n",
    "for f in 2-contigs_db/*\n",
    "do\n",
    "    prefix=\"${f#*/}\"\n",
    "    prefix=\"${prefix%*-clean_contigs_db.db}\"\n",
    "    \n",
    "    echo -e \"${prefix}\\t$(readlink -f ${f})\" >> 3-genomes_db/genomes-storage.txt\n",
    "done"
   ]
  },
  {
   "cell_type": "markdown",
   "metadata": {},
   "source": [
    "#### Create genomes-db\n",
    "\n",
    "Finally, we create a collection of the query and reference genomes."
   ]
  },
  {
   "cell_type": "markdown",
   "metadata": {},
   "source": [
    "<div class=\"alert alert-block alert-warning\">\n",
    "<b>Warning</b> \n",
    "\n",
    "If you used external gene calls for the contigs, you may need to the <code>--gene-caller</code> argument in the command below. Check <code>anvi-gen-genomes-storage -h</code> for more information.\n",
    "</div>"
   ]
  },
  {
   "cell_type": "code",
   "execution_count": null,
   "metadata": {},
   "outputs": [],
   "source": [
    "!anvi-gen-genomes-storage \\\n",
    "    -e 3-genomes_db/genomes-storage.txt \\\n",
    "    -o 3-genomes_db/MY-GENOMES.db"
   ]
  },
  {
   "cell_type": "markdown",
   "metadata": {},
   "source": [
    "----\n",
    "# <font color = 'gray'>Pangenome</font>"
   ]
  },
  {
   "cell_type": "markdown",
   "metadata": {},
   "source": [
    "### Generate the pangenome\n",
    "\n",
    "This portion will run the core step in Anvio's pangenomic analysis workflow. This will align the sequences between the genomes, and identify and refine gene clusters. A simple use case is shown below."
   ]
  },
  {
   "cell_type": "markdown",
   "metadata": {},
   "source": [
    "| Argument | Description |\n",
    "| :-: | :- |\n",
    "| `-g` | `genomes-storage-db` generated by `anvi-gen-genomes-storage` |\n",
    "| `-n` | project name |\n",
    "| `--mcl-inflation` | MCL is used to identify clusters based on amino acid sequence similarity. According to Anvio's documentation, a value of 2 can be used when comparing distant genomes (i.e. family or higher taxonomic level), while 10 is used for closely related genomes (i.e. strain level) |"
   ]
  },
  {
   "cell_type": "code",
   "execution_count": null,
   "metadata": {},
   "outputs": [],
   "source": [
    "!anvi-pan-genome \\\n",
    "    -g 3-genomes_db/MY-GENOMES.db \\\n",
    "    -n MY_PANGENOME \\\n",
    "    --mcl-inflation 8"
   ]
  },
  {
   "cell_type": "markdown",
   "metadata": {},
   "source": [
    "### Display pangenome"
   ]
  },
  {
   "cell_type": "markdown",
   "metadata": {},
   "source": [
    "Finally, you can display an interactive visual of the pangenome. If you scroll down towards the end of the CLI output, you will see a detail about \"Server Address\". Copy the address to your browser to access the interactive pangenome display. If this address does not work, you can try either `http://localhost:8080/` or `http://127.0.0.1:8080/`.\n",
    "\n",
    "A whole bunch of details on what you could do with this interactive plot is discussed [here](https://merenlab.org/2016/11/08/pangenomics-v2/#displaying-the-pan-genome)."
   ]
  },
  {
   "cell_type": "code",
   "execution_count": null,
   "metadata": {},
   "outputs": [],
   "source": [
    "!anvi-display-pan \\\n",
    "    -p MY_PANGENOME/MY_PANGENOME-PAN.db \\\n",
    "    -g 3-genomes_db/MY-GENOMES.db"
   ]
  },
  {
   "cell_type": "markdown",
   "metadata": {},
   "source": [
    "----\n",
    "# <font color = 'gray'>Extras</font>"
   ]
  },
  {
   "cell_type": "markdown",
   "metadata": {},
   "source": [
    "### Modifying Visual\n",
    "\n",
    "The primary control for the overall layout can be found in the _Main_ tab (upper left).\n",
    "\n",
    "If you want to hide some layers in the visual, under the tab _Main_ > _Layer_, set the _Height_ of the layer to 0 and click _Draw_ to redraw the visual.\n",
    "\n",
    "If you want to change the ordering of the gene clusters, go to _Main_ > _Display_ and change the _Items order_. In this same subsection, you can also change whether to display gene frequences or simply presence/absence (_View_).\n",
    "\n",
    "Additional visual control can be found in the _Layers_ tab. Here you can change the settings for the summary stats per genome (under _Layers_ subsection). You can also generate a phylogenetic tree based on a bin collection using the through the _Display_ subsection."
   ]
  },
  {
   "cell_type": "markdown",
   "metadata": {},
   "source": [
    "### Selecting Gene Clusters\n",
    "\n",
    "For demonstration, we will go through how to specifically select single-copy gene clusters (SCGs).\n",
    "\n",
    "To add the SCGs to a bin (i.e. a pool of selected sequences), go to _Search_ tab (upper left). Open the _Search gene clusters using filters_ dropdown pane. Check _Min number of genomes gene cluster occurs_ and specify the number of genomes you have in your pangenome. Check _Max number of genes from each genome_ and set 1. Scroll down and click _Append splits to selected bin_. The SCGs should now be added to a bin.\n",
    "\n",
    "You can also save the bin(s) as a collection for later use. Go to the _Bins_ tab. Check if the number of _Gene Clusters_ match the number of selected sequences. Save as a collection by clicking _Store bin collection_ - give it a name that you can easily remember - and click _Store_."
   ]
  },
  {
   "cell_type": "markdown",
   "metadata": {},
   "source": [
    "### Exporting Bin Collection\n",
    "\n",
    "Following the example above, to export the bin collection as sequences, we use the sample code below. We assume here that the name of the saved collection `SCG_Collection` and that only a single bin, named `SCG`, is present in this collection.\n",
    "\n",
    "Furthermore, we also add some filtering options. This is optional, but if you would like to conduct, say, phylogenomic analysis, selecting sequences that are not too divergent may minimize chances of generating a spurious tree. Try out different filtering thresholds, and see how the resulting tree changes.\n",
    "\n",
    "More details about the filtering criterion (homogeneity index) can be found [here](https://merenlab.org/2016/11/08/pangenomics-v2/#concept-of-homogeneity)."
   ]
  },
  {
   "cell_type": "code",
   "execution_count": null,
   "metadata": {},
   "outputs": [],
   "source": [
    "!anvi-get-sequences-for-gene-clusters \\\n",
    "    -p MY_PANGENOME/MY_PANGENOME-PAN.db \\\n",
    "    -g 3-genomes_db/MY-GENOMES.db \\\n",
    "    -C SCG_Bin \\\n",
    "    -b SCG \\\n",
    "    -o SCG_filtered.fa \\\n",
    "    --min-combined-homogeneity-index 0.8 \\\n",
    "    --concatenate-gene-clusters \\\n",
    "    --separator None"
   ]
  }
 ],
 "metadata": {
  "kernelspec": {
   "display_name": "Python 3",
   "language": "python",
   "name": "python3"
  },
  "language_info": {
   "codemirror_mode": {
    "name": "ipython",
    "version": 3
   },
   "file_extension": ".py",
   "mimetype": "text/x-python",
   "name": "python",
   "nbconvert_exporter": "python",
   "pygments_lexer": "ipython3",
   "version": "3.8.10"
  }
 },
 "nbformat": 4,
 "nbformat_minor": 4
}
