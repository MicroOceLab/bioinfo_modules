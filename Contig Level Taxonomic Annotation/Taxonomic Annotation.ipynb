{
 "cells": [
  {
   "cell_type": "markdown",
   "metadata": {},
   "source": [
    "# Module: Taxonomic Annotation\n",
    "\n",
    "Taxonomic annotation of contigs (and bins) is a crucial step in metagenomic analysis, enabling the identification and classification of microbial communities from sequencing data. Contigs, which are contiguous sequences assembled from reads, can be annotated by comparing them to reference databases to determine their likely taxonomic origin. By doing so, we gain insights into the diversity of microorganisms within a sample.\n",
    "\n",
    "In this module, we explore different tools commonly used for taxonomic classification of contigs and bins.\n",
    "\n",
    "Created by: Microbial Oceanography Laboratory (MOLab)"
   ]
  },
  {
   "cell_type": "markdown",
   "metadata": {},
   "source": [
    "---\n",
    "## How to Use This Notebook\n",
    "\n",
    "1. Make sure tools are installed already (see below if not yet).\n",
    "2. Activate environment. Replace environment name accordingly.\n",
    "```bash\n",
    "conda activate tax-annot-env\n",
    "```\n",
    "2. Open jupyter notebook with the command below and select the notebook.\n",
    "```bash\n",
    "jupyter notebook\n",
    "```\n",
    "3. To run the cells in this notebook, press Shift+Enter."
   ]
  },
  {
   "cell_type": "markdown",
   "metadata": {},
   "source": [
    "---\n",
    "## How to Use This Notebook\n",
    "\n",
    "1. Make sure tools are installed already (see below if not yet).\n",
    "2. Activate environment. Replace environment name accordingly.\n",
    "```bash\n",
    "conda activate tax-annot-env\n",
    "```\n",
    "2. Open jupyter notebook with the command below and select the notebook.\n",
    "```bash\n",
    "jupyter notebook\n",
    "```\n",
    "3. To run the cells in this notebook, press Shift+Enter."
   ]
  },
  {
   "cell_type": "markdown",
   "metadata": {},
   "source": [
    "---\n",
    "## Tools Used\n",
    "1. **EukRep**\n",
    "2. **VirSorter2**\n",
    "3. **MMSeqs2**\n",
    "4. **Bin Annotation Tool (BAT)**\n",
    "\n",
    "To install tools (1) - (3), find the tax-annot.yaml file located in the same folder as this notebook (in repository). Then run the command below in the terminal:\n",
    "```bash\n",
    "conda env create -f tax-annot.yaml\n",
    "```\n",
    "\n",
    "Since tool (4) requires high memory (due to size of databased used), it is better if it is accessed through HPCs or [EU Galaxy Webserver](https://usegalaxy.eu/)."
   ]
  },
  {
   "cell_type": "markdown",
   "metadata": {},
   "source": [
    "---\n",
    "## Starting Files\n",
    "\n",
    "1. A contig FASTA file (`assembly_contigs.fa`) generated from assembly (see **Assembly Module**).\n",
    "2. A FASTA file of a metagenome-assembled genome or bin (`bin_7.fa`; see **Binning Module**)."
   ]
  },
  {
   "cell_type": "markdown",
   "metadata": {},
   "source": [
    "---\n",
    "## Expected Outputs\n",
    "\n",
    "Output(s) may depend on the tool used."
   ]
  },
  {
   "cell_type": "markdown",
   "metadata": {},
   "source": [
    "---\n",
    "## Table of Contents\n",
    " * [**EukRep**](#EukRep)  \n",
    " * [**VirSorter2**](#VirSorter2)  \n",
    " * [**MMSeqs2**](#MMSeqs2)  \n",
    " * [**Bin Annotation Tool (BAT)**](#Bin-Annotation-Tool-(BAT))"
   ]
  },
  {
   "cell_type": "markdown",
   "metadata": {},
   "source": [
    "---\n",
    "# <font color = 'gray'>EukRep</font>"
   ]
  },
  {
   "cell_type": "markdown",
   "metadata": {},
   "source": [
    "`EukRep` is a tool designed to identify eukaryotic contigs in metagenomic datasets by analyzing k-mer profiles. While it does not provide specific taxonomic classifications for the identified contigs, it excels in isolating the eukaryotic fraction of the dataset. This makes it particularly useful for downstream analyses that focus on diversity, functional potential, or evolutionary relationships of eukaryotes within a metagenomic sample."
   ]
  },
  {
   "cell_type": "markdown",
   "metadata": {},
   "source": [
    "### How to run?"
   ]
  },
  {
   "cell_type": "markdown",
   "metadata": {},
   "source": [
    "To run `EukRep`, you simply need to provide the FASTA file of contigs."
   ]
  },
  {
   "cell_type": "markdown",
   "metadata": {},
   "source": [
    "| option/input | description |\n",
    "| :-: | :- |\n",
    "| `-i` | Input contig FASTA file. |\n",
    "| `-o` | Output filename of predicted eukaryotic sequences. |"
   ]
  },
  {
   "cell_type": "code",
   "execution_count": null,
   "metadata": {},
   "outputs": [],
   "source": [
    "!EukRep \\\n",
    "    -i assembly_contigs.fa \\\n",
    "    -o euk_contigs.fa "
   ]
  },
  {
   "cell_type": "markdown",
   "metadata": {},
   "source": [
    "### What are its outputs?"
   ]
  },
  {
   "cell_type": "markdown",
   "metadata": {},
   "source": [
    "As mentioned above, `EukRep` will output a FASTA file containing the contigs inferred as eukaryotic."
   ]
  },
  {
   "cell_type": "markdown",
   "metadata": {},
   "source": [
    "<div class=\"alert alert-block alert-warning\">\n",
    "<b>Warning</b> \n",
    "\n",
    "You can also pull out the prokaryotic contigs using the <code>--prokarya</code> argument. However, for <code>EukRep</code>, prokaryotic contigs are simply the sequences not inferred as eukaryotic by their model. This is not entirely accurate since some of the contigs may be of viral nature.\n",
    "</div>"
   ]
  },
  {
   "cell_type": "markdown",
   "metadata": {},
   "source": [
    "---\n",
    "# <font color = 'gray'>VirSorter2</font>"
   ]
  },
  {
   "cell_type": "markdown",
   "metadata": {},
   "source": [
    "VirSorter2 uses multiple classifiers to identify diverse DNA and RNA viral sequences."
   ]
  },
  {
   "cell_type": "markdown",
   "metadata": {},
   "source": [
    "### How to run?"
   ]
  },
  {
   "cell_type": "markdown",
   "metadata": {},
   "source": [
    "Before doing viral contig inference, the database must be setup first. To do so, download the database using the command below. Alternatively, you can download the database manually from this link: https://osf.io/v46sc/download"
   ]
  },
  {
   "cell_type": "code",
   "execution_count": null,
   "metadata": {},
   "outputs": [],
   "source": [
    "!virsorter setup -d db -j 4"
   ]
  },
  {
   "cell_type": "markdown",
   "metadata": {},
   "source": [
    "Afterwards, extract the downloaded compressed file."
   ]
  },
  {
   "cell_type": "code",
   "execution_count": null,
   "metadata": {},
   "outputs": [],
   "source": [
    "!tar -xzf db.tgz"
   ]
  },
  {
   "cell_type": "markdown",
   "metadata": {},
   "source": [
    "Then run the setup configuration command."
   ]
  },
  {
   "cell_type": "code",
   "execution_count": null,
   "metadata": {},
   "outputs": [],
   "source": [
    "!virsorter config --init-source --db-dir=./db"
   ]
  },
  {
   "cell_type": "markdown",
   "metadata": {},
   "source": [
    "<div class=\"alert alert-block alert-info\">\n",
    "<b>Note</b>: \n",
    "    \n",
    "You only need to setup the database on the first instance that you will be using virsorter.\n",
    "</div>"
   ]
  },
  {
   "cell_type": "markdown",
   "metadata": {},
   "source": [
    "After setting up the database, you can now identify viral contigs in your dataset. A sample command is displayed below."
   ]
  },
  {
   "cell_type": "markdown",
   "metadata": {},
   "source": [
    "| option/input | description |\n",
    "| :-: | :- |\n",
    "| `-w` | Output filename. |\n",
    "| `-i` | Input contig FASTA file. |\n",
    "| `--min-length` | Minimum contig length to be included for analysis. |\n",
    "| `-j` | Number of threads. |\n",
    "| `all` | Run the whole pipeline. |"
   ]
  },
  {
   "cell_type": "code",
   "execution_count": null,
   "metadata": {},
   "outputs": [],
   "source": [
    "!virsorter run \\\n",
    "    -w test.out \\\n",
    "    -i test.fa \\\n",
    "    --min-length 1500 \\\n",
    "    -j 4 \\\n",
    "    all"
   ]
  },
  {
   "cell_type": "markdown",
   "metadata": {},
   "source": [
    "### What are its outputs?"
   ]
  },
  {
   "cell_type": "markdown",
   "metadata": {},
   "source": [
    "Detailed descriptions of outputs are discussed here: [VirSorter2 outputs](https://github.com/jiarong/VirSorter2#detailed-description-on-output-files)."
   ]
  },
  {
   "cell_type": "markdown",
   "metadata": {},
   "source": [
    "---\n",
    "# <font color = 'gray'>MMSeqs2</font>"
   ]
  },
  {
   "cell_type": "markdown",
   "metadata": {},
   "source": [
    "`mmseqs` predicts contig taxonomy by first comparing all 6-frame translated sequences within a contig to a reference database. Afterwards, it identifies the Lowest Common Ancestor (LCA) of the taxonomies associated with each coding DNA sequence (CDS)."
   ]
  },
  {
   "cell_type": "markdown",
   "metadata": {},
   "source": [
    "### How to run?"
   ]
  },
  {
   "cell_type": "markdown",
   "metadata": {},
   "source": [
    "#### a. Building or downloading the reference database"
   ]
  },
  {
   "cell_type": "markdown",
   "metadata": {},
   "source": [
    "First, we have to select a reference database. You can find a list of available pre-processed databases here: [MMSeqs2 databases](https://github.com/soedinglab/mmseqs2/wiki#downloading-databases). The databases with \"yes\" in the \"taxonomy\" column are the relevant ones for this module. Below, we download the SwissProt database. This is a highly curated protein database. This ensures that reference sequences are accurate for comparison, however, as a downside, it may not be very sensitive because it contains fewer sequences."
   ]
  },
  {
   "cell_type": "code",
   "execution_count": null,
   "metadata": {},
   "outputs": [],
   "source": [
    "!mmseqs databases UniProtKB/Swiss-Prot taxdb/swissprot tmp"
   ]
  },
  {
   "cell_type": "markdown",
   "metadata": {},
   "source": [
    "<div class=\"alert alert-block alert-info\">\n",
    "<b>Note</b>: \n",
    "    \n",
    "The available pre-processed databases may not always suit your needs. If you wish to create a custom MMSeqs2 taxonomy database, instructions are provided here: <a href=\"https://github.com/soedinglab/MMseqs2/wiki#creating-a-seqtaxdb\">Creating a seqTaxDB</a>.\n",
    "</div>"
   ]
  },
  {
   "cell_type": "markdown",
   "metadata": {},
   "source": [
    "#### b. Build a query database"
   ]
  },
  {
   "cell_type": "markdown",
   "metadata": {},
   "source": [
    "Next, we create a query database which is basically just an indexed form of your contigs."
   ]
  },
  {
   "cell_type": "code",
   "execution_count": null,
   "metadata": {},
   "outputs": [],
   "source": [
    "!mmseqs createdb \\\n",
    "    assembly_contigs.fa \\\n",
    "    querydb/assembly_contigs_idx"
   ]
  },
  {
   "cell_type": "markdown",
   "metadata": {},
   "source": [
    "#### c. Assign taxonomies to the query sequences"
   ]
  },
  {
   "cell_type": "markdown",
   "metadata": {},
   "source": [
    "This step runs the core mmseqs taxonomy assignment algorithm briefly mentioned above."
   ]
  },
  {
   "cell_type": "code",
   "execution_count": null,
   "metadata": {},
   "outputs": [],
   "source": [
    "!mmseqs taxonomy \\\n",
    "    querydb/assembly_contigs_idx \\\n",
    "    taxdb/swissprot \\\n",
    "    mmseqs_tax_res/mmseqs_tax_result \\\n",
    "    mmseqs_tax_res/tmp \\\n",
    "    --tax-lineage 1 \\\n",
    "    --majority 0.4 \\\n",
    "    --vote-mode 1 \\\n",
    "    --lca-mode 3 \\\n",
    "    --orf-filter 0"
   ]
  },
  {
   "cell_type": "markdown",
   "metadata": {},
   "source": [
    "#### d. Filter contigs by taxonomy assignment (optional)"
   ]
  },
  {
   "cell_type": "markdown",
   "metadata": {},
   "source": [
    "If you are interested in studying a specific taxonomic group, you can use the `mmseqs filtertaxdb` command. For example, if you want to retrieve the viral contigs only, you can use the command below. The number specified in the `--taxon-list` argument corresponds to the NCBI taxon ID for viruses. You can search for taxonomy IDs in the [NCBI taxonomy browser](https://www.ncbi.nlm.nih.gov/Taxonomy/Browser/wwwtax.cgi)."
   ]
  },
  {
   "cell_type": "code",
   "execution_count": null,
   "metadata": {},
   "outputs": [],
   "source": [
    "!mmseqs filtertaxdb \\\n",
    "    taxdb/swissprot \\\n",
    "    mmseqs_tax_res/mmseqs_tax_result \\\n",
    "    mmseqs_tax_res/mmseqs_tax_result_virus \\\n",
    "    --taxon-list 10239"
   ]
  },
  {
   "cell_type": "markdown",
   "metadata": {},
   "source": [
    "#### e. Generate reports"
   ]
  },
  {
   "cell_type": "markdown",
   "metadata": {},
   "source": [
    "We can summarize the taxonomy assignment process above into a TSV file and Krona chart."
   ]
  },
  {
   "cell_type": "code",
   "execution_count": null,
   "metadata": {},
   "outputs": [],
   "source": [
    "# Create a TSV file of the contig taxonomy assignments\n",
    "!mmseqs createtsv \\\n",
    "    querydb/assembly_contigs_idx \\\n",
    "    mmseqs_tax_res/mmseqs_tax_result \\\n",
    "    mmseqs_tax_res/mmseqs_tax_result.tsv"
   ]
  },
  {
   "cell_type": "code",
   "execution_count": null,
   "metadata": {},
   "outputs": [],
   "source": [
    "# Create a Krona chart\n",
    "!mmseqs taxonomyreport \\\n",
    "    taxdb/swissprot \\\n",
    "    mmseqs_tax_res/mmseqs_tax_result \\\n",
    "    mmseqs_tax_res/mmseqs_tax_result_report.html \\\n",
    "    --report-mode 1"
   ]
  },
  {
   "cell_type": "markdown",
   "metadata": {},
   "source": [
    "### What are its outputs?"
   ]
  },
  {
   "cell_type": "markdown",
   "metadata": {},
   "source": [
    "As discussed above, the final outputs are:\n",
    "\n",
    "1. `mmseqs_tax_result.tsv` - TSV file displaying the taxonomic annotation of each FASTA entry (i.e. contig). More details about the format of the output TSV is discussed [here](https://github.com/soedinglab/MMseqs2/wiki#taxonomy-output-and-tsv).\n",
    "2. `mmseqs_tax_result_report.html` - Krona chart to visualize taxonomic annotations. Note that it does not represent the relative abundances of these taxonomic groups, only the proportion of contigs with specific taxonomic assignments.\n",
    "\n",
    "Depending on your objectives, you may want to further explore sequences coming from specific taxonomic groups. To do so, create a TSV file (`mmseqs createtsv`) for the filtered contigs in step E above. This will give you a list of contigs with taxonomy assignments of your group of interest. Afterwards, use the custom Python script below to filter your query contigs. We assume that the output TSV file of the filtered data is named `filt_tsv.tsv`."
   ]
  },
  {
   "cell_type": "code",
   "execution_count": null,
   "metadata": {},
   "outputs": [],
   "source": [
    "!./filter_fasta_by_id.py \\\n",
    "    --filt_file_in filt_tsv.tsv \\\n",
    "    --fasta_in assembly_contigs.fa \\\n",
    "    --filt_file_type GENERAL \\\n",
    "    --fasta_out filt_assembly_contigs.fa"
   ]
  },
  {
   "cell_type": "markdown",
   "metadata": {},
   "source": [
    "The custom script will produce a filtered FASTA file (`filt_assembly_contigs.fa`) containing only contigs with hits to your taxonomy of interest."
   ]
  },
  {
   "cell_type": "markdown",
   "metadata": {},
   "source": [
    "---\n",
    "# <font color = 'gray'>Bin Annotation Tool (BAT)</font>"
   ]
  },
  {
   "cell_type": "markdown",
   "metadata": {},
   "source": [
    "\"... Bin Annotation Tool (BAT) are pipelines for the taxonomic classification of ... metagenome assembled genomes (MAGs / bins) of both known and (highly) unknown microorganisms, as generated by contemporary metagenomics studies. The core algorithm of both programs involves gene calling, mapping of predicted ORFs against a protein database, and voting-based classification of the entire contig / MAG based on classification of the individual ORFs.\"\n",
    "\n",
    "Source: [CAT/BAT](https://github.com/MGXlab/CAT_pack)"
   ]
  },
  {
   "cell_type": "markdown",
   "metadata": {},
   "source": [
    "### How to run?"
   ]
  },
  {
   "cell_type": "markdown",
   "metadata": {},
   "source": [
    "BAT requires heavy resource to run due to its large database. Besides accessing HPCs, you can also run BAT through the [EU Galaxy Webserver](https://usegalaxy.eu/)."
   ]
  },
  {
   "cell_type": "markdown",
   "metadata": {},
   "source": [
    "1. On the tool search panel (left side), search for \"CAT bins\".\n",
    "\n",
    "![tools](images/tool_search.png)"
   ]
  },
  {
   "cell_type": "markdown",
   "metadata": {},
   "source": [
    "2. Assuming you have already uploaded your bin FASTA file, select it under the \"metagenome assembled genomes (MAGs/bins)\" section. Moreover, choose the latest database version under the \"Use a built-in CAT database\".\n",
    "\n",
    "![inputs](images/inputs.png)"
   ]
  },
  {
   "cell_type": "markdown",
   "metadata": {},
   "source": [
    "3. You can leave the other parameters as default and execute by clicking \"Run Tool\"."
   ]
  },
  {
   "cell_type": "markdown",
   "metadata": {},
   "source": [
    "### What are its outputs?"
   ]
  },
  {
   "cell_type": "markdown",
   "metadata": {},
   "source": [
    "There are several outputs, but the most relevant will likely be `BAT.bin2classification.txt` which will display the inferred lineage of the bin (using NCBI taxonomy ID) and the confidence score for the assignment at each taxonomic level."
   ]
  },
  {
   "cell_type": "code",
   "execution_count": null,
   "metadata": {},
   "outputs": [],
   "source": []
  }
 ],
 "metadata": {
  "kernelspec": {
   "display_name": "Python 3",
   "language": "python",
   "name": "python3"
  },
  "language_info": {
   "codemirror_mode": {
    "name": "ipython",
    "version": 3
   },
   "file_extension": ".py",
   "mimetype": "text/x-python",
   "name": "python",
   "nbconvert_exporter": "python",
   "pygments_lexer": "ipython3",
   "version": "3.8.10"
  }
 },
 "nbformat": 4,
 "nbformat_minor": 4
}
