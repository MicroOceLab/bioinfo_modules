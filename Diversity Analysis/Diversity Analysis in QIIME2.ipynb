{
 "cells": [
  {
   "cell_type": "markdown",
   "metadata": {},
   "source": [
    "# Module: Diversity Analysis in QIIME2\n",
    "\n",
    "In diversity analysis, we explore the richness and composition of communities to understand patterns of biodiversity across different environments or conditions.\n",
    "\n",
    "Here, we illustrate how various diversity indices can be calculated in QIIME2. Additionally, we will see different outputs that can be used for data exploration (PCoA) and summaries of statistical tests.\n",
    "\n",
    "The following resources were used for this tutorial: [\"Moving Pictures\" Tutorial](https://docs.qiime2.org/2024.10/tutorials/moving-pictures/).\n",
    "\n",
    "Created by: _Microbial Oceanography Laboratory (MOLab)_"
   ]
  },
  {
   "cell_type": "markdown",
   "metadata": {},
   "source": [
    "---\n",
    "## How to Use This Notebook\n",
    "\n",
    "1. Activate conda environment in terminal window. Make sure to change the environment name to what is applicable in your case.\n",
    ">`conda activate qiime2-2023.2`\n",
    "2. Open jupyter notebook with the command below and select the notebook.\n",
    ">`jupyter notebook`\n",
    "3. To run the cells in this notebook, press Shift+Enter."
   ]
  },
  {
   "cell_type": "markdown",
   "metadata": {},
   "source": [
    "---\n",
    "## Tools Used\n",
    "1. **QIIME 2 Amplicon Distribution**\n",
    "    - Installation procedure can be found here: [QIIME2 native installation](https://docs.qiime2.org/2024.10/install/native/)"
   ]
  },
  {
   "cell_type": "markdown",
   "metadata": {},
   "source": [
    "---\n",
    "## Starting Files \n",
    "\n",
    "1. `.qza` of type `FeatureTable[Frequency]`. Can be generated from OTU clustering or denoising.\n",
    "2. `.qza` of type `FeatureData[Sequence]`. Can be generated from OTU clustering or denoising."
   ]
  },
  {
   "cell_type": "markdown",
   "metadata": {},
   "source": [
    "---\n",
    "## Expected Outputs\n",
    "\n",
    "1. Rarefied feature table (`.qza` of type `FeatureTable[Frequency]`).\n",
    "2. Various `.qza` and `.qzv` files related to alpha rarefaction and calculation of diversity indices. "
   ]
  },
  {
   "cell_type": "markdown",
   "metadata": {},
   "source": [
    "---\n",
    "## Table of Contents\n",
    " * [**Alpha Rarefaction**](#Alpha-Rarefaction)\n",
    "     * [Checking the number of features per sample](#Checking-the-number-of-features-per-sample)\n",
    "     * [Making alpha rarefaction curves](#Making-alpha-rarefaction-curves)\n",
    " * [**Calculation of Diversity Indices**](#Calculation-of-Diversity-Indices)\n",
    "     * [Generate phylogenetic tree](#Generate-phylogenetic-tree)\n",
    "     * [Rarefy and calculate diversity indices](#Rarefy-and-calculate-diversity-indices)\n",
    " * [**Principal Coordinate Analysis**](#Principal-Coordinate-Analysis)\n",
    " * [**Statistical Testing**](#Statistical-Testing)\n",
    "     * [Alpha significance testing](#Alpha-significance-testing)\n",
    "     * [Alpha correlation](#Alpha-correlation)\n",
    "     * [Beta significance testing](#Beta-significance-testing)"
   ]
  },
  {
   "cell_type": "markdown",
   "metadata": {},
   "source": [
    "---\n",
    "# <font color = 'gray'>Alpha Rarefaction</font>\n",
    "\n",
    "Rarefaction is simply a process of randomly subsampling the data. In this context, we randomly select _N_ reads from each sample so that each sample would end up having equal sampling depth. The reason for this is that different samples often have varying sequencing depths, which can introduce bias when comparing diversity metrics across samples. By rarefying to a uniform depth, we mitigate the impact of sequencing depth variability, allowing for a more accurate comparison of diversity metrics between samples.\n",
    "\n",
    "Below we will see how to select the rarefaction depth, _N_."
   ]
  },
  {
   "cell_type": "markdown",
   "metadata": {},
   "source": [
    "<div class=\"alert alert-block alert-info\">\n",
    "<b>Note:</b> \n",
    "    \n",
    "Although rarefaction normalizes library depth, it is not free from criticisms. Many argue that it throws away available yet valid data, making inefficient use of the sequencing library. Additionally, rare taxa might be loss during random subsampling, leading to an underestimation of community richness. It also decreases statistical power when trying to infer differentially abundant taxa.\n",
    "</div>"
   ]
  },
  {
   "cell_type": "markdown",
   "metadata": {},
   "source": [
    "### Checking the number of features per sample\n",
    "\n",
    "First, we look at the number of reads per sample. Run the code blocks below, and in the visualizationm go to the _Interactive Sample Detail_ tab. Take note of the samples with the lowest and highest number of reads."
   ]
  },
  {
   "cell_type": "code",
   "execution_count": null,
   "metadata": {},
   "outputs": [],
   "source": [
    "!qiime feature-table summarize \\\n",
    "    --i-table feature-table.qza \\\n",
    "    --o-visualization feature-table.qzv \\"
   ]
  },
  {
   "cell_type": "code",
   "execution_count": null,
   "metadata": {},
   "outputs": [],
   "source": [
    "import qiime2 as q2\n",
    "q2.Visualization.load('feature-table.qzv')"
   ]
  },
  {
   "cell_type": "markdown",
   "metadata": {},
   "source": [
    "### Making alpha rarefaction curves\n",
    "\n",
    "Next, we make an alpha rarefaction curve. This plot shows the alpha diversity of each sample rarefied at different depths. In the `--p-max-depth` argument, enter the depth with highest value (here, we supplied `100000` as a placeholder) noted from above. For the `--p-steps` option, you could increase the value if you want a smoother curve. You could also calculate for more diversity indices by adding the `--p-metrics` argument."
   ]
  },
  {
   "cell_type": "code",
   "execution_count": null,
   "metadata": {},
   "outputs": [],
   "source": [
    "!qiime diversity alpha-rarefaction \\\n",
    "    --i-table feature-table.qza \\\n",
    "    --p-max-depth 100000 \\\n",
    "    --p-steps 20 \\\n",
    "    --p-metrics 'shannon' \\\n",
    "    --p-metrics 'observed_features' \\\n",
    "    --p-metrics 'chao1'\n",
    "    --o-visualization alpha-rare-curve.qzv"
   ]
  },
  {
   "cell_type": "code",
   "execution_count": null,
   "metadata": {},
   "outputs": [],
   "source": [
    "import qiime2 as q2\n",
    "q2.Visualization.load('alpha-rare-curve.qzv')"
   ]
  },
  {
   "cell_type": "markdown",
   "metadata": {},
   "source": [
    "<div class=\"alert alert-block alert-success\">\n",
    "<b>Question:</b> \n",
    "    \n",
    "Does the alpha diversity index of all samples plateau? If yes, at what depth should you rarefy your samples? If not, again, at what depth should you rarefy your samples and how many samples will be omitted if rarefied at this depth?\n",
    "</div>"
   ]
  },
  {
   "cell_type": "markdown",
   "metadata": {},
   "source": [
    "If you are interested in characterizing general patterns in your samples, selecting an index that takes into account both richness and evenness (such as Shannon) may be more relevant. Based on the above alpha rarefaction curve for the selected index, select the rarefaction depth, _N_. In the next section, we will see how to rarefy the samples at this depth."
   ]
  },
  {
   "cell_type": "markdown",
   "metadata": {},
   "source": [
    "---\n",
    "# <font color = 'gray'>Calculation of Diversity Indices</font>\n",
    "\n"
   ]
  },
  {
   "cell_type": "markdown",
   "metadata": {},
   "source": [
    "### Generate phylogenetic tree\n",
    "\n",
    "Before rarefying the samples and computing for diversity indices, run the code block below to make a tree file which will be used for phylogeny-based diversity analyses (e.g., Faith's PD and UniFrac)."
   ]
  },
  {
   "cell_type": "markdown",
   "metadata": {},
   "source": [
    "<div class=\"alert alert-block alert-info\">\n",
    "<b>Note:</b> \n",
    "    \n",
    "If you are not interested in phylogeny-aware metrics, you can skip this step.\n",
    "</div>"
   ]
  },
  {
   "cell_type": "code",
   "execution_count": null,
   "metadata": {},
   "outputs": [],
   "source": [
    "!qiime phylogeny align-to-tree-mafft-fasttree \\\n",
    "    --i-sequences feature-rep-seqs.qza \\\n",
    "    --o-alignment aligned-rep-seqs.qza \\\n",
    "    --o-masked-alignment masked-aligned-rep-seqs.qza \\\n",
    "    --o-tree unrooted-tree.qza \\\n",
    "    --o-rooted-tree rooted-tree.qza"
   ]
  },
  {
   "cell_type": "markdown",
   "metadata": {},
   "source": [
    "### Rarefy and calculate diversity indices\n",
    "\n",
    "Rarefaction and calculation of alpha and beta diversity indices (including phylogeny-aware metrics) can be done in a single command (`diversity core-metrics-phylogenetic`). Besides the feature table (`feature-table.qza`) and a rooted phylogenetic tree (`rooted-tree.qza`), you will also need your metadata file (`metadata.txt`), which will be used in grouping your samples for statistical analyses."
   ]
  },
  {
   "cell_type": "markdown",
   "metadata": {},
   "source": [
    "<div class=\"alert alert-block alert-info\">\n",
    "<b>Note:</b> \n",
    "    \n",
    "Replace the value specified in the <code>--p-sampling-depth</code> parameter by an appropriate depth for your dataset.\n",
    "</div>"
   ]
  },
  {
   "cell_type": "code",
   "execution_count": null,
   "metadata": {},
   "outputs": [],
   "source": [
    "!qiime diversity core-metrics-phylogenetic \\\n",
    "    --i-phylogeny rooted-tree.qza \\\n",
    "    --i-table feature-table.qza.qza \\\n",
    "    --m-metadata-file metadata.txt \\\n",
    "    --p-sampling-depth 30000 \\\n",
    "    --output-dir core-metrics-results"
   ]
  },
  {
   "cell_type": "markdown",
   "metadata": {},
   "source": [
    "---\n",
    "# <font color = 'gray'>Principal Coordinate Analysis</font>\n",
    "\n",
    "Principal coordinate analysis (PCoA) is a multivariate analysis technique that begins with a distance matrix, typically derived from a beta diversity index. It then projects samples into a lower-dimensional space (commonly 2 or 3 dimensions) to facilitate visualization of potential clusters within the dataset.\n",
    "\n",
    "Inside the `core-metrics-results` output of the code above, you will see multiple `.qzv` file containing PCoA plots (e.g. `jaccard_emperor.qzv`). You can view these files inline (codes below) or through [QIIME2 visualizer](https://view.qiime2.org/) to see the PCoA plots."
   ]
  },
  {
   "cell_type": "markdown",
   "metadata": {},
   "source": [
    "**Jaccard Distance**"
   ]
  },
  {
   "cell_type": "code",
   "execution_count": null,
   "metadata": {},
   "outputs": [],
   "source": [
    "import qiime2 as q2\n",
    "q2.Visualization.load('core-metrics-results/jaccard_emperor.qzv')"
   ]
  },
  {
   "cell_type": "markdown",
   "metadata": {},
   "source": [
    "**Bray-Curtis Distance**"
   ]
  },
  {
   "cell_type": "code",
   "execution_count": null,
   "metadata": {},
   "outputs": [],
   "source": [
    "q2.Visualization.load('core-metrics-results/bray_curtis_emperor.qzv')"
   ]
  },
  {
   "cell_type": "markdown",
   "metadata": {},
   "source": [
    "**Unweighted UniFrac Distance**"
   ]
  },
  {
   "cell_type": "code",
   "execution_count": null,
   "metadata": {},
   "outputs": [],
   "source": [
    "q2.Visualization.load('core-metrics-results/unweighted_unifrac_emperor.qzv')"
   ]
  },
  {
   "cell_type": "markdown",
   "metadata": {},
   "source": [
    "**Weighted UniFrac Distance**"
   ]
  },
  {
   "cell_type": "code",
   "execution_count": null,
   "metadata": {},
   "outputs": [],
   "source": [
    "q2.Visualization.load('core-metrics-results/weighted_unifrac_emperor.qzv')"
   ]
  },
  {
   "cell_type": "markdown",
   "metadata": {},
   "source": [
    "---\n",
    "# <font color = 'gray'>Statistical Testing</font>"
   ]
  },
  {
   "cell_type": "markdown",
   "metadata": {},
   "source": [
    "### Alpha significance testing"
   ]
  },
  {
   "cell_type": "markdown",
   "metadata": {},
   "source": [
    "In QIIME2, we test if alpha diversity measures differ significantly between or among sample groups using the non-parametric Kruskal-Wallis rank-sum test. This test checks if the sum of ranks for alpha diversity measures within each sample group differs significantly from others.\n",
    "\n",
    "The code below automatically recognizes the categorical variables in your metadata file. In the output visualization, you can then select various categorical metadata columns to check if statistical tests are significant."
   ]
  },
  {
   "cell_type": "markdown",
   "metadata": {},
   "source": [
    "<div class=\"alert alert-block alert-info\">\n",
    "<b>Note:</b> \n",
    "    \n",
    "Replace the <code>.qza</code> file specified in the <code>--i-alpha-diversity</code> parameter to select a different alpha diversity metric.\n",
    "</div>"
   ]
  },
  {
   "cell_type": "code",
   "execution_count": null,
   "metadata": {},
   "outputs": [],
   "source": [
    "!qiime diversity alpha-group-significance \\\n",
    "  --i-alpha-diversity core-metrics-results/shannon_vector.qza \\\n",
    "  --m-metadata-file metadata.txt \\\n",
    "  --o-visualization shannon-group-significance.qzv"
   ]
  },
  {
   "cell_type": "code",
   "execution_count": null,
   "metadata": {},
   "outputs": [],
   "source": [
    "q2.Visualization.load('shannon-group-significance.qzv')"
   ]
  },
  {
   "cell_type": "markdown",
   "metadata": {},
   "source": [
    "### Alpha correlation\n",
    "\n",
    "You can also check if the per-sample alpha diversity measures are correlated with a continuous variable in your metadata."
   ]
  },
  {
   "cell_type": "markdown",
   "metadata": {},
   "source": [
    "<div class=\"alert alert-block alert-info\">\n",
    "<b>Note:</b> \n",
    "    \n",
    "Replace the <code>.qza</code> file specified in the <code>--i-alpha-diversity</code> parameter to select a different alpha diversity metric.\n",
    "</div>"
   ]
  },
  {
   "cell_type": "code",
   "execution_count": null,
   "metadata": {},
   "outputs": [],
   "source": [
    "!qiime diversity alpha-correlation \\\n",
    "  --i-alpha-diversity core-metrics-results/shannon_vector.qza \\\n",
    "  --m-metadata-file metadata.txt \\\n",
    "  --o-visualization shannon-correlation.qzv"
   ]
  },
  {
   "cell_type": "code",
   "execution_count": null,
   "metadata": {},
   "outputs": [],
   "source": [
    "q2.Visualization.load('shannon-correlation.qzv')"
   ]
  },
  {
   "cell_type": "markdown",
   "metadata": {},
   "source": [
    "### Beta significance testing\n",
    "\n",
    "Here, you will test if the distances (beta diversity measures) between samples within a group are more similar than distances between samples in different groups. QIIME2 provides two methods for this: (1) `beta-group-significance`, which performs PERMANOVA using a single variable, and (2) `adonis`, which also uses PERMANOVA but allows for more complex multi-factor models. This flexibility in `adonis` is particularly useful for testing multiple variables or controlling for covariates. Either way, if you will be considering a single variate only, both methods should yield the same results.\n",
    "\n",
    "Below, you will see how to run the `adonis` method in QIIME2."
   ]
  },
  {
   "cell_type": "markdown",
   "metadata": {},
   "source": [
    "<div class=\"alert alert-block alert-info\">\n",
    "<b>Note:</b> \n",
    "    \n",
    "Replace the <code>.qza</code> file specified in the <code>--i-distance-matrix</code> parameter to select a different beta diversity metric.\n",
    "</div>"
   ]
  },
  {
   "cell_type": "markdown",
   "metadata": {},
   "source": [
    "<div class=\"alert alert-block alert-info\">\n",
    "<b>Note:</b> \n",
    "\n",
    "The <code>--p-formula</code> uses the same notation as R formulas. Here we want to look at the main effects of <i>site</i> and <i>season</i> only, hence the formula <code>site+season</code>. You could also include interaction terms. For example: <code>site+season+site:season</code>.\n",
    "</div>"
   ]
  },
  {
   "cell_type": "code",
   "execution_count": null,
   "metadata": {},
   "outputs": [],
   "source": [
    "!qiime diversity adonis \\\n",
    "    --i-distance-matrix unweighted_unifrac_distance_matrix.qza \\\n",
    "    --m-metadata-file metadata.txt \\\n",
    "    --p-formula \"site+season\" \\\n",
    "    --o-visualization adonis-test.qzv"
   ]
  },
  {
   "cell_type": "code",
   "execution_count": null,
   "metadata": {},
   "outputs": [],
   "source": [
    "q2.Visualization.load('adonis-test.qzv')"
   ]
  }
 ],
 "metadata": {
  "kernelspec": {
   "display_name": "Python 3",
   "language": "python",
   "name": "python3"
  },
  "language_info": {
   "codemirror_mode": {
    "name": "ipython",
    "version": 3
   },
   "file_extension": ".py",
   "mimetype": "text/x-python",
   "name": "python",
   "nbconvert_exporter": "python",
   "pygments_lexer": "ipython3",
   "version": "3.8.10"
  }
 },
 "nbformat": 4,
 "nbformat_minor": 5
}
