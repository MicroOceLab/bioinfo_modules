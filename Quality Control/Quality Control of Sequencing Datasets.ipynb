{
 "cells": [
  {
   "cell_type": "markdown",
   "metadata": {},
   "source": [
    "# Module: Quality Control of Sequencing Datasets\n",
    "\n",
    "High-quality sequencing data is the foundation of reliable bioinformatics analyses. Before diving into downstream analyses, it's important to assess the quality of your sequencing data. By identifying and addressing potential issues early on, you can minimize noise in your data and produce results that are likely to be more accurate.\n",
    "\n",
    "In this notebook, you'll explore a suite of bioinformatics tools widely used to evaluate sequencing data quality, identify and remove low-quality regions in the reads, and remove reads that are irrelevant to the analyses.\n",
    "\n",
    "Created by: _Microbial Oceanography Laboratory (MOLab)_"
   ]
  },
  {
   "cell_type": "markdown",
   "metadata": {},
   "source": [
    "---\n",
    "## How to Use This Notebook\n",
    "\n",
    "1. Make sure tools are installed already (see below if not yet).\n",
    "2. Activate environment. Replace environment name accordingly.\n",
    "```bash\n",
    "conda activate quality-control-env\n",
    "```\n",
    "2. Open jupyter notebook with the command below and select the notebook.\n",
    "```bash\n",
    "jupyter notebook\n",
    "```\n",
    "3. To run the cells in this notebook, press Shift+Enter."
   ]
  },
  {
   "cell_type": "markdown",
   "metadata": {},
   "source": [
    "---\n",
    "## Tools Used\n",
    "1. **FastQC**\n",
    "2. **Trimmomatic**\n",
    "3. **MultiQC**\n",
    "4. **Minimap2**\n",
    "5. **Samtools**\n",
    "\n",
    "To install these tools, find the `quality-control.yaml` file located in the same folder as this notebook (in repository). Then run the command below in the terminal:\n",
    "\n",
    "> `conda env create -f quality-control.yaml`"
   ]
  },
  {
   "cell_type": "markdown",
   "metadata": {},
   "source": [
    "---\n",
    "## Starting Files \n",
    "\n",
    "1. Paired-end FASTQ sequences."
   ]
  },
  {
   "cell_type": "markdown",
   "metadata": {},
   "source": [
    "---\n",
    "## Expected Outputs\n",
    "\n",
    "1. Clean paired-end FASTQ sequences."
   ]
  },
  {
   "cell_type": "markdown",
   "metadata": {},
   "source": [
    "---\n",
    "## Table of Contents\n",
    " * [**FASTQ**](#FASTQ)\n",
    " * [**Inspect Raw Data**](#Inspect-Raw-Data)\n",
    "     * [FastQC](#FastQC)\n",
    "     * [MultiQC](#MultiQC)\n",
    " * [**Trimming and Filtering**](#Trimming-and-Filtering)\n",
    "     * [Trimmomatic](#Trimmomatic)\n",
    "     * [Inspect Quality Again](#Inspect-Quality-Again)\n",
    " * [**(Optional) Removing Host Sequences**](#(Optional)-Removing-Host-Sequences)\n",
    "     * [Map Reads](#Map-Reads)\n",
    "     * [Get Non-host Reads](#Get-Non-host-Reads)"
   ]
  },
  {
   "cell_type": "markdown",
   "metadata": {},
   "source": [
    "---\n",
    "# <font color = 'gray'>FASTQ</font>"
   ]
  },
  {
   "cell_type": "markdown",
   "metadata": {},
   "source": [
    "FASTQ is a type of file that contains information about the sequence of the reads and the accuracy of the base calls. A typical FASTQ file is formatted as shown below."
   ]
  },
  {
   "cell_type": "markdown",
   "metadata": {},
   "source": [
    "---\n",
    "\n",
    "![FASTQ](https://media.springernature.com/lw685/springer-static/image/art%3A10.1007%2Fs10142-023-01259-x/MediaObjects/10142_2023_1259_Fig1_HTML.png)\n",
    "\n",
    "---"
   ]
  },
  {
   "cell_type": "markdown",
   "metadata": {},
   "source": [
    "Sequence IDs start with the _@_ symbol. The sequence and quality score strings should be of the same length. The characters in the quality score information are encoded such that each character correspond to a specific ASCII character (and subsequently a score). More recent Illumina-derived sequences are encoded using the [Phred+33 encoding](https://support.illumina.com/help/BaseSpace_Sequence_Hub_OLH_009008_2/Source/Informatics/BS/QualityScoreEncoding_swBS.htm). At position $i$, the quality score $Q_i$ matches with the $i$-th position in the sequence ($S_i$). This means $Q_i$ describes (in)accuracy of the base call of $S_i$. The quantitative relationship of Q-score and accuracy is described below."
   ]
  },
  {
   "cell_type": "markdown",
   "metadata": {},
   "source": [
    "![Qscore and Accuracy](https://encrypted-tbn0.gstatic.com/images?q=tbn:ANd9GcSOQbRyUYgCvuojUWJWKuLDQG3zz2Q0-5ZejQ&s)"
   ]
  },
  {
   "cell_type": "markdown",
   "metadata": {},
   "source": [
    "---\n",
    "# <font color = 'gray'>Inspect Raw Data</font>"
   ]
  },
  {
   "cell_type": "markdown",
   "metadata": {},
   "source": [
    "### FastQC"
   ]
  },
  {
   "cell_type": "markdown",
   "metadata": {},
   "source": [
    "Before anything else, you must first assess the quality of your raw data. This will help you evaluate whether the data's quality is ideal for the type of analysis you will be conducting. For instance, if your goal is to perform SNP or phylogenetic analyses where the accuracy of each base call is crucial, then ideally, your dataset must have a high quality (typically $Q\\geq30$).\n",
    "\n",
    "To generate quality metrics and visuals of your data, you can use the `fastqc` tool. The command below will output quality reports (HTML file) per FASTQ file stored inside the `raw-reads` folder. You can also add the `-t` option to increase the number of threads and make the execution faster."
   ]
  },
  {
   "cell_type": "code",
   "execution_count": null,
   "metadata": {},
   "outputs": [],
   "source": [
    "!fastqc \\\n",
    "    -o fastqc/ \\\n",
    "    raw-reads/*"
   ]
  },
  {
   "cell_type": "markdown",
   "metadata": {},
   "source": [
    "A few things to look at in the report are:\n",
    "\n",
    "1. **Basic Statistics** - Check the library depth and read lengths.\n",
    "1. **Per Base Sequence Quality** - This module provides a picture on how accurate the base calls are at different positions in your library.\n",
    "2. **Adapter Content** - This module shows if your library contains adapter sequences. These are typically trimmed before proceeding to downstream steps.\n",
    "\n",
    "More detailed descriptions of `fastqc` modules are available here: [FastQC Documentation](https://www.bioinformatics.babraham.ac.uk/projects/fastqc/Help/3%20Analysis%20Modules/)."
   ]
  },
  {
   "cell_type": "markdown",
   "metadata": {},
   "source": [
    "<div class=\"alert alert-block alert-info\">\n",
    "<b>Note:</b> \n",
    "    \n",
    "The interpretations of other <code>fastqc</code> modules/reports are context-dependent. For instance, in a metabarcoding dataset, you would expect that the <i>Overrepresented Sequence</i> report will yield a warning or error. This should not be of any concern since it is the nature of metabarcoding datasets to have multiple copies of the same amplicons/sequences.\n",
    "     \n",
    "As another example, if you are working with WGS from an isolate, and you found multiple peaks in the <i>Per Sequence GC Content</i> report, this could be indicative of contamination. However, if your data is, say, shotgun metagenomics, then the presence of multiple peaks should not be concerning.\n",
    "</div>"
   ]
  },
  {
   "cell_type": "markdown",
   "metadata": {},
   "source": [
    "### MultiQC"
   ]
  },
  {
   "cell_type": "markdown",
   "metadata": {},
   "source": [
    "Previously, `fastqc` was utilized to generate quality reports per FASTQ file. You can aggregate these reports into a single report using `multiqc`. This is a great tool if you are working with numerous libraries, making it easier to get an overview of the quality profile of your samples.\n",
    "\n",
    "The command will summarize the `fastqc` reports stored inside the `./fastqc` folder, and the aggregated report will be placed inside the `./multiqc` folder."
   ]
  },
  {
   "cell_type": "code",
   "execution_count": null,
   "metadata": {},
   "outputs": [],
   "source": [
    "!multiqc \\\n",
    "    -outdir ./multiqc \\\n",
    "    ./fastqc "
   ]
  },
  {
   "cell_type": "markdown",
   "metadata": {},
   "source": [
    "<div class=\"alert alert-block alert-info\">\n",
    "<b>Tip:</b> \n",
    "    \n",
    "Samples processed in different batches often exhibit variations in quality profiles. It’s recommended to inspect individual libraries or review <code>fastqc</code> reports to ensure that each sample batch is handled appropriately based on its specific data quality.\n",
    "</div>"
   ]
  },
  {
   "cell_type": "markdown",
   "metadata": {},
   "source": [
    "---\n",
    "# <font color = 'gray'>Trimming and Filtering</font>"
   ]
  },
  {
   "cell_type": "markdown",
   "metadata": {},
   "source": [
    "### Trimmomatic\n",
    "\n",
    "Next, low-quality regions in the reads will be trimmed off using `trimmomatic`. The strictness of trimming parameters will depend on the quality of your data and your objectives.\n",
    "\n",
    "The list below describes the arguments used for the command:"
   ]
  },
  {
   "cell_type": "markdown",
   "metadata": {},
   "source": [
    "| Parameter | Description |\n",
    "| :-: | :- |\n",
    "| `PE` | Paired-end mode |\n",
    "| `raw-reads/1_F.fastq.gz` | Path to forward read FASTQ file |\n",
    "| `raw-reads/1_R.fastq.gz` | Path to reverse read FASTQ file |\n",
    "| `trimmomatic/ofp.fastq` | **O**utput **F**orward **P**aired. Trimmed forward reads that still have pairs |\n",
    "| `trimmomatic/ofu.fastq` | **O**utput **F**orward **U**npaired. Trimmed forward reads that no longer have pairs (i.e. orphan forward reads) |\n",
    "| `trimmomatic/orp.fastq` | **O**utput **R**everse **P**aired. Trimmed reverse reads that still have pairs |\n",
    "| `trimmomatic/oru.fastq` | **O**utput **R**orward **U**npaired. Trimmed reverse reads that no longer have pairs (i.e. orphan reverse reads) |\n",
    "| `ILLUMINACLIP` | Trim adapters from the reads. A FASTA file containing adapter sequences should be provided. Other sub-parameters are described in the manual. More adapter sequences can be found [here](https://github.com/timflutre/trimmomatic/tree/master/adapters) |\n",
    "| `LEADING` | Starting from the 5' position, if a base drops below the specified quality, the sequence to its left are trimmed. |\n",
    "| `TRAILING` | Starting from the 3' position, if a base drops below the specified quality, the sequence to its right are trimmed. |\n",
    "| `SLIDINGWINDOW:n:m` | A window of (*n*) consecutive bases is taken. If average of the _n_ bases fall below the threshold _m_, the sequence is trimmed to the left. The window then moves to the next _n_ consecutive bases and continues the algorithm. |\n",
    "| `MINLEN` | Trimmed reads that fall below the specified are discarded. |"
   ]
  },
  {
   "cell_type": "markdown",
   "metadata": {},
   "source": [
    "Besides these, the `MAXINFO` parameter is also great to use since it finds a balance between quality and information (i.e. sequence length).\n",
    "\n",
    "You can find the description of other `trimmomatic` parameters here: [Trimmomatic Documentation](http://www.usadellab.org/cms/uploads/supplementary/Trimmomatic/TrimmomaticManual_V0.32.pdf)"
   ]
  },
  {
   "cell_type": "code",
   "execution_count": null,
   "metadata": {},
   "outputs": [],
   "source": [
    "!trimmomatic PE \\\n",
    "    raw-reads/1_F.fastq.gz \\\n",
    "    raw-reads/1_R.fastq.gz \\\n",
    "    trimmomatic/ofp.fastq \\\n",
    "    trimmomatic/ofu.fastq \\\n",
    "    trimmomatic/orp.fastq \\\n",
    "    trimmomatic/oru.fastq \\\n",
    "    ILLUMINACLIP:TruSeq3-PE.fa:2:30:10:8:true \\\n",
    "    LEADING:20 \\\n",
    "    TRAILING:20 \\\n",
    "    SLIDINGWINDOW:5:25 \\\n",
    "    MINLEN:75"
   ]
  },
  {
   "cell_type": "markdown",
   "metadata": {},
   "source": [
    "<div class=\"alert alert-block alert-info\">\n",
    "<b>Tip:</b> \n",
    "    \n",
    "Check the standard output of <code>trimmomatic</code> to see how many paired reads are left after filtering. If you think you're losing too many reads on your data and if your objective permits, try to be a bit more lenient with your trimming and filtering parameters (e.g. lower <code>MINLEN</code>).\n",
    "</div>"
   ]
  },
  {
   "cell_type": "markdown",
   "metadata": {},
   "source": [
    "<div class=\"alert alert-block alert-warning\">\n",
    "<b>Warning:</b> \n",
    "    \n",
    "The command above only processes the <code>1_F.fastq.gz</code> and <code>1_R.fastq.gz</code> read pairs. If you have multiple datasets, you have to rerun the code block for those libraries. Make sure to replace the filenames of the outputs as well. Alternatively, you can also automate this by using a for loop in bash.\n",
    "</div>"
   ]
  },
  {
   "cell_type": "markdown",
   "metadata": {},
   "source": [
    "### Inspect Quality Again\n",
    "\n",
    "After trimming and filtering the reads, for sanity check, inspect the quality of the sequencing libraries again as described in the [Inspect Raw Data](##Inspect-Raw-Data) section."
   ]
  },
  {
   "cell_type": "markdown",
   "metadata": {},
   "source": [
    "---\n",
    "# <font color = 'gray'>(Optional) Removing Host Sequences</font>"
   ]
  },
  {
   "cell_type": "markdown",
   "metadata": {},
   "source": [
    "If your data originates from a host organism and your research focuses, for example, on the associated community only, removing host-derived sequences is essential to ensure that the libraries represent only the relevant information."
   ]
  },
  {
   "cell_type": "markdown",
   "metadata": {},
   "source": [
    "### Map Reads\n",
    "\n",
    "First, you need to map the clean reads to a genome assembly of your host organism. The [NCBI Genomes database](https://www.ncbi.nlm.nih.gov/home/genomes/) is a useful resource for accessing genome assemblies of various organisms.\n",
    "\n",
    "`minimap2` will be utilized to perform the mapping. We also assume that the name of the assembly file is `Host_Genome.fna`. "
   ]
  },
  {
   "cell_type": "code",
   "execution_count": null,
   "metadata": {},
   "outputs": [],
   "source": [
    "!minimap2 \\\n",
    "    --split-prefix=tmp$$ \\\n",
    "    -a \\\n",
    "    -xsr Host_Genome.fna \\\n",
    "    ofp.fastq orp.fastq | samtools view -bh | samtools sort -o output.bam"
   ]
  },
  {
   "cell_type": "markdown",
   "metadata": {},
   "source": [
    "Then the alignment file (`output.bam`) is indexed."
   ]
  },
  {
   "cell_type": "code",
   "execution_count": null,
   "metadata": {},
   "outputs": [],
   "source": [
    "!samtools index output.bam"
   ]
  },
  {
   "cell_type": "markdown",
   "metadata": {},
   "source": [
    "### Get Non-host Reads"
   ]
  },
  {
   "cell_type": "markdown",
   "metadata": {},
   "source": [
    "After mapping, extract the reads that did not map to the host genome. This subset of reads should now be largely free of host sequences and better represent the community of interest."
   ]
  },
  {
   "cell_type": "code",
   "execution_count": null,
   "metadata": {},
   "outputs": [],
   "source": [
    "samtools fastq -F 3584 -f 77 output.bam  | gzip -c > not_host/1_F_no_host.fastq.gz\n",
    "samtools fastq -F 3584 -f 141 output.bam | gzip -c > not_host/1_R_no_host.fastq.gz"
   ]
  }
 ],
 "metadata": {
  "kernelspec": {
   "display_name": "Python 3",
   "language": "python",
   "name": "python3"
  },
  "language_info": {
   "codemirror_mode": {
    "name": "ipython",
    "version": 3
   },
   "file_extension": ".py",
   "mimetype": "text/x-python",
   "name": "python",
   "nbconvert_exporter": "python",
   "pygments_lexer": "ipython3",
   "version": "3.8.10"
  }
 },
 "nbformat": 4,
 "nbformat_minor": 4
}
