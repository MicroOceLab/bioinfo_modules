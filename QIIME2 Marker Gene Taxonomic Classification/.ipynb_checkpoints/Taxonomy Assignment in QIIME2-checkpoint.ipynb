{
 "cells": [
  {
   "cell_type": "markdown",
   "id": "49357b79",
   "metadata": {},
   "source": [
    "# Module: Taxonomy Assignment in QIIME2\n",
    "\n",
    "Taxonomic annotation in metabarcoding is the process of assigning biological classifications to DNA sequences obtained from environmental samples. After sequencing, the raw reads are typically clustered or denoised into unique representative sequences, which are then matched to reference databases. This matching process relies on specific genetic markers, allowing for identification at various taxonomic levels, from broad classifications (e.g., phylum) to finer ones (e.g., species).\n",
    "\n",
    "This notebook demonstrates how taxonomic assignment is performed in QIIME2 using pre-built classifier.\n",
    "\n",
    "The following references were used for this tutorial: [LangilleLab SOP](https://github.com/LangilleLab/microbiome_helper/wiki/Amplicon-SOP-v2-(qiime2-2020.8)), and [\"Moving pictures\" Tutorial](https://docs.qiime2.org/2024.10/tutorials/moving-pictures/).\n",
    "\n",
    "Created by: _Microbial Oceanography Laboratory (MOLab)_"
   ]
  },
  {
   "cell_type": "markdown",
   "id": "46083112",
   "metadata": {},
   "source": [
    "---\n",
    "## How to Use This Notebook\n",
    "\n",
    "1. Activate conda environment in terminal window. Make sure to change the environment name to what is applicable in your case.\n",
    ">`conda activate qiime2-2023.2`\n",
    "2. Open jupyter notebook with the command below and select the notebook.\n",
    ">`jupyter notebook`\n",
    "3. To run the cells in this notebook, press Shift+Enter."
   ]
  },
  {
   "cell_type": "markdown",
   "id": "c11ab320",
   "metadata": {},
   "source": [
    "---\n",
    "## Tools Used\n",
    "1. **QIIME 2 Amplicon Distribution**\n",
    "    - Installation procedure can be found here: [QIIME2 native installation](https://docs.qiime2.org/2024.10/install/native/)"
   ]
  },
  {
   "cell_type": "markdown",
   "id": "09e1050b",
   "metadata": {},
   "source": [
    "---\n",
    "## Starting Files \n",
    "\n",
    "1. `.qza` of type `FeatureData[Sequence]`. Could be generated from OTU clustering or denoising.\n",
    "2. `.qza` of type `FeatureTable[Frequency]`. Could be generated from OTU clustering or denoising.\n",
    "3. `.qza` of type `TaxonomicClassifier`\n",
    "4. Optionally, a metadata file (must be formatted according to QIIME2's specifications: [Metadata in QIIME2](https://docs.qiime2.org/2024.10/tutorials/metadata/))"
   ]
  },
  {
   "cell_type": "markdown",
   "id": "32e52dc8",
   "metadata": {},
   "source": [
    "---\n",
    "## Expected Outputs\n",
    "\n",
    "1. `.qza` of type `FeatureData[Taxonomy]`\n",
    "2. `.qzv` of taxonomic assignments per feature.\n",
    "3. `.qzv` of relative abundance barplot."
   ]
  },
  {
   "cell_type": "markdown",
   "id": "51253c96",
   "metadata": {},
   "source": [
    "---\n",
    "## Table of Contents\n",
    " * [**Taxonomy Assignment**](#Taxonomy-Assignment)  \n",
    "     * [Annotate features](#Annotate-features)\n",
    "     * [Relative abundance barplot](#Relative-abundance-barplot)"
   ]
  },
  {
   "cell_type": "markdown",
   "id": "e6cbf1d2",
   "metadata": {},
   "source": [
    "# <font color = 'gray'>Taxonomy Assignment</font>"
   ]
  },
  {
   "cell_type": "markdown",
   "id": "935b9aec",
   "metadata": {},
   "source": [
    "### Annotate features\n",
    "\n",
    "There are several methods to annotate sequences in QIIME2 (check `qiime feature-classifier --help`). Here, the `classify-sklearn` method will be demonstrated. This requires classifier which you can build yourself ([Training feature classifiers](https://docs.qiime2.org/2024.10/tutorials/feature-classifier/)), or alternatively, you can use the classifiers pre-built by QIIME2's team ([QIIME2 data resources](https://docs.qiime2.org/2024.10/data-resources/#taxonomy-classifiers-for-use-with-q2-feature-classifier)). These pre-built classifiers are specifically catered for ribosomal SSU: Greengenes for 16S and SILVA for both 16S/18S.\n",
    "\n",
    "Below, the classifier that is specified was trained by _MOLab_ using entries from both [SILVA](https://www.arb-silva.de/) and [Nordicana](http://www.cen.ulaval.ca/nordicanad/dpage.aspx?doi=45409XD-79A199B76BCC4110) databases. This resulting classifier is specifically trained for the eukaryotic 18S V4 region. You can find the `.qza` file of the classifier in the same folder as this notebook."
   ]
  },
  {
   "cell_type": "code",
   "execution_count": null,
   "id": "e1b8cffa",
   "metadata": {},
   "outputs": [],
   "source": [
    "!qiime feature-classifier classify-sklearn \\\n",
    "    --i-classifier silva-138-nord-classifier.qza \\\n",
    "    --i-reads rep-seqs.qza \\\n",
    "    --o-classification rep-seqs-taxa.qza \\\n",
    "    --verbose"
   ]
  },
  {
   "cell_type": "markdown",
   "id": "00a670a3",
   "metadata": {},
   "source": [
    "You can then tabulate the per-feature taxonomic assignments."
   ]
  },
  {
   "cell_type": "code",
   "execution_count": null,
   "id": "dab091e1",
   "metadata": {},
   "outputs": [],
   "source": [
    "!qiime metadata tabulate \\\n",
    "    --m-input-file rep-seqs-taxa.qza \\\n",
    "    --o-visualization rep-seqs-taxa.qzv"
   ]
  },
  {
   "cell_type": "markdown",
   "id": "bef74e7b",
   "metadata": {},
   "source": [
    "### Relative abundance barplot"
   ]
  },
  {
   "cell_type": "markdown",
   "id": "5274ecca",
   "metadata": {},
   "source": [
    "Using a feature table (`feature-table.qza`) and the taxonomic annotations (`rep-seqs-taxa.qza`) generated above, you can also summarize the relative abundances of different taxonomic groups using a taxa barplot. Optionally, you could supply a metadata file here using the `--m-metadata-file` option. By doing so, you can sort your samples according to the variables/columns of your metadata file."
   ]
  },
  {
   "cell_type": "code",
   "execution_count": null,
   "id": "a57b0c37",
   "metadata": {},
   "outputs": [],
   "source": [
    "!qiime taxa barplot \\\n",
    "    --i-table feature-table.qza \\\n",
    "    --i-taxonomy rep-seqs-taxa.qza \\\n",
    "    --o-visualization taxa-barplot.qzv"
   ]
  }
 ],
 "metadata": {
  "kernelspec": {
   "display_name": "Python 3 (ipykernel)",
   "language": "python",
   "name": "python3"
  },
  "language_info": {
   "codemirror_mode": {
    "name": "ipython",
    "version": 3
   },
   "file_extension": ".py",
   "mimetype": "text/x-python",
   "name": "python",
   "nbconvert_exporter": "python",
   "pygments_lexer": "ipython3",
   "version": "3.8.15"
  }
 },
 "nbformat": 4,
 "nbformat_minor": 5
}
